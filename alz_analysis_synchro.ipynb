{
 "cells": [
  {
   "cell_type": "code",
   "execution_count": 25,
   "id": "ee156e48-afed-4b42-adca-bca958b2e03c",
   "metadata": {},
   "outputs": [],
   "source": [
    "import numpy as np \n",
    "import pandas as pd\n",
    "import mne \n",
    "import os\n",
    "import plotly.graph_objects as go \n",
    "import multiprocessing\n",
    "import synchro_code as sc #NOTE: this is a folder that store my code. It is not a common library. \n",
    "\n",
    "from tqdm import tqdm\n",
    "from bids import BIDSLayout\n",
    "from bids.tests import get_test_data_path\n",
    "from joblib import Parallel, delayed"
   ]
  },
  {
   "cell_type": "markdown",
   "id": "b27a1e02-ceb2-440a-adcb-f5ca90907c25",
   "metadata": {},
   "source": [
    "# Extract the data"
   ]
  },
  {
   "cell_type": "code",
   "execution_count": 2,
   "id": "126eec6f-b8f5-4329-9126-a526837fdf3a",
   "metadata": {},
   "outputs": [
    {
     "name": "stdout",
     "output_type": "stream",
     "text": [
      "   participant_id Gender  Age Group  MMSE\n",
      "0         sub-001      F   57     A    16\n",
      "1         sub-002      F   78     A    22\n",
      "2         sub-003      M   70     A    14\n",
      "3         sub-004      F   67     A    20\n",
      "4         sub-005      M   70     A    22\n",
      "..            ...    ...  ...   ...   ...\n",
      "83        sub-084      F   71     F    24\n",
      "84        sub-085      M   64     F    26\n",
      "85        sub-086      M   49     F    26\n",
      "86        sub-087      M   73     F    24\n",
      "87        sub-088      M   55     F    24\n",
      "\n",
      "[88 rows x 5 columns]\n"
     ]
    }
   ],
   "source": [
    "# @title Extract the data\n",
    "#extract the data for [difference group of participants]\n",
    "participants_file = '/home/hengjie/Desktop/alzheimer_openneuro/participants.tsv'\n",
    "\n",
    "participants_df = pd.read_csv(participants_file, delimiter='\\t')\n",
    "\n",
    "#alzheimer group\n",
    "alz_part = participants_df[participants_df['Group'] == 'A']\n",
    "alz_id = alz_part['participant_id'].tolist()\n",
    "alz_id = [s.replace('sub-', '') for s in alz_id]\n",
    "\n",
    "#frontotemporal dementia group\n",
    "dem_part = participants_df[participants_df['Group'] == 'F']\n",
    "dem_id = dem_part['participant_id'].tolist()\n",
    "dem_id = [s.replace('sub-', '') for s in dem_id]\n",
    "\n",
    "#healthy group\n",
    "con_part = participants_df[participants_df['Group'] == 'C']\n",
    "con_id = con_part['participant_id'].tolist()\n",
    "con_id = [s.replace('sub-', '') for s in con_id]\n",
    "\n",
    "#particiapants data\n",
    "print(participants_df)"
   ]
  },
  {
   "cell_type": "code",
   "execution_count": 3,
   "id": "3a4038d1-baad-4272-bdaa-7d8dd8813e93",
   "metadata": {},
   "outputs": [],
   "source": [
    "# @title Read the BIDS format dataset\n",
    "#read the BIDS format dataset\n",
    "#NOTE: the [derivatives] should use the [derivatives] way of reading it but it does not work in this case. Hence, the author copy the [metadata] to the [derivatives].\n",
    "data_path = os.path.join(get_test_data_path(), '/home/hengjie/Desktop/alzheimer_openneuro/derivatives')\n",
    "layout = BIDSLayout(data_path)"
   ]
  },
  {
   "cell_type": "code",
   "execution_count": 4,
   "id": "982c96f9-60c7-4da6-bb07-0870dd0f0231",
   "metadata": {},
   "outputs": [],
   "source": [
    "alz_eeg_file = layout.get(subject=alz_id, return_type='filename', extension='.set')\n",
    "dem_eeg_file = layout.get(subject=dem_id, return_type='filename', extension='.set')\n",
    "con_eeg_file = layout.get(subject=con_id, return_type='filename', extension='.set')"
   ]
  },
  {
   "cell_type": "code",
   "execution_count": 126,
   "id": "da055a72-384d-455f-b6a6-d9f83fa77902",
   "metadata": {},
   "outputs": [
    {
     "name": "stdout",
     "output_type": "stream",
     "text": [
      "global field synchronization: 0.1433404970162773\n"
     ]
    }
   ],
   "source": [
    "#testing for [global field synchronization]\n",
    "temp_data = mne.io.read_raw_eeglab(con_eeg_file[0], preload=True) #read the data\n",
    "temp_data_all = temp_data.get_data()\n",
    "temp_data_time = temp_data.times\n",
    "global_func_connect_data = sc.global_func_connect(data=temp_data_all, int_freq=5, time=temp_data_time)\n",
    "global_field_sync_data = sc.global_field_sync(global_func_connect_data)\n",
    "print(f'global field synchronization: {global_field_sync_data}')"
   ]
  },
  {
   "cell_type": "code",
   "execution_count": 127,
   "id": "467c1ccb-8084-4624-ab2a-bb048e14209a",
   "metadata": {},
   "outputs": [
    {
     "data": {
      "text/plain": [
       "500.0"
      ]
     },
     "execution_count": 127,
     "metadata": {},
     "output_type": "execute_result"
    }
   ],
   "source": [
    "temp_data.info['sfreq']"
   ]
  },
  {
   "cell_type": "code",
   "execution_count": 41,
   "id": "21cc1880-22da-4380-b6e0-7898dc540517",
   "metadata": {},
   "outputs": [
    {
     "name": "stderr",
     "output_type": "stream",
     "text": [
      "100%|███████████████████████████████████████████████████████████████████████████| 19/19 [00:02<00:00,  6.58it/s]\n"
     ]
    },
    {
     "name": "stdout",
     "output_type": "stream",
     "text": [
      "check PMF of data: \t 1.0\n",
      "mean of data: \t 0.9475129172564665\n",
      "std of data: \t 0.18175940203522636\n",
      "check PMF of normal: \t 1.0000000000000004\n",
      "check normal PMF mean: \t 0.9999643200000002\n",
      "check normal PMF std: \t 0.10011792730044716\n",
      "bin size of PMF: 500\n"
     ]
    },
    {
     "name": "stderr",
     "output_type": "stream",
     "text": [
      "100%|███████████████████████████████████████████████████████████████| 388550/388550 [00:01<00:00, 253044.37it/s]\n"
     ]
    },
    {
     "name": "stdout",
     "output_type": "stream",
     "text": [
      "check PMF of data: \t 1.0000000000000002\n",
      "mean of data: \t 0.8698549284376386\n",
      "std of data: \t 0.3107344664841139\n",
      "check PMF of normal: \t 1.0000000000000002\n",
      "check normal PMF mean: \t 1.0000232800000002\n",
      "check normal PMF std: \t 0.09989384174232976\n",
      "bin size of PMF: 500\n",
      "cross synchronization divergence channel: 0.6834917339220964\n",
      "cross synchronization divergence: 0.6382655977702032\n"
     ]
    }
   ],
   "source": [
    "#testing for [cross synchronization divergence]\n",
    "temp_data = mne.io.read_raw_eeglab(con_eeg_file[0], preload=True) #read the data\n",
    "temp_data_all = temp_data.get_data()\n",
    "temp_data_time = temp_data.times\n",
    "phase_data = sc.phase_lock_seq(data=temp_data_all)\n",
    "cross_synch_chnl_data = sc.cross_synch(data=phase_data[0,1])\n",
    "cross_synch_data = sc.cross_synch_sys(data=phase_data)\n",
    "print(f'cross synchronization divergence channel: {cross_synch_chnl_data}')\n",
    "print(f'cross synchronization divergence: {cross_synch_data}')"
   ]
  },
  {
   "cell_type": "markdown",
   "id": "0beda2e8-dc93-4a5e-9e2f-a90eb7e87c79",
   "metadata": {},
   "source": [
    "# Global field synchronization"
   ]
  },
  {
   "cell_type": "code",
   "execution_count": 128,
   "id": "487dc7b4-de09-4eea-9cb0-08f0e8b00d89",
   "metadata": {
    "collapsed": true,
    "jupyter": {
     "outputs_hidden": true
    },
    "tags": []
   },
   "outputs": [
    {
     "name": "stderr",
     "output_type": "stream",
     "text": [
      "  9%|██████▌                                                                  | 90/1000 [00:12<02:15,  6.72it/s]/home/hengjie/anaconda3/lib/python3.9/site-packages/joblib/externals/loky/process_executor.py:702: UserWarning:\n",
      "\n",
      "A worker stopped while some jobs were given to the executor. This can be caused by a too short worker timeout or by a memory leak.\n",
      "\n",
      "100%|███████████████████████████████████████████████████████████████████████| 1000/1000 [03:30<00:00,  4.75it/s]\n",
      "100%|███████████████████████████████████████████████████████████████████████| 1000/1000 [02:11<00:00,  7.59it/s]\n",
      "  2%|█▋                                                                       | 2/88 [05:57<4:05:06, 171.01s/it]/tmp/ipykernel_2820675/1118315950.py:11: RuntimeWarning:\n",
      "\n",
      "The data contains 'boundary' events, indicating data discontinuities. Be cautious of filtering and epoching around these events.\n",
      "\n",
      "100%|███████████████████████████████████████████████████████████████████████| 1000/1000 [02:01<00:00,  8.25it/s]\n",
      "  3%|██▍                                                                      | 3/88 [08:04<3:34:06, 151.13s/it]/tmp/ipykernel_2820675/1118315950.py:11: RuntimeWarning:\n",
      "\n",
      "The data contains 'boundary' events, indicating data discontinuities. Be cautious of filtering and epoching around these events.\n",
      "\n",
      "100%|███████████████████████████████████████████████████████████████████████| 1000/1000 [02:31<00:00,  6.58it/s]\n",
      "100%|███████████████████████████████████████████████████████████████████████| 1000/1000 [01:34<00:00, 10.58it/s]\n",
      "  6%|████▏                                                                    | 5/88 [12:27<3:07:57, 135.88s/it]/tmp/ipykernel_2820675/1118315950.py:11: RuntimeWarning:\n",
      "\n",
      "The data contains 'boundary' events, indicating data discontinuities. Be cautious of filtering and epoching around these events.\n",
      "\n",
      "100%|███████████████████████████████████████████████████████████████████████| 1000/1000 [01:02<00:00, 16.09it/s]\n",
      "  7%|████▉                                                                    | 6/88 [13:33<2:32:56, 111.91s/it]/tmp/ipykernel_2820675/1118315950.py:11: RuntimeWarning:\n",
      "\n",
      "The data contains 'boundary' events, indicating data discontinuities. Be cautious of filtering and epoching around these events.\n",
      "\n",
      "100%|███████████████████████████████████████████████████████████████████████| 1000/1000 [04:28<00:00,  3.72it/s]\n",
      "  8%|█████▊                                                                   | 7/88 [18:09<3:43:41, 165.70s/it]/tmp/ipykernel_2820675/1118315950.py:11: RuntimeWarning:\n",
      "\n",
      "The data contains 'boundary' events, indicating data discontinuities. Be cautious of filtering and epoching around these events.\n",
      "\n",
      "100%|███████████████████████████████████████████████████████████████████████| 1000/1000 [05:24<00:00,  3.08it/s]\n",
      "  9%|██████▋                                                                  | 8/88 [23:50<4:55:04, 221.30s/it]/tmp/ipykernel_2820675/1118315950.py:11: RuntimeWarning:\n",
      "\n",
      "The data contains 'boundary' events, indicating data discontinuities. Be cautious of filtering and epoching around these events.\n",
      "\n",
      "100%|███████████████████████████████████████████████████████████████████████| 1000/1000 [03:31<00:00,  4.72it/s]\n",
      " 10%|███████▍                                                                 | 9/88 [27:34<4:52:46, 222.36s/it]/tmp/ipykernel_2820675/1118315950.py:11: RuntimeWarning:\n",
      "\n",
      "The data contains 'boundary' events, indicating data discontinuities. Be cautious of filtering and epoching around these events.\n",
      "\n",
      "100%|███████████████████████████████████████████████████████████████████████| 1000/1000 [09:05<00:00,  1.83it/s]\n",
      " 11%|████████▏                                                               | 10/88 [37:02<7:07:52, 329.13s/it]/tmp/ipykernel_2820675/1118315950.py:11: RuntimeWarning:\n",
      "\n",
      "The data contains 'boundary' events, indicating data discontinuities. Be cautious of filtering and epoching around these events.\n",
      "\n",
      "100%|███████████████████████████████████████████████████████████████████████| 1000/1000 [03:22<00:00,  4.95it/s]\n",
      " 12%|█████████                                                               | 11/88 [40:37<6:17:27, 294.13s/it]/tmp/ipykernel_2820675/1118315950.py:11: RuntimeWarning:\n",
      "\n",
      "The data contains 'boundary' events, indicating data discontinuities. Be cautious of filtering and epoching around these events.\n",
      "\n",
      "100%|███████████████████████████████████████████████████████████████████████| 1000/1000 [03:01<00:00,  5.51it/s]\n",
      " 14%|█████████▊                                                              | 12/88 [43:51<5:33:48, 263.54s/it]/tmp/ipykernel_2820675/1118315950.py:11: RuntimeWarning:\n",
      "\n",
      "The data contains 'boundary' events, indicating data discontinuities. Be cautious of filtering and epoching around these events.\n",
      "\n",
      "100%|███████████████████████████████████████████████████████████████████████| 1000/1000 [01:43<00:00,  9.65it/s]\n",
      " 15%|██████████▋                                                             | 13/88 [45:42<4:31:39, 217.32s/it]/tmp/ipykernel_2820675/1118315950.py:11: RuntimeWarning:\n",
      "\n",
      "The data contains 'boundary' events, indicating data discontinuities. Be cautious of filtering and epoching around these events.\n",
      "\n",
      "100%|███████████████████████████████████████████████████████████████████████| 1000/1000 [05:52<00:00,  2.84it/s]\n",
      " 16%|███████████▍                                                            | 14/88 [51:56<5:26:33, 264.78s/it]/tmp/ipykernel_2820675/1118315950.py:11: RuntimeWarning:\n",
      "\n",
      "The data contains 'boundary' events, indicating data discontinuities. Be cautious of filtering and epoching around these events.\n",
      "\n",
      "100%|███████████████████████████████████████████████████████████████████████| 1000/1000 [02:54<00:00,  5.72it/s]\n",
      " 17%|████████████▎                                                           | 15/88 [55:01<4:52:55, 240.75s/it]/tmp/ipykernel_2820675/1118315950.py:11: RuntimeWarning:\n",
      "\n",
      "The data contains 'boundary' events, indicating data discontinuities. Be cautious of filtering and epoching around these events.\n",
      "\n",
      "100%|███████████████████████████████████████████████████████████████████████| 1000/1000 [01:57<00:00,  8.50it/s]\n",
      " 18%|█████████████                                                           | 16/88 [57:06<4:07:09, 205.97s/it]/tmp/ipykernel_2820675/1118315950.py:11: RuntimeWarning:\n",
      "\n",
      "The data contains 'boundary' events, indicating data discontinuities. Be cautious of filtering and epoching around these events.\n",
      "\n",
      "100%|███████████████████████████████████████████████████████████████████████| 1000/1000 [06:15<00:00,  2.66it/s]\n",
      " 19%|█████████████▌                                                        | 17/88 [1:03:33<5:08:04, 260.34s/it]/tmp/ipykernel_2820675/1118315950.py:11: RuntimeWarning:\n",
      "\n",
      "The data contains 'boundary' events, indicating data discontinuities. Be cautious of filtering and epoching around these events.\n",
      "\n",
      "100%|███████████████████████████████████████████████████████████████████████| 1000/1000 [03:14<00:00,  5.13it/s]\n",
      " 20%|██████████████▎                                                       | 18/88 [1:06:58<4:44:20, 243.71s/it]/tmp/ipykernel_2820675/1118315950.py:11: RuntimeWarning:\n",
      "\n",
      "The data contains 'boundary' events, indicating data discontinuities. Be cautious of filtering and epoching around these events.\n",
      "\n",
      "100%|███████████████████████████████████████████████████████████████████████| 1000/1000 [06:34<00:00,  2.54it/s]\n",
      "100%|███████████████████████████████████████████████████████████████████████| 1000/1000 [05:38<00:00,  2.96it/s]\n",
      " 23%|███████████████▉                                                      | 20/88 [1:19:50<5:55:44, 313.90s/it]/tmp/ipykernel_2820675/1118315950.py:11: RuntimeWarning:\n",
      "\n",
      "The data contains 'boundary' events, indicating data discontinuities. Be cautious of filtering and epoching around these events.\n",
      "\n",
      "100%|███████████████████████████████████████████████████████████████████████| 1000/1000 [05:19<00:00,  3.13it/s]\n",
      " 24%|████████████████▋                                                     | 21/88 [1:25:28<5:58:43, 321.25s/it]/tmp/ipykernel_2820675/1118315950.py:11: RuntimeWarning:\n",
      "\n",
      "The data contains 'boundary' events, indicating data discontinuities. Be cautious of filtering and epoching around these events.\n",
      "\n",
      "100%|███████████████████████████████████████████████████████████████████████| 1000/1000 [04:16<00:00,  3.90it/s]\n",
      " 25%|█████████████████▌                                                    | 22/88 [1:30:03<5:38:05, 307.36s/it]/tmp/ipykernel_2820675/1118315950.py:11: RuntimeWarning:\n",
      "\n",
      "The data contains 'boundary' events, indicating data discontinuities. Be cautious of filtering and epoching around these events.\n",
      "\n",
      "100%|███████████████████████████████████████████████████████████████████████| 1000/1000 [04:38<00:00,  3.59it/s]\n",
      " 26%|██████████████████▎                                                   | 23/88 [1:34:58<5:29:01, 303.72s/it]/tmp/ipykernel_2820675/1118315950.py:11: RuntimeWarning:\n",
      "\n",
      "The data contains 'boundary' events, indicating data discontinuities. Be cautious of filtering and epoching around these events.\n",
      "\n",
      "100%|███████████████████████████████████████████████████████████████████████| 1000/1000 [02:02<00:00,  8.15it/s]\n",
      " 27%|███████████████████                                                   | 24/88 [1:37:04<4:26:49, 250.15s/it]/tmp/ipykernel_2820675/1118315950.py:11: RuntimeWarning:\n",
      "\n",
      "The data contains 'boundary' events, indicating data discontinuities. Be cautious of filtering and epoching around these events.\n",
      "\n",
      "100%|███████████████████████████████████████████████████████████████████████| 1000/1000 [03:43<00:00,  4.47it/s]\n",
      " 28%|███████████████████▉                                                  | 25/88 [1:41:03<4:19:14, 246.89s/it]/tmp/ipykernel_2820675/1118315950.py:11: RuntimeWarning:\n",
      "\n",
      "The data contains 'boundary' events, indicating data discontinuities. Be cautious of filtering and epoching around these events.\n",
      "\n",
      "100%|███████████████████████████████████████████████████████████████████████| 1000/1000 [03:12<00:00,  5.20it/s]\n",
      " 30%|████████████████████▋                                                 | 26/88 [1:44:27<4:01:55, 234.12s/it]/tmp/ipykernel_2820675/1118315950.py:11: RuntimeWarning:\n",
      "\n",
      "The data contains 'boundary' events, indicating data discontinuities. Be cautious of filtering and epoching around these events.\n",
      "\n",
      "100%|███████████████████████████████████████████████████████████████████████| 1000/1000 [01:10<00:00, 14.18it/s]\n",
      " 31%|█████████████████████▍                                                | 27/88 [1:45:43<3:09:34, 186.46s/it]/tmp/ipykernel_2820675/1118315950.py:11: RuntimeWarning:\n",
      "\n",
      "The data contains 'boundary' events, indicating data discontinuities. Be cautious of filtering and epoching around these events.\n",
      "\n",
      "100%|███████████████████████████████████████████████████████████████████████| 1000/1000 [04:23<00:00,  3.79it/s]\n",
      " 32%|██████████████████████▎                                               | 28/88 [1:50:23<3:34:40, 214.67s/it]/tmp/ipykernel_2820675/1118315950.py:11: RuntimeWarning:\n",
      "\n",
      "The data contains 'boundary' events, indicating data discontinuities. Be cautious of filtering and epoching around these events.\n",
      "\n",
      "100%|███████████████████████████████████████████████████████████████████████| 1000/1000 [04:09<00:00,  4.00it/s]\n",
      " 33%|███████████████████████                                               | 29/88 [1:54:48<3:46:02, 229.87s/it]/tmp/ipykernel_2820675/1118315950.py:11: RuntimeWarning:\n",
      "\n",
      "The data contains 'boundary' events, indicating data discontinuities. Be cautious of filtering and epoching around these events.\n",
      "\n",
      "100%|███████████████████████████████████████████████████████████████████████| 1000/1000 [03:14<00:00,  5.14it/s]\n",
      " 34%|███████████████████████▊                                              | 30/88 [1:58:14<3:35:17, 222.72s/it]/tmp/ipykernel_2820675/1118315950.py:11: RuntimeWarning:\n",
      "\n",
      "The data contains 'boundary' events, indicating data discontinuities. Be cautious of filtering and epoching around these events.\n",
      "\n",
      "100%|███████████████████████████████████████████████████████████████████████| 1000/1000 [07:53<00:00,  2.11it/s]\n",
      " 35%|████████████████████████▋                                             | 31/88 [2:06:34<4:50:24, 305.70s/it]/tmp/ipykernel_2820675/1118315950.py:11: RuntimeWarning:\n",
      "\n",
      "The data contains 'boundary' events, indicating data discontinuities. Be cautious of filtering and epoching around these events.\n",
      "\n",
      "100%|███████████████████████████████████████████████████████████████████████| 1000/1000 [04:01<00:00,  4.15it/s]\n",
      " 36%|█████████████████████████▍                                            | 32/88 [2:10:49<4:31:12, 290.58s/it]/tmp/ipykernel_2820675/1118315950.py:11: RuntimeWarning:\n",
      "\n",
      "The data contains 'boundary' events, indicating data discontinuities. Be cautious of filtering and epoching around these events.\n",
      "\n",
      "100%|███████████████████████████████████████████████████████████████████████| 1000/1000 [03:53<00:00,  4.28it/s]\n",
      " 38%|██████████████████████████▎                                           | 33/88 [2:14:59<4:15:04, 278.26s/it]/tmp/ipykernel_2820675/1118315950.py:11: RuntimeWarning:\n",
      "\n",
      "The data contains 'boundary' events, indicating data discontinuities. Be cautious of filtering and epoching around these events.\n",
      "\n",
      "100%|███████████████████████████████████████████████████████████████████████| 1000/1000 [02:10<00:00,  7.65it/s]\n",
      " 39%|███████████████████████████                                           | 34/88 [2:17:18<3:32:55, 236.58s/it]/tmp/ipykernel_2820675/1118315950.py:11: RuntimeWarning:\n",
      "\n",
      "The data contains 'boundary' events, indicating data discontinuities. Be cautious of filtering and epoching around these events.\n",
      "\n",
      "100%|███████████████████████████████████████████████████████████████████████| 1000/1000 [02:01<00:00,  8.22it/s]\n",
      " 40%|███████████████████████████▊                                          | 35/88 [2:19:27<3:00:25, 204.26s/it]/tmp/ipykernel_2820675/1118315950.py:11: RuntimeWarning:\n",
      "\n",
      "The data contains 'boundary' events, indicating data discontinuities. Be cautious of filtering and epoching around these events.\n",
      "\n",
      "100%|███████████████████████████████████████████████████████████████████████| 1000/1000 [05:32<00:00,  3.01it/s]\n",
      "100%|███████████████████████████████████████████████████████████████████████| 1000/1000 [03:49<00:00,  4.36it/s]\n",
      " 42%|█████████████████████████████▍                                        | 37/88 [2:29:19<3:29:00, 245.89s/it]/tmp/ipykernel_2820675/1118315950.py:11: RuntimeWarning:\n",
      "\n",
      "The data contains 'boundary' events, indicating data discontinuities. Be cautious of filtering and epoching around these events.\n",
      "\n",
      "100%|███████████████████████████████████████████████████████████████████████| 1000/1000 [06:19<00:00,  2.63it/s]\n",
      " 43%|██████████████████████████████▏                                       | 38/88 [2:35:48<4:00:47, 288.95s/it]/tmp/ipykernel_2820675/1118315950.py:11: RuntimeWarning:\n",
      "\n",
      "The data contains 'boundary' events, indicating data discontinuities. Be cautious of filtering and epoching around these events.\n",
      "\n",
      "100%|███████████████████████████████████████████████████████████████████████| 1000/1000 [01:48<00:00,  9.19it/s]\n",
      " 44%|███████████████████████████████                                       | 39/88 [2:37:43<3:13:18, 236.71s/it]/tmp/ipykernel_2820675/1118315950.py:11: RuntimeWarning:\n",
      "\n",
      "The data contains 'boundary' events, indicating data discontinuities. Be cautious of filtering and epoching around these events.\n",
      "\n",
      "100%|███████████████████████████████████████████████████████████████████████| 1000/1000 [05:26<00:00,  3.07it/s]\n",
      " 45%|███████████████████████████████▊                                      | 40/88 [2:43:27<3:35:13, 269.04s/it]/tmp/ipykernel_2820675/1118315950.py:11: RuntimeWarning:\n",
      "\n",
      "The data contains 'boundary' events, indicating data discontinuities. Be cautious of filtering and epoching around these events.\n",
      "\n",
      "100%|███████████████████████████████████████████████████████████████████████| 1000/1000 [04:53<00:00,  3.41it/s]\n",
      " 47%|████████████████████████████████▌                                     | 41/88 [2:48:39<3:40:51, 281.94s/it]/tmp/ipykernel_2820675/1118315950.py:11: RuntimeWarning:\n",
      "\n",
      "The data contains 'boundary' events, indicating data discontinuities. Be cautious of filtering and epoching around these events.\n",
      "\n",
      "100%|███████████████████████████████████████████████████████████████████████| 1000/1000 [04:39<00:00,  3.58it/s]\n",
      "100%|███████████████████████████████████████████████████████████████████████| 1000/1000 [05:22<00:00,  3.10it/s]\n",
      "100%|███████████████████████████████████████████████████████████████████████| 1000/1000 [01:44<00:00,  9.59it/s]\n",
      " 50%|███████████████████████████████████                                   | 44/88 [3:01:04<2:59:28, 244.74s/it]/tmp/ipykernel_2820675/1118315950.py:11: RuntimeWarning:\n",
      "\n",
      "The data contains 'boundary' events, indicating data discontinuities. Be cautious of filtering and epoching around these events.\n",
      "\n",
      "100%|███████████████████████████████████████████████████████████████████████| 1000/1000 [02:16<00:00,  7.35it/s]\n",
      " 51%|███████████████████████████████████▊                                  | 45/88 [3:03:28<2:33:42, 214.47s/it]/tmp/ipykernel_2820675/1118315950.py:11: RuntimeWarning:\n",
      "\n",
      "The data contains 'boundary' events, indicating data discontinuities. Be cautious of filtering and epoching around these events.\n",
      "\n",
      "100%|███████████████████████████████████████████████████████████████████████| 1000/1000 [04:10<00:00,  3.99it/s]\n",
      " 52%|████████████████████████████████████▌                                 | 46/88 [3:07:54<2:40:55, 229.89s/it]/tmp/ipykernel_2820675/1118315950.py:11: RuntimeWarning:\n",
      "\n",
      "The data contains 'boundary' events, indicating data discontinuities. Be cautious of filtering and epoching around these events.\n",
      "\n",
      "100%|███████████████████████████████████████████████████████████████████████| 1000/1000 [02:47<00:00,  5.96it/s]\n",
      " 53%|█████████████████████████████████████▍                                | 47/88 [3:10:52<2:26:27, 214.33s/it]/tmp/ipykernel_2820675/1118315950.py:11: RuntimeWarning:\n",
      "\n",
      "The data contains 'boundary' events, indicating data discontinuities. Be cautious of filtering and epoching around these events.\n",
      "\n",
      "100%|███████████████████████████████████████████████████████████████████████| 1000/1000 [02:37<00:00,  6.36it/s]\n",
      " 55%|██████████████████████████████████████▏                               | 48/88 [3:13:39<2:13:24, 200.11s/it]/tmp/ipykernel_2820675/1118315950.py:11: RuntimeWarning:\n",
      "\n",
      "The data contains 'boundary' events, indicating data discontinuities. Be cautious of filtering and epoching around these events.\n",
      "\n",
      "100%|███████████████████████████████████████████████████████████████████████| 1000/1000 [01:36<00:00, 10.33it/s]\n",
      " 56%|██████████████████████████████████████▉                               | 49/88 [3:15:22<1:51:03, 170.87s/it]/tmp/ipykernel_2820675/1118315950.py:11: RuntimeWarning:\n",
      "\n",
      "The data contains 'boundary' events, indicating data discontinuities. Be cautious of filtering and epoching around these events.\n",
      "\n",
      "100%|███████████████████████████████████████████████████████████████████████| 1000/1000 [04:41<00:00,  3.55it/s]\n",
      " 57%|███████████████████████████████████████▊                              | 50/88 [3:20:10<2:10:33, 206.15s/it]/tmp/ipykernel_2820675/1118315950.py:11: RuntimeWarning:\n",
      "\n",
      "The data contains 'boundary' events, indicating data discontinuities. Be cautious of filtering and epoching around these events.\n",
      "\n",
      "100%|███████████████████████████████████████████████████████████████████████| 1000/1000 [04:13<00:00,  3.95it/s]\n",
      " 58%|████████████████████████████████████████▌                             | 51/88 [3:24:37<2:18:25, 224.46s/it]/tmp/ipykernel_2820675/1118315950.py:11: RuntimeWarning:\n",
      "\n",
      "The data contains 'boundary' events, indicating data discontinuities. Be cautious of filtering and epoching around these events.\n",
      "\n",
      "100%|███████████████████████████████████████████████████████████████████████| 1000/1000 [04:33<00:00,  3.66it/s]\n",
      " 59%|█████████████████████████████████████████▎                            | 52/88 [3:29:31<2:27:02, 245.07s/it]/tmp/ipykernel_2820675/1118315950.py:11: RuntimeWarning:\n",
      "\n",
      "The data contains 'boundary' events, indicating data discontinuities. Be cautious of filtering and epoching around these events.\n",
      "\n",
      "100%|███████████████████████████████████████████████████████████████████████| 1000/1000 [01:49<00:00,  9.14it/s]\n",
      " 60%|██████████████████████████████████████████▏                           | 53/88 [3:31:27<2:00:22, 206.36s/it]/tmp/ipykernel_2820675/1118315950.py:11: RuntimeWarning:\n",
      "\n",
      "The data contains 'boundary' events, indicating data discontinuities. Be cautious of filtering and epoching around these events.\n",
      "\n",
      "100%|███████████████████████████████████████████████████████████████████████| 1000/1000 [02:31<00:00,  6.60it/s]\n",
      " 61%|██████████████████████████████████████████▉                           | 54/88 [3:34:07<1:49:06, 192.54s/it]/tmp/ipykernel_2820675/1118315950.py:11: RuntimeWarning:\n",
      "\n",
      "The data contains 'boundary' events, indicating data discontinuities. Be cautious of filtering and epoching around these events.\n",
      "\n",
      "100%|███████████████████████████████████████████████████████████████████████| 1000/1000 [04:28<00:00,  3.72it/s]\n",
      " 62%|███████████████████████████████████████████▊                          | 55/88 [3:38:50<2:00:49, 219.69s/it]/tmp/ipykernel_2820675/1118315950.py:11: RuntimeWarning:\n",
      "\n",
      "The data contains 'boundary' events, indicating data discontinuities. Be cautious of filtering and epoching around these events.\n",
      "\n",
      "100%|███████████████████████████████████████████████████████████████████████| 1000/1000 [03:02<00:00,  5.48it/s]\n",
      "100%|███████████████████████████████████████████████████████████████████████| 1000/1000 [01:13<00:00, 13.56it/s]\n",
      " 65%|█████████████████████████████████████████████▎                        | 57/88 [3:43:22<1:28:48, 171.87s/it]/tmp/ipykernel_2820675/1118315950.py:11: RuntimeWarning:\n",
      "\n",
      "The data contains 'boundary' events, indicating data discontinuities. Be cautious of filtering and epoching around these events.\n",
      "\n",
      "100%|███████████████████████████████████████████████████████████████████████| 1000/1000 [04:03<00:00,  4.11it/s]\n",
      " 66%|██████████████████████████████████████████████▏                       | 58/88 [3:47:44<1:39:23, 198.77s/it]/tmp/ipykernel_2820675/1118315950.py:11: RuntimeWarning:\n",
      "\n",
      "The data contains 'boundary' events, indicating data discontinuities. Be cautious of filtering and epoching around these events.\n",
      "\n",
      "100%|███████████████████████████████████████████████████████████████████████| 1000/1000 [05:59<00:00,  2.78it/s]\n",
      " 67%|██████████████████████████████████████████████▉                       | 59/88 [3:54:03<2:02:19, 253.08s/it]/tmp/ipykernel_2820675/1118315950.py:11: RuntimeWarning:\n",
      "\n",
      "The data contains 'boundary' events, indicating data discontinuities. Be cautious of filtering and epoching around these events.\n",
      "\n",
      "100%|███████████████████████████████████████████████████████████████████████| 1000/1000 [05:06<00:00,  3.26it/s]\n",
      " 68%|███████████████████████████████████████████████▋                      | 60/88 [3:59:26<2:07:53, 274.05s/it]/tmp/ipykernel_2820675/1118315950.py:11: RuntimeWarning:\n",
      "\n",
      "The data contains 'boundary' events, indicating data discontinuities. Be cautious of filtering and epoching around these events.\n",
      "\n",
      "100%|███████████████████████████████████████████████████████████████████████| 1000/1000 [03:58<00:00,  4.18it/s]\n",
      " 69%|████████████████████████████████████████████████▌                     | 61/88 [4:03:35<1:59:55, 266.49s/it]/tmp/ipykernel_2820675/1118315950.py:11: RuntimeWarning:\n",
      "\n",
      "The data contains 'boundary' events, indicating data discontinuities. Be cautious of filtering and epoching around these events.\n",
      "\n",
      "100%|███████████████████████████████████████████████████████████████████████| 1000/1000 [02:08<00:00,  7.80it/s]\n",
      " 70%|█████████████████████████████████████████████████▎                    | 62/88 [4:05:51<1:38:31, 227.37s/it]/tmp/ipykernel_2820675/1118315950.py:11: RuntimeWarning:\n",
      "\n",
      "The data contains 'boundary' events, indicating data discontinuities. Be cautious of filtering and epoching around these events.\n",
      "\n",
      "100%|███████████████████████████████████████████████████████████████████████| 1000/1000 [03:23<00:00,  4.91it/s]\n",
      " 72%|██████████████████████████████████████████████████                    | 63/88 [4:09:29<1:33:35, 224.60s/it]/tmp/ipykernel_2820675/1118315950.py:11: RuntimeWarning:\n",
      "\n",
      "The data contains 'boundary' events, indicating data discontinuities. Be cautious of filtering and epoching around these events.\n",
      "\n",
      "100%|███████████████████████████████████████████████████████████████████████| 1000/1000 [02:45<00:00,  6.04it/s]\n",
      "100%|███████████████████████████████████████████████████████████████████████| 1000/1000 [04:03<00:00,  4.11it/s]\n",
      " 74%|███████████████████████████████████████████████████▋                  | 65/88 [4:16:42<1:25:49, 223.89s/it]/tmp/ipykernel_2820675/1118315950.py:11: RuntimeWarning:\n",
      "\n",
      "The data contains 'boundary' events, indicating data discontinuities. Be cautious of filtering and epoching around these events.\n",
      "\n",
      "100%|███████████████████████████████████████████████████████████████████████| 1000/1000 [02:58<00:00,  5.61it/s]\n",
      "100%|███████████████████████████████████████████████████████████████████████| 1000/1000 [01:38<00:00, 10.15it/s]\n",
      " 76%|█████████████████████████████████████████████████████▎                | 67/88 [4:21:33<1:02:59, 179.96s/it]/tmp/ipykernel_2820675/1118315950.py:11: RuntimeWarning:\n",
      "\n",
      "The data contains 'boundary' events, indicating data discontinuities. Be cautious of filtering and epoching around these events.\n",
      "\n",
      "100%|███████████████████████████████████████████████████████████████████████| 1000/1000 [02:54<00:00,  5.73it/s]\n",
      " 77%|██████████████████████████████████████████████████████                | 68/88 [4:24:37<1:00:27, 181.36s/it]/tmp/ipykernel_2820675/1118315950.py:11: RuntimeWarning:\n",
      "\n",
      "The data contains 'boundary' events, indicating data discontinuities. Be cautious of filtering and epoching around these events.\n",
      "\n",
      "100%|███████████████████████████████████████████████████████████████████████| 1000/1000 [04:32<00:00,  3.67it/s]\n",
      "100%|███████████████████████████████████████████████████████████████████████| 1000/1000 [02:33<00:00,  6.51it/s]\n",
      " 80%|█████████████████████████████████████████████████████████▎              | 70/88 [4:31:59<58:54, 196.36s/it]/tmp/ipykernel_2820675/1118315950.py:11: RuntimeWarning:\n",
      "\n",
      "The data contains 'boundary' events, indicating data discontinuities. Be cautious of filtering and epoching around these events.\n",
      "\n",
      "100%|███████████████████████████████████████████████████████████████████████| 1000/1000 [03:22<00:00,  4.95it/s]\n",
      " 81%|██████████████████████████████████████████████████████████              | 71/88 [4:35:32<57:04, 201.45s/it]/tmp/ipykernel_2820675/1118315950.py:11: RuntimeWarning:\n",
      "\n",
      "The data contains 'boundary' events, indicating data discontinuities. Be cautious of filtering and epoching around these events.\n",
      "\n",
      "100%|███████████████████████████████████████████████████████████████████████| 1000/1000 [03:46<00:00,  4.42it/s]\n",
      " 82%|██████████████████████████████████████████████████████████▉             | 72/88 [4:39:32<56:46, 212.88s/it]/tmp/ipykernel_2820675/1118315950.py:11: RuntimeWarning:\n",
      "\n",
      "The data contains 'boundary' events, indicating data discontinuities. Be cautious of filtering and epoching around these events.\n",
      "\n",
      "100%|███████████████████████████████████████████████████████████████████████| 1000/1000 [05:39<00:00,  2.94it/s]\n",
      " 83%|██████████████████████████████████████████████████████████            | 73/88 [4:45:33<1:04:21, 257.42s/it]/tmp/ipykernel_2820675/1118315950.py:11: RuntimeWarning:\n",
      "\n",
      "The data contains 'boundary' events, indicating data discontinuities. Be cautious of filtering and epoching around these events.\n",
      "\n",
      "100%|███████████████████████████████████████████████████████████████████████| 1000/1000 [06:58<00:00,  2.39it/s]\n",
      " 84%|██████████████████████████████████████████████████████████▊           | 74/88 [4:52:54<1:12:52, 312.35s/it]/tmp/ipykernel_2820675/1118315950.py:11: RuntimeWarning:\n",
      "\n",
      "The data contains 'boundary' events, indicating data discontinuities. Be cautious of filtering and epoching around these events.\n",
      "\n",
      "100%|███████████████████████████████████████████████████████████████████████| 1000/1000 [05:04<00:00,  3.29it/s]\n",
      "100%|███████████████████████████████████████████████████████████████████████| 1000/1000 [01:50<00:00,  9.02it/s]\n",
      " 86%|██████████████████████████████████████████████████████████████▏         | 76/88 [5:00:12<51:05, 255.44s/it]/tmp/ipykernel_2820675/1118315950.py:11: RuntimeWarning:\n",
      "\n",
      "The data contains 'boundary' events, indicating data discontinuities. Be cautious of filtering and epoching around these events.\n",
      "\n",
      "100%|███████████████████████████████████████████████████████████████████████| 1000/1000 [04:38<00:00,  3.60it/s]\n",
      " 88%|███████████████████████████████████████████████████████████████         | 77/88 [5:05:07<49:02, 267.49s/it]/tmp/ipykernel_2820675/1118315950.py:11: RuntimeWarning:\n",
      "\n",
      "The data contains 'boundary' events, indicating data discontinuities. Be cautious of filtering and epoching around these events.\n",
      "\n",
      "100%|███████████████████████████████████████████████████████████████████████| 1000/1000 [05:53<00:00,  2.83it/s]\n",
      " 89%|███████████████████████████████████████████████████████████████▊        | 78/88 [5:11:22<49:55, 299.58s/it]/tmp/ipykernel_2820675/1118315950.py:11: RuntimeWarning:\n",
      "\n",
      "The data contains 'boundary' events, indicating data discontinuities. Be cautious of filtering and epoching around these events.\n",
      "\n",
      "100%|███████████████████████████████████████████████████████████████████████| 1000/1000 [05:27<00:00,  3.06it/s]\n",
      " 90%|████████████████████████████████████████████████████████████████▋       | 79/88 [5:17:10<47:06, 314.09s/it]/tmp/ipykernel_2820675/1118315950.py:11: RuntimeWarning:\n",
      "\n",
      "The data contains 'boundary' events, indicating data discontinuities. Be cautious of filtering and epoching around these events.\n",
      "\n",
      "100%|███████████████████████████████████████████████████████████████████████| 1000/1000 [06:14<00:00,  2.67it/s]\n",
      " 91%|█████████████████████████████████████████████████████████████████▍      | 80/88 [5:23:46<45:09, 338.70s/it]/tmp/ipykernel_2820675/1118315950.py:11: RuntimeWarning:\n",
      "\n",
      "The data contains 'boundary' events, indicating data discontinuities. Be cautious of filtering and epoching around these events.\n",
      "\n",
      "100%|███████████████████████████████████████████████████████████████████████| 1000/1000 [04:53<00:00,  3.40it/s]\n",
      "100%|███████████████████████████████████████████████████████████████████████| 1000/1000 [01:00<00:00, 16.54it/s]\n",
      "100%|███████████████████████████████████████████████████████████████████████| 1000/1000 [05:09<00:00,  3.24it/s]\n",
      "100%|███████████████████████████████████████████████████████████████████████| 1000/1000 [03:50<00:00,  4.33it/s]\n",
      " 95%|████████████████████████████████████████████████████████████████████▋   | 84/88 [5:39:26<17:37, 264.34s/it]/tmp/ipykernel_2820675/1118315950.py:11: RuntimeWarning:\n",
      "\n",
      "The data contains 'boundary' events, indicating data discontinuities. Be cautious of filtering and epoching around these events.\n",
      "\n",
      "100%|███████████████████████████████████████████████████████████████████████| 1000/1000 [03:46<00:00,  4.41it/s]\n",
      " 97%|█████████████████████████████████████████████████████████████████████▌  | 85/88 [5:43:26<12:51, 257.04s/it]/tmp/ipykernel_2820675/1118315950.py:11: RuntimeWarning:\n",
      "\n",
      "The data contains 'boundary' events, indicating data discontinuities. Be cautious of filtering and epoching around these events.\n",
      "\n",
      "100%|███████████████████████████████████████████████████████████████████████| 1000/1000 [03:42<00:00,  4.50it/s]\n",
      " 98%|██████████████████████████████████████████████████████████████████████▎ | 86/88 [5:47:23<08:21, 250.82s/it]/tmp/ipykernel_2820675/1118315950.py:11: RuntimeWarning:\n",
      "\n",
      "The data contains 'boundary' events, indicating data discontinuities. Be cautious of filtering and epoching around these events.\n",
      "\n",
      "100%|███████████████████████████████████████████████████████████████████████| 1000/1000 [03:12<00:00,  5.21it/s]\n",
      " 99%|███████████████████████████████████████████████████████████████████████▏| 87/88 [5:50:47<03:56, 236.88s/it]/tmp/ipykernel_2820675/1118315950.py:11: RuntimeWarning:\n",
      "\n",
      "The data contains 'boundary' events, indicating data discontinuities. Be cautious of filtering and epoching around these events.\n",
      "\n",
      "100%|███████████████████████████████████████████████████████████████████████| 1000/1000 [01:38<00:00, 10.19it/s]\n",
      "100%|████████████████████████████████████████████████████████████████████████| 88/88 [5:52:31<00:00, 240.36s/it]\n"
     ]
    }
   ],
   "source": [
    "int_eeg_file = alz_eeg_file + con_eeg_file + dem_eeg_file\n",
    "\n",
    "freqrange = (0.5, 5) #define the frequency range\n",
    "step_freq = 0.5 #interval within the frequency range\n",
    "\n",
    "participant_id_data = []\n",
    "gfs_mean_data = []\n",
    "gfs_std_data = []\n",
    "\n",
    "for f in tqdm(int_eeg_file, position=0):\n",
    "    temp_data = mne.io.read_raw_eeglab(f, preload=True) #read the data\n",
    "    split_parts = f.split('/')\n",
    "    temp_participant_id = split_parts[-3]\n",
    "    \n",
    "    int_freqrange = np.arange(*freqrange, step_freq)\n",
    "\n",
    "    def process_data(temp_data, freq, time):\n",
    "        temp_global_data = sc.global_func_connect(temp_data, freq, time)\n",
    "        return sc.global_field_sync(temp_global_data)\n",
    "\n",
    "    data_all = temp_data.get_data()\n",
    "    data_time = temp_data.times\n",
    "    gfs_range = Parallel(n_jobs=30)(\n",
    "        delayed(process_data)(data_all, int_freqrange[i], data_time) for i in tqdm(range(len(int_freqrange)), position=0)\n",
    "    )\n",
    "    \n",
    "    participant_id_data.append(temp_participant_id)\n",
    "    gfs_mean_data.append(np.mean(gfs_range))\n",
    "    gfs_std_data.append(np.std(gfs_range))\n",
    "    \n",
    "temp_save_data = np.vstack((participant_id_data, gfs_mean_data, gfs_std_data))\n",
    "temp_save_data = temp_save_data.T\n",
    "\n",
    "df_gfs = pd.DataFrame(temp_save_data, columns=['participant_id', 'gfs_mean', 'gfs_std'])\n",
    "\n",
    "save_folder = '/media/hengjie/4TB/synchronization'\n",
    "df_gfs.to_csv(f'{save_folder}/gfs_freq{np.min(int_freqrange)}-{np.max(int_freqrange)}_step{step_freq}.tsv', sep='\\t', index=False)"
   ]
  },
  {
   "cell_type": "markdown",
   "id": "585a3ab8-70e7-41f5-b752-b6ef8c2b5669",
   "metadata": {},
   "source": [
    "# Cross Synchronization Divergence, in for-loop"
   ]
  },
  {
   "cell_type": "code",
   "execution_count": null,
   "id": "b9cf78e0-c6d0-4b64-ae29-7faea362f161",
   "metadata": {},
   "outputs": [],
   "source": [
    "int_eeg_file = alz_eeg_file + con_eeg_file + dem_eeg_file\n",
    "fmin, fmax = 32, 100\n",
    "chk_mean, chk_std = 1, 0.1\n",
    "pdf_range = 1.5\n",
    "pdf_bins = 'sturges'\n",
    "int_method = 'wass'\n",
    "\n",
    "participant_id_data = []\n",
    "cross_data = []\n",
    "\n",
    "for f in tqdm(int_eeg_file, position=0): \n",
    "    temp_data = mne.io.read_raw_eeglab(f, preload=True) #read the data\n",
    "    temp_elec = temp_data.ch_names #electrode \n",
    "    temp_data = temp_data.pick(temp_elec)\n",
    "    print(len(temp_data.ch_names))\n",
    "    temp_data = temp_data.filter(fmin, fmax) #filter the signals to specific frequency band\n",
    "    split_parts = f.split('/')\n",
    "    temp_participant_id = split_parts[-3]\n",
    "    temp_data_all = temp_data.get_data() #get all the data in array format. \n",
    "    \n",
    "    temp_phase_lock_seq = sc.phase_lock_seq(temp_data_all)\n",
    "    temp_cross_synch_sys = sc.cross_synch_sys(temp_phase_lock_seq, exp_range=pdf_range, bins=pdf_bins, check_mean=chk_mean, check_std=chk_std, check_pdf_info=True, method=int_method)\n",
    "    print(f'cross synchorny: {temp_cross_synch_sys}')\n",
    "    \n",
    "    participant_id_data.append(temp_participant_id)\n",
    "    cross_data.append(temp_cross_synch_sys)\n",
    "    name_elec = ''.join(temp_elec)\n",
    "    \n",
    "temp_save_data = np.vstack((participant_id_data, cross_data))\n",
    "temp_save_data = temp_save_data.T\n",
    "\n",
    "df_gfs = pd.DataFrame(temp_save_data, columns=['participant_id', 'cross_synch'])\n",
    "\n",
    "save_folder = '/media/hengjie/4TB/synchronization'\n",
    "df_gfs.to_csv(f'{save_folder}/cross_synch_freq{fmin}-{fmax}_mean{chk_mean}_std{chk_std}_range{pdf_range}_bins{pdf_bins}_{int_method}_{name_elec}.tsv', sep='\\t', index=False)"
   ]
  },
  {
   "cell_type": "markdown",
   "id": "cfa3db8f-b083-4c7c-a4f4-8008637473d9",
   "metadata": {},
   "source": [
    "# Cross Synchronization Divergence; in parallalization calculation"
   ]
  },
  {
   "cell_type": "code",
   "execution_count": 240,
   "id": "1b0cfd3a-5ea9-4c74-8abd-9dc19b706c15",
   "metadata": {
    "collapsed": true,
    "jupyter": {
     "outputs_hidden": true
    },
    "tags": []
   },
   "outputs": [
    {
     "name": "stderr",
     "output_type": "stream",
     "text": [
      " 15%|███████████                                                                | 13/88 [00:00<00:04, 16.38it/s]"
     ]
    },
    {
     "name": "stdout",
     "output_type": "stream",
     "text": [
      "Filtering raw data in 1 contiguous segment\n",
      "Setting up band-pass filter from 6.5 - 8 Hz\n",
      "\n",
      "FIR filter parameters\n",
      "---------------------\n",
      "Designing a one-pass, zero-phase, non-causal bandpass filter:\n",
      "- Windowed time-domain design (firwin) method\n",
      "- Hamming window with 0.0194 passband ripple and 53 dB stopband attenuation\n",
      "- Lower passband edge: 6.50\n",
      "- Lower transition bandwidth: 2.00 Hz (-6 dB cutoff frequency: 5.50 Hz)\n",
      "- Upper passband edge: 8.00 Hz\n",
      "- Upper transition bandwidth: 2.00 Hz (-6 dB cutoff frequency: 9.00 Hz)\n",
      "- Filter length: 825 samples (1.650 s)\n",
      "\n"
     ]
    },
    {
     "name": "stderr",
     "output_type": "stream",
     "text": [
      "[Parallel(n_jobs=1)]: Using backend SequentialBackend with 1 concurrent workers.\n",
      "[Parallel(n_jobs=1)]: Done   1 out of   1 | elapsed:    0.0s remaining:    0.0s\n",
      "[Parallel(n_jobs=1)]: Done   2 out of   2 | elapsed:    0.0s remaining:    0.0s\n",
      "[Parallel(n_jobs=1)]: Done   3 out of   3 | elapsed:    0.1s remaining:    0.0s\n",
      "[Parallel(n_jobs=1)]: Done   4 out of   4 | elapsed:    0.1s remaining:    0.0s\n",
      "[Parallel(n_jobs=1)]: Done  19 out of  19 | elapsed:    0.3s finished\n",
      "/tmp/ipykernel_2820675/308317976.py:13: RuntimeWarning: The data contains 'boundary' events, indicating data discontinuities. Be cautious of filtering and epoching around these events.\n",
      "/tmp/ipykernel_2820675/308317976.py:13: RuntimeWarning: The data contains 'boundary' events, indicating data discontinuities. Be cautious of filtering and epoching around these events.\n",
      "[Parallel(n_jobs=1)]: Using backend SequentialBackend with 1 concurrent workers.\n",
      "[Parallel(n_jobs=1)]: Done   1 out of   1 | elapsed:    0.0s remaining:    0.0s\n"
     ]
    },
    {
     "name": "stdout",
     "output_type": "stream",
     "text": [
      "Filtering raw data in 1 contiguous segment\n",
      "Setting up band-pass filter from 6.5 - 8 Hz\n",
      "\n",
      "FIR filter parameters\n",
      "---------------------\n",
      "Designing a one-pass, zero-phase, non-causal bandpass filter:\n",
      "- Windowed time-domain design (firwin) method\n",
      "- Hamming window with 0.0194 passband ripple and 53 dB stopband attenuation\n",
      "- Lower passband edge: 6.50\n",
      "- Lower transition bandwidth: 2.00 Hz (-6 dB cutoff frequency: 5.50 Hz)\n",
      "- Upper passband edge: 8.00 Hz\n",
      "- Upper transition bandwidth: 2.00 Hz (-6 dB cutoff frequency: 9.00 Hz)\n",
      "- Filter length: 825 samples (1.650 s)\n",
      "\n",
      "Filtering raw data in 1 contiguous segment\n",
      "Setting up band-pass filter from 6.5 - 8 Hz\n",
      "\n",
      "FIR filter parameters\n",
      "---------------------\n",
      "Designing a one-pass, zero-phase, non-causal bandpass filter:\n",
      "- Windowed time-domain design (firwin) method\n",
      "- Hamming window with 0.0194 passband ripple and 53 dB stopband attenuation\n",
      "- Lower passband edge: 6.50\n",
      "- Lower transition bandwidth: 2.00 Hz (-6 dB cutoff frequency: 5.50 Hz)\n",
      "- Upper passband edge: 8.00 Hz\n",
      "- Upper transition bandwidth: 2.00 Hz (-6 dB cutoff frequency: 9.00 Hz)\n",
      "- Filter length: 825 samples (1.650 s)\n",
      "\n",
      "Filtering raw data in 1 contiguous segment\n",
      "Setting up band-pass filter from 6.5 - 8 Hz\n",
      "\n",
      "FIR filter parameters\n",
      "---------------------\n",
      "Designing a one-pass, zero-phase, non-causal bandpass filter:\n",
      "- Windowed time-domain design (firwin) method\n",
      "- Hamming window with 0.0194 passband ripple and 53 dB stopband attenuation\n",
      "- Lower passband edge: 6.50\n",
      "- Lower transition bandwidth: 2.00 Hz (-6 dB cutoff frequency: 5.50 Hz)\n",
      "- Upper passband edge: 8.00 Hz\n",
      "- Upper transition bandwidth: 2.00 Hz (-6 dB cutoff frequency: 9.00 Hz)\n",
      "- Filter length: 825 samples (1.650 s)\n",
      "\n",
      "Filtering raw data in 1 contiguous segment\n",
      "Setting up band-pass filter from 6.5 - 8 Hz\n",
      "\n",
      "FIR filter parameters\n",
      "---------------------\n",
      "Designing a one-pass, zero-phase, non-causal bandpass filter:\n",
      "- Windowed time-domain design (firwin) method\n",
      "- Hamming window with 0.0194 passband ripple and 53 dB stopband attenuation\n",
      "- Lower passband edge: 6.50\n",
      "- Lower transition bandwidth: 2.00 Hz (-6 dB cutoff frequency: 5.50 Hz)\n",
      "- Upper passband edge: 8.00 Hz\n",
      "- Upper transition bandwidth: 2.00 Hz (-6 dB cutoff frequency: 9.00 Hz)\n",
      "- Filter length: 825 samples (1.650 s)\n",
      "\n",
      "Filtering raw data in 1 contiguous segment\n",
      "Setting up band-pass filter from 6.5 - 8 Hz\n",
      "\n",
      "FIR filter parameters\n",
      "---------------------\n",
      "Designing a one-pass, zero-phase, non-causal bandpass filter:\n",
      "- Windowed time-domain design (firwin) method\n",
      "- Hamming window with 0.0194 passband ripple and 53 dB stopband attenuation\n",
      "- Lower passband edge: 6.50\n",
      "- Lower transition bandwidth: 2.00 Hz (-6 dB cutoff frequency: 5.50 Hz)\n",
      "Filtering raw data in 1 contiguous segment\n",
      "- Upper passband edge: 8.00 Hz\n",
      "- Upper transition bandwidth: 2.00 Hz (-6 dB cutoff frequency: 9.00 Hz)\n",
      "Setting up band-pass filter from 6.5 - 8 Hz\n",
      "- Filter length: 825 samples (1.650 s)\n",
      "\n",
      "\n",
      "FIR filter parameters\n",
      "---------------------\n",
      "Designing a one-pass, zero-phase, non-causal bandpass filter:\n",
      "- Windowed time-domain design (firwin) method\n",
      "- Hamming window with 0.0194 passband ripple and 53 dB stopband attenuation\n",
      "- Lower passband edge: 6.50\n",
      "- Lower transition bandwidth: 2.00 Hz (-6 dB cutoff frequency: 5.50 Hz)\n",
      "- Upper passband edge: 8.00 Hz\n",
      "- Upper transition bandwidth: 2.00 Hz (-6 dB cutoff frequency: 9.00 Hz)\n",
      "- Filter length: 825 samples (1.650 s)\n",
      "\n",
      "Filtering raw data in 1 contiguous segment\n",
      "Setting up band-pass filter from 6.5 - 8 Hz\n",
      "\n",
      "FIR filter parameters\n",
      "---------------------\n",
      "Designing a one-pass, zero-phase, non-causal bandpass filter:\n",
      "- Windowed time-domain design (firwin) method\n",
      "- Hamming window with 0.0194 passband ripple and 53 dB stopband attenuation\n",
      "- Lower passband edge: 6.50\n",
      "- Lower transition bandwidth: 2.00 Hz (-6 dB cutoff frequency: 5.50 Hz)\n",
      "- Upper passband edge: 8.00 Hz\n",
      "- Upper transition bandwidth: 2.00 Hz (-6 dB cutoff frequency: 9.00 Hz)\n",
      "- Filter length: 825 samples (1.650 s)\n",
      "\n"
     ]
    },
    {
     "name": "stderr",
     "output_type": "stream",
     "text": [
      "[Parallel(n_jobs=1)]: Using backend SequentialBackend with 1 concurrent workers.\n",
      "[Parallel(n_jobs=1)]: Done   2 out of   2 | elapsed:    0.0s remaining:    0.0s\n",
      "[Parallel(n_jobs=1)]: Done   3 out of   3 | elapsed:    0.0s remaining:    0.0s\n",
      "[Parallel(n_jobs=1)]: Done   1 out of   1 | elapsed:    0.0s remaining:    0.0s\n",
      "[Parallel(n_jobs=1)]: Done   4 out of   4 | elapsed:    0.0s remaining:    0.0s\n",
      "/tmp/ipykernel_2820675/308317976.py:13: RuntimeWarning: The data contains 'boundary' events, indicating data discontinuities. Be cautious of filtering and epoching around these events.\n",
      "[Parallel(n_jobs=1)]: Done   2 out of   2 | elapsed:    0.0s remaining:    0.0s\n",
      "[Parallel(n_jobs=1)]: Done   3 out of   3 | elapsed:    0.1s remaining:    0.0s\n",
      "/tmp/ipykernel_2820675/308317976.py:13: RuntimeWarning: The data contains 'boundary' events, indicating data discontinuities. Be cautious of filtering and epoching around these events.\n",
      "[Parallel(n_jobs=1)]: Done   4 out of   4 | elapsed:    0.1s remaining:    0.0s\n",
      "[Parallel(n_jobs=1)]: Using backend SequentialBackend with 1 concurrent workers.\n",
      "[Parallel(n_jobs=1)]: Done   1 out of   1 | elapsed:    0.0s remaining:    0.0s\n",
      "/tmp/ipykernel_2820675/308317976.py:13: RuntimeWarning: The data contains 'boundary' events, indicating data discontinuities. Be cautious of filtering and epoching around these events.\n",
      "[Parallel(n_jobs=1)]: Using backend SequentialBackend with 1 concurrent workers.\n",
      "[Parallel(n_jobs=1)]: Done   2 out of   2 | elapsed:    0.0s remaining:    0.0s\n",
      "/tmp/ipykernel_2820675/308317976.py:13: RuntimeWarning: The data contains 'boundary' events, indicating data discontinuities. Be cautious of filtering and epoching around these events.\n",
      "[Parallel(n_jobs=1)]: Done   1 out of   1 | elapsed:    0.0s remaining:    0.0s\n",
      "[Parallel(n_jobs=1)]: Done   3 out of   3 | elapsed:    0.1s remaining:    0.0s\n",
      "[Parallel(n_jobs=1)]: Using backend SequentialBackend with 1 concurrent workers.\n",
      "[Parallel(n_jobs=1)]: Using backend SequentialBackend with 1 concurrent workers.\n",
      "[Parallel(n_jobs=1)]: Done   2 out of   2 | elapsed:    0.0s remaining:    0.0s\n",
      "[Parallel(n_jobs=1)]: Using backend SequentialBackend with 1 concurrent workers.\n",
      "[Parallel(n_jobs=1)]: Done   4 out of   4 | elapsed:    0.1s remaining:    0.0s\n",
      "[Parallel(n_jobs=1)]: Done  19 out of  19 | elapsed:    0.2s finished\n",
      "/tmp/ipykernel_2820675/308317976.py:13: RuntimeWarning: The data contains 'boundary' events, indicating data discontinuities. Be cautious of filtering and epoching around these events.\n",
      "[Parallel(n_jobs=1)]: Done   1 out of   1 | elapsed:    0.0s remaining:    0.0s\n",
      "[Parallel(n_jobs=1)]: Done   1 out of   1 | elapsed:    0.0s remaining:    0.0s\n",
      "[Parallel(n_jobs=1)]: Done   3 out of   3 | elapsed:    0.1s remaining:    0.0s\n",
      "[Parallel(n_jobs=1)]: Using backend SequentialBackend with 1 concurrent workers.\n",
      "[Parallel(n_jobs=1)]: Done   1 out of   1 | elapsed:    0.0s remaining:    0.0s\n",
      "[Parallel(n_jobs=1)]: Done   2 out of   2 | elapsed:    0.0s remaining:    0.0s\n",
      "[Parallel(n_jobs=1)]: Done   2 out of   2 | elapsed:    0.0s remaining:    0.0s\n"
     ]
    },
    {
     "name": "stdout",
     "output_type": "stream",
     "text": [
      "Filtering raw data in 1 contiguous segment\n",
      "Setting up band-pass filter from 6.5 - 8 Hz\n",
      "\n",
      "FIR filter parameters\n",
      "---------------------\n",
      "Designing a one-pass, zero-phase, non-causal bandpass filter:\n",
      "- Windowed time-domain design (firwin) method\n",
      "- Hamming window with 0.0194 passband ripple and 53 dB stopband attenuation\n",
      "- Lower passband edge: 6.50\n",
      "- Lower transition bandwidth: 2.00 Hz (-6 dB cutoff frequency: 5.50 Hz)\n",
      "- Upper passband edge: 8.00 Hz\n",
      "- Upper transition bandwidth: 2.00 Hz (-6 dB cutoff frequency: 9.00 Hz)\n",
      "- Filter length: 825 samples (1.650 s)\n",
      "\n",
      "Filtering raw data in 1 contiguous segment\n",
      "Setting up band-pass filter from 6.5 - 8 Hz\n",
      "\n",
      "FIR filter parameters\n",
      "---------------------\n",
      "Designing a one-pass, zero-phase, non-causal bandpass filter:\n",
      "- Windowed time-domain design (firwin) method\n",
      "- Hamming window with 0.0194 passband ripple and 53 dB stopband attenuation\n",
      "- Lower passband edge: 6.50\n",
      "- Lower transition bandwidth: 2.00 Hz (-6 dB cutoff frequency: 5.50 Hz)\n",
      "- Upper passband edge: 8.00 Hz\n",
      "- Upper transition bandwidth: 2.00 Hz (-6 dB cutoff frequency: 9.00 Hz)\n",
      "- Filter length: 825 samples (1.650 s)\n",
      "\n",
      "Filtering raw data in 1 contiguous segment\n",
      "Setting up band-pass filter from 6.5 - 8 Hz\n",
      "\n",
      "FIR filter parameters\n",
      "---------------------\n",
      "Designing a one-pass, zero-phase, non-causal bandpass filter:\n",
      "- Windowed time-domain design (firwin) method\n",
      "- Hamming window with 0.0194 passband ripple and 53 dB stopband attenuation\n",
      "- Lower passband edge: 6.50\n",
      "- Lower transition bandwidth: 2.00 Hz (-6 dB cutoff frequency: 5.50 Hz)\n",
      "- Upper passband edge: 8.00 Hz\n",
      "- Upper transition bandwidth: 2.00 Hz (-6 dB cutoff frequency: 9.00 Hz)\n",
      "- Filter length: 825 samples (1.650 s)\n",
      "\n"
     ]
    },
    {
     "name": "stderr",
     "output_type": "stream",
     "text": [
      "[Parallel(n_jobs=1)]: Done   4 out of   4 | elapsed:    0.1s remaining:    0.0s\n",
      "[Parallel(n_jobs=1)]: Using backend SequentialBackend with 1 concurrent workers.\n",
      "[Parallel(n_jobs=1)]: Done   2 out of   2 | elapsed:    0.0s remaining:    0.0s\n",
      "[Parallel(n_jobs=1)]: Done   3 out of   3 | elapsed:    0.1s remaining:    0.0s\n",
      "[Parallel(n_jobs=1)]: Done   3 out of   3 | elapsed:    0.1s remaining:    0.0s\n",
      "[Parallel(n_jobs=1)]: Done   1 out of   1 | elapsed:    0.0s remaining:    0.0s\n",
      "[Parallel(n_jobs=1)]: Done   1 out of   1 | elapsed:    0.0s remaining:    0.0s\n",
      "[Parallel(n_jobs=1)]: Done   3 out of   3 | elapsed:    0.1s remaining:    0.0s\n",
      "[Parallel(n_jobs=1)]: Done   4 out of   4 | elapsed:    0.1s remaining:    0.0s\n",
      "[Parallel(n_jobs=1)]: Done   4 out of   4 | elapsed:    0.1s remaining:    0.0s\n",
      "[Parallel(n_jobs=1)]: Done   2 out of   2 | elapsed:    0.0s remaining:    0.0s\n",
      "[Parallel(n_jobs=1)]: Done   2 out of   2 | elapsed:    0.1s remaining:    0.0s\n",
      "[Parallel(n_jobs=1)]: Done   4 out of   4 | elapsed:    0.1s remaining:    0.0s\n",
      "[Parallel(n_jobs=1)]: Done   3 out of   3 | elapsed:    0.1s remaining:    0.0s\n",
      "/tmp/ipykernel_2820675/308317976.py:13: RuntimeWarning: The data contains 'boundary' events, indicating data discontinuities. Be cautious of filtering and epoching around these events.\n",
      "[Parallel(n_jobs=1)]: Done   3 out of   3 | elapsed:    0.1s remaining:    0.0s\n",
      "[Parallel(n_jobs=1)]: Done   4 out of   4 | elapsed:    0.1s remaining:    0.0s\n",
      "[Parallel(n_jobs=1)]: Done   4 out of   4 | elapsed:    0.1s remaining:    0.0s\n",
      "[Parallel(n_jobs=1)]: Done  19 out of  19 | elapsed:    0.3s finished\n",
      "[Parallel(n_jobs=1)]: Using backend SequentialBackend with 1 concurrent workers.\n",
      "/tmp/ipykernel_2820675/308317976.py:13: RuntimeWarning: The data contains 'boundary' events, indicating data discontinuities. Be cautious of filtering and epoching around these events.\n",
      "[Parallel(n_jobs=1)]: Done   1 out of   1 | elapsed:    0.0s remaining:    0.0s\n",
      "[Parallel(n_jobs=1)]: Done   2 out of   2 | elapsed:    0.0s remaining:    0.0s\n",
      "[Parallel(n_jobs=1)]: Using backend SequentialBackend with 1 concurrent workers.\n"
     ]
    },
    {
     "name": "stdout",
     "output_type": "stream",
     "text": [
      "Filtering raw data in 1 contiguous segment\n",
      "Setting up band-pass filter from 6.5 - 8 Hz\n",
      "\n",
      "FIR filter parameters\n",
      "---------------------\n",
      "Designing a one-pass, zero-phase, non-causal bandpass filter:\n",
      "- Windowed time-domain design (firwin) method\n",
      "- Hamming window with 0.0194 passband ripple and 53 dB stopband attenuation\n",
      "- Lower passband edge: 6.50\n",
      "- Lower transition bandwidth: 2.00 Hz (-6 dB cutoff frequency: 5.50 Hz)\n",
      "- Upper passband edge: 8.00 Hz\n",
      "- Upper transition bandwidth: 2.00 Hz (-6 dB cutoff frequency: 9.00 Hz)\n",
      "- Filter length: 825 samples (1.650 s)\n",
      "\n",
      "Filtering raw data in 1 contiguous segment\n",
      "Setting up band-pass filter from 6.5 - 8 Hz\n",
      "\n",
      "FIR filter parameters\n",
      "---------------------\n",
      "Designing a one-pass, zero-phase, non-causal bandpass filter:\n",
      "- Windowed time-domain design (firwin) method\n",
      "- Hamming window with 0.0194 passband ripple and 53 dB stopband attenuation\n",
      "- Lower passband edge: 6.50\n",
      "- Lower transition bandwidth: 2.00 Hz (-6 dB cutoff frequency: 5.50 Hz)\n",
      "- Upper passband edge: 8.00 Hz\n",
      "- Upper transition bandwidth: 2.00 Hz (-6 dB cutoff frequency: 9.00 Hz)\n",
      "- Filter length: 825 samples (1.650 s)\n",
      "\n"
     ]
    },
    {
     "name": "stderr",
     "output_type": "stream",
     "text": [
      "[Parallel(n_jobs=1)]: Done   3 out of   3 | elapsed:    0.1s remaining:    0.0s\n",
      "/tmp/ipykernel_2820675/308317976.py:13: RuntimeWarning: The data contains 'boundary' events, indicating data discontinuities. Be cautious of filtering and epoching around these events.\n",
      "[Parallel(n_jobs=1)]: Done   1 out of   1 | elapsed:    0.0s remaining:    0.0s\n",
      "[Parallel(n_jobs=1)]: Done   4 out of   4 | elapsed:    0.1s remaining:    0.0s\n",
      "[Parallel(n_jobs=1)]: Done   2 out of   2 | elapsed:    0.1s remaining:    0.0s\n",
      "[Parallel(n_jobs=1)]: Done  19 out of  19 | elapsed:    0.4s finished\n",
      "[Parallel(n_jobs=1)]: Using backend SequentialBackend with 1 concurrent workers.\n",
      "[Parallel(n_jobs=1)]: Done   3 out of   3 | elapsed:    0.1s remaining:    0.0s\n",
      "[Parallel(n_jobs=1)]: Done   1 out of   1 | elapsed:    0.0s remaining:    0.0s\n",
      "[Parallel(n_jobs=1)]: Done   4 out of   4 | elapsed:    0.1s remaining:    0.0s\n",
      "[Parallel(n_jobs=1)]: Done   2 out of   2 | elapsed:    0.1s remaining:    0.0s\n",
      "[Parallel(n_jobs=1)]: Done   3 out of   3 | elapsed:    0.1s remaining:    0.0s\n",
      "[Parallel(n_jobs=1)]: Done  19 out of  19 | elapsed:    0.5s finished\n",
      "[Parallel(n_jobs=1)]: Done  19 out of  19 | elapsed:    0.4s finished\n",
      "[Parallel(n_jobs=1)]: Done  19 out of  19 | elapsed:    0.4s finished\n",
      "[Parallel(n_jobs=1)]: Done   4 out of   4 | elapsed:    0.1s remaining:    0.0s\n",
      "[Parallel(n_jobs=1)]: Done  19 out of  19 | elapsed:    0.4s finished\n",
      "[Parallel(n_jobs=1)]: Done  19 out of  19 | elapsed:    0.5s finished\n",
      "[Parallel(n_jobs=1)]: Done  19 out of  19 | elapsed:    0.5s finished\n",
      "[Parallel(n_jobs=1)]: Done  19 out of  19 | elapsed:    0.7s finished\n",
      "[Parallel(n_jobs=1)]: Done  19 out of  19 | elapsed:    0.5s finished\n",
      "[Parallel(n_jobs=1)]: Done  19 out of  19 | elapsed:    0.6s finished\n",
      "100%|██████████| 19/19 [00:01<00:00, 11.18it/s]\n",
      "100%|██████████| 153050/153050 [00:01<00:00, 145973.91it/s]\n",
      "100%|██████████| 19/19 [00:03<00:00,  5.64it/s]\n",
      "100%|██████████| 19/19 [00:03<00:00,  6.21it/s]1481.42it/s]                     | 26/88 [00:09<00:26,  2.37it/s]\n",
      " 20%|██        | 60743/299900 [00:00<00:01, 207920.65it/s]/tmp/ipykernel_2820675/308317976.py:13: RuntimeWarning: The data contains 'boundary' events, indicating data discontinuities. Be cautious of filtering and epoching around these events.\n",
      " 26%|██▋       | 5/19 [00:01<00:03,  4.21it/s][Parallel(n_jobs=1)]: Using backend SequentialBackend with 1 concurrent workers.\n",
      " 66%|██████▋   | 209657/316200 [00:01<00:00, 191804.30it/s][Parallel(n_jobs=1)]: Done   1 out of   1 | elapsed:    0.0s remaining:    0.0s\n",
      " 53%|█████▎    | 10/19 [00:01<00:01,  5.42it/s][Parallel(n_jobs=1)]: Done   2 out of   2 | elapsed:    0.1s remaining:    0.0s\n",
      "[Parallel(n_jobs=1)]: Done   3 out of   3 | elapsed:    0.1s remaining:    0.0s\n",
      " 89%|████████▉ | 17/19 [00:03<00:00,  4.97it/s][Parallel(n_jobs=1)]: Done   4 out of   4 | elapsed:    0.1s remaining:    0.0s\n",
      " 73%|███████▎  | 231094/316200 [00:01<00:00, 198251.16it/s]"
     ]
    },
    {
     "name": "stdout",
     "output_type": "stream",
     "text": [
      "check PMF of data: \t 1.000000000000002\n",
      "mean of data: \t 0.4339003803748744\n",
      "std of data: \t 0.6405823295625729\n",
      "check PMF of normal: \t 1.0000000000000016\n",
      "check normal PMF mean: \t 1.0000220000000015\n",
      "check normal PMF std: \t 0.10420652338505489\n",
      "bin size of PMF: 30\n",
      "Filtering raw data in 1 contiguous segment\n",
      "Setting up band-pass filter from 6.5 - 8 Hz\n",
      "\n",
      "FIR filter parameters\n",
      "---------------------\n",
      "Designing a one-pass, zero-phase, non-causal bandpass filter:\n",
      "- Windowed time-domain design (firwin) method\n",
      "- Hamming window with 0.0194 passband ripple and 53 dB stopband attenuation\n",
      "- Lower passband edge: 6.50\n",
      "- Lower transition bandwidth: 2.00 Hz (-6 dB cutoff frequency: 5.50 Hz)\n",
      "- Upper passband edge: 8.00 Hz\n",
      "- Upper transition bandwidth: 2.00 Hz (-6 dB cutoff frequency: 9.00 Hz)\n",
      "- Filter length: 825 samples (1.650 s)\n",
      "\n"
     ]
    },
    {
     "name": "stderr",
     "output_type": "stream",
     "text": [
      "100%|██████████| 19/19 [00:03<00:00,  6.06it/s]1748.22it/s]\n",
      "100%|██████████| 19/19 [00:04<00:00,  4.72it/s]8409.47it/s]\n",
      "100%|██████████| 19/19 [00:03<00:00,  4.78it/s]758.96it/s]]\n",
      "  0%|          | 0/402050 [00:00<?, ?it/s][Parallel(n_jobs=1)]: Done  19 out of  19 | elapsed:    0.5s finished\n",
      "100%|██████████| 316200/316200 [00:01<00:00, 201811.09it/s]\n",
      "100%|██████████| 19/19 [00:03<00:00,  4.76it/s]2300.52it/s]\n",
      "100%|██████████| 299900/299900 [00:01<00:00, 203553.45it/s]\n",
      "100%|██████████| 19/19 [00:03<00:00,  5.63it/s]4682.80it/s]\n",
      "100%|██████████| 306300/306300 [00:01<00:00, 179851.03it/s]\n",
      "100%|██████████| 19/19 [00:03<00:00,  5.35it/s]9046.53it/s]\n",
      "100%|██████████| 402050/402050 [00:02<00:00, 188584.35it/s]\n",
      "100%|██████████| 396550/396550 [00:02<00:00, 170778.22it/s]\n",
      "100%|██████████| 19/19 [00:03<00:00,  5.10it/s]7809.56it/s]\n",
      "100%|██████████| 19/19 [00:04<00:00,  4.50it/s]7576.33it/s]\n",
      "100%|██████████| 419050/419050 [00:02<00:00, 188513.68it/s]\n",
      "/tmp/ipykernel_2820675/308317976.py:13: RuntimeWarning: The data contains 'boundary' events, indicating data discontinuities. Be cautious of filtering and epoching around these events.\n",
      " 15%|█▌        | 66849/441760 [00:00<00:01, 224893.68it/s][Parallel(n_jobs=1)]: Using backend SequentialBackend with 1 concurrent workers.\n",
      "[Parallel(n_jobs=1)]: Done   1 out of   1 | elapsed:    0.0s remaining:    0.0s\n",
      " 95%|█████████▍| 18/19 [00:03<00:00,  5.14it/s][Parallel(n_jobs=1)]: Done   2 out of   2 | elapsed:    0.0s remaining:    0.0s\n",
      " 11%|█         | 2/19 [00:00<00:05,  3.32it/s][Parallel(n_jobs=1)]: Done   3 out of   3 | elapsed:    0.1s remaining:    0.0s\n",
      " 20%|██        | 89339/441760 [00:00<00:01, 221923.61it/s][Parallel(n_jobs=1)]: Done   4 out of   4 | elapsed:    0.1s remaining:    0.0s\n",
      " 94%|█████████▍| 331484/353050 [00:01<00:00, 167054.56it/s]"
     ]
    },
    {
     "name": "stdout",
     "output_type": "stream",
     "text": [
      "check PMF of data: \t 1.0000000000000029\n",
      "mean of data: \t 0.7428275038745954\n",
      "std of data: \t 0.4276601411635791\n",
      "check PMF of normal: \t 1.0000000000000016\n",
      "check normal PMF mean: \t 0.9993290000000016\n",
      "check normal PMF std: \t 0.10408722188145861\n",
      "bin size of PMF: 30\n",
      "Filtering raw data in 1 contiguous segment\n",
      "Setting up band-pass filter from 6.5 - 8 Hz\n",
      "\n",
      "FIR filter parameters\n",
      "---------------------\n",
      "Designing a one-pass, zero-phase, non-causal bandpass filter:\n",
      "- Windowed time-domain design (firwin) method\n",
      "- Hamming window with 0.0194 passband ripple and 53 dB stopband attenuation\n",
      "- Lower passband edge: 6.50\n",
      "- Lower transition bandwidth: 2.00 Hz (-6 dB cutoff frequency: 5.50 Hz)\n",
      "- Upper passband edge: 8.00 Hz\n",
      "- Upper transition bandwidth: 2.00 Hz (-6 dB cutoff frequency: 9.00 Hz)\n",
      "- Filter length: 825 samples (1.650 s)\n",
      "\n"
     ]
    },
    {
     "name": "stderr",
     "output_type": "stream",
     "text": [
      "100%|██████████| 19/19 [00:03<00:00,  5.03it/s]3475.27it/s]\n",
      " 99%|█████████▊| 348345/353050 [00:01<00:00, 162013.51it/s]/tmp/ipykernel_2820675/308317976.py:13: RuntimeWarning: The data contains 'boundary' events, indicating data discontinuities. Be cautious of filtering and epoching around these events.\n",
      "100%|██████████| 353050/353050 [00:02<00:00, 173877.52it/s]\n",
      " 63%|██████▎   | 239823/383210 [00:01<00:00, 176364.48it/s][Parallel(n_jobs=1)]: Using backend SequentialBackend with 1 concurrent workers.\n",
      " 31%|███       | 135187/441760 [00:00<00:01, 226413.14it/s][Parallel(n_jobs=1)]: Done   1 out of   1 | elapsed:    0.0s remaining:    0.0s\n",
      "  4%|▎         | 14335/384960 [00:00<00:02, 143228.57it/s][Parallel(n_jobs=1)]: Done   2 out of   2 | elapsed:    0.1s remaining:    0.0s\n",
      " 16%|█▌        | 3/19 [00:00<00:04,  3.34it/s][Parallel(n_jobs=1)]: Done   3 out of   3 | elapsed:    0.1s remaining:    0.0s\n"
     ]
    },
    {
     "name": "stdout",
     "output_type": "stream",
     "text": [
      "check PMF of data: \t 1.0000000000000027\n",
      "mean of data: \t 0.7225012314046229\n",
      "std of data: \t 0.4480412929824301\n",
      "check PMF of normal: \t 1.0000000000000016\n",
      "check normal PMF mean: \t 1.0001440000000017\n",
      "check normal PMF std: \t 0.10398355285332385\n",
      "bin size of PMF: 30\n",
      "Filtering raw data in 1 contiguous segment\n",
      "Setting up band-pass filter from 6.5 - 8 Hz\n",
      "\n",
      "FIR filter parameters\n",
      "---------------------\n",
      "Designing a one-pass, zero-phase, non-causal bandpass filter:\n",
      "- Windowed time-domain design (firwin) method\n",
      "- Hamming window with 0.0194 passband ripple and 53 dB stopband attenuation\n",
      "- Lower passband edge: 6.50\n",
      "- Lower transition bandwidth: 2.00 Hz (-6 dB cutoff frequency: 5.50 Hz)\n",
      "- Upper passband edge: 8.00 Hz\n",
      "- Upper transition bandwidth: 2.00 Hz (-6 dB cutoff frequency: 9.00 Hz)\n",
      "- Filter length: 825 samples (1.650 s)\n",
      "\n"
     ]
    },
    {
     "name": "stderr",
     "output_type": "stream",
     "text": [
      " 67%|██████▋   | 258231/383210 [00:01<00:00, 178577.44it/s][Parallel(n_jobs=1)]: Done   4 out of   4 | elapsed:    0.1s remaining:    0.0s\n",
      " 53%|█████▎    | 212115/396700 [00:01<00:00, 210743.70it/s][Parallel(n_jobs=1)]: Done  19 out of  19 | elapsed:    0.5s finished\n",
      " 57%|█████▋    | 250969/441760 [00:01<00:00, 228711.60it/s][Parallel(n_jobs=1)]: Done  19 out of  19 | elapsed:    0.5s finished\n",
      "100%|██████████| 383210/383210 [00:02<00:00, 176086.59it/s]\n",
      "100%|██████████| 396700/396700 [00:01<00:00, 213638.59it/s]\n",
      " 53%|█████▎    | 204020/384960 [00:01<00:01, 154743.09it/s]/tmp/ipykernel_2820675/308317976.py:13: RuntimeWarning: The data contains 'boundary' events, indicating data discontinuities. Be cautious of filtering and epoching around these events.\n",
      "100%|██████████| 441760/441760 [00:01<00:00, 227980.56it/s]\n",
      "[Parallel(n_jobs=1)]: Using backend SequentialBackend with 1 concurrent workers.\n",
      " 57%|█████▋    | 219711/384960 [00:01<00:01, 155361.45it/s][Parallel(n_jobs=1)]: Done   1 out of   1 | elapsed:    0.0s remaining:    0.0s\n",
      "[Parallel(n_jobs=1)]: Done   2 out of   2 | elapsed:    0.0s remaining:    0.0s\n",
      "[Parallel(n_jobs=1)]: Done   3 out of   3 | elapsed:    0.1s remaining:    0.0s\n",
      "[Parallel(n_jobs=1)]: Done   4 out of   4 | elapsed:    0.1s remaining:    0.0s\n",
      " 61%|██████    | 235260/384960 [00:01<00:00, 154738.93it/s]"
     ]
    },
    {
     "name": "stdout",
     "output_type": "stream",
     "text": [
      "check PMF of data: \t 1.0000000000000022\n",
      "mean of data: \t 0.5928295769350485\n",
      "std of data: \t 0.5562473882967459\n",
      "check PMF of normal: \t 1.0000000000000016\n",
      "check normal PMF mean: \t 1.0001550000000015\n",
      "check normal PMF std: \t 0.10421600632820274\n",
      "bin size of PMF: 30\n",
      "Filtering raw data in 1 contiguous segment\n",
      "Setting up band-pass filter from 6.5 - 8 Hz\n",
      "\n",
      "FIR filter parameters\n",
      "---------------------\n",
      "Designing a one-pass, zero-phase, non-causal bandpass filter:\n",
      "- Windowed time-domain design (firwin) method\n",
      "- Hamming window with 0.0194 passband ripple and 53 dB stopband attenuation\n",
      "- Lower passband edge: 6.50\n",
      "- Lower transition bandwidth: 2.00 Hz (-6 dB cutoff frequency: 5.50 Hz)\n",
      "- Upper passband edge: 8.00 Hz\n",
      "- Upper transition bandwidth: 2.00 Hz (-6 dB cutoff frequency: 9.00 Hz)\n",
      "- Filter length: 825 samples (1.650 s)\n",
      "\n"
     ]
    },
    {
     "name": "stderr",
     "output_type": "stream",
     "text": [
      " 74%|███████▍  | 284481/384960 [00:01<00:00, 161397.00it/s][Parallel(n_jobs=1)]: Done  19 out of  19 | elapsed:    0.4s finished\n",
      "100%|██████████| 384960/384960 [00:02<00:00, 152864.46it/s]\n",
      " 58%|█████▊    | 11/19 [00:03<00:02,  3.10it/s]/tmp/ipykernel_2820675/308317976.py:13: RuntimeWarning: The data contains 'boundary' events, indicating data discontinuities. Be cautious of filtering and epoching around these events.\n",
      "[Parallel(n_jobs=1)]: Using backend SequentialBackend with 1 concurrent workers.\n",
      "/tmp/ipykernel_2820675/308317976.py:13: RuntimeWarning: The data contains 'boundary' events, indicating data discontinuities. Be cautious of filtering and epoching around these events.\n",
      "[Parallel(n_jobs=1)]: Done   1 out of   1 | elapsed:    0.0s remaining:    0.0s\n",
      "[Parallel(n_jobs=1)]: Done   2 out of   2 | elapsed:    0.0s remaining:    0.0s\n",
      "[Parallel(n_jobs=1)]: Using backend SequentialBackend with 1 concurrent workers.\n",
      "[Parallel(n_jobs=1)]: Done   3 out of   3 | elapsed:    0.1s remaining:    0.0s\n",
      "[Parallel(n_jobs=1)]: Done   1 out of   1 | elapsed:    0.0s remaining:    0.0s\n",
      "[Parallel(n_jobs=1)]: Done   4 out of   4 | elapsed:    0.1s remaining:    0.0s\n",
      "[Parallel(n_jobs=1)]: Done   2 out of   2 | elapsed:    0.1s remaining:    0.0s\n"
     ]
    },
    {
     "name": "stdout",
     "output_type": "stream",
     "text": [
      "check PMF of data: \t 1.0000000000000022\n",
      "mean of data: \t 0.49303285722396806\n",
      "std of data: \t 0.6362666891052129\n",
      "check PMF of normal: \t 1.0000000000000016\n",
      "check normal PMF mean: \t 0.9996160000000015\n",
      "check normal PMF std: \t 0.10398294352440689\n",
      "bin size of PMF: 30\n",
      "Filtering raw data in 1 contiguous segment\n",
      "Setting up band-pass filter from 6.5 - 8 Hz\n",
      "\n",
      "FIR filter parameters\n",
      "---------------------\n",
      "Designing a one-pass, zero-phase, non-causal bandpass filter:\n",
      "- Windowed time-domain design (firwin) method\n",
      "- Hamming window with 0.0194 passband ripple and 53 dB stopband attenuation\n",
      "- Lower passband edge: 6.50\n",
      "- Lower transition bandwidth: 2.00 Hz (-6 dB cutoff frequency: 5.50 Hz)\n",
      "- Upper passband edge: 8.00 Hz\n",
      "- Upper transition bandwidth: 2.00 Hz (-6 dB cutoff frequency: 9.00 Hz)\n",
      "- Filter length: 825 samples (1.650 s)\n",
      "\n",
      "check PMF of data: \t 1.0000000000000029\n",
      "mean of data: \t 0.7473174032789585\n",
      "std of data: \t 0.42580044511486653\n",
      "check PMF of normal: \t 1.0000000000000016\n",
      "check normal PMF mean: \t 1.0001340000000016\n",
      "check normal PMF std: \t 0.10403260087107306\n",
      "bin size of PMF: 30\n",
      "Filtering raw data in 1 contiguous segment\n",
      "Setting up band-pass filter from 6.5 - 8 Hz\n",
      "\n",
      "FIR filter parameters\n",
      "---------------------\n",
      "Designing a one-pass, zero-phase, non-causal bandpass filter:\n",
      "- Windowed time-domain design (firwin) method\n",
      "- Hamming window with 0.0194 passband ripple and 53 dB stopband attenuation\n",
      "- Lower passband edge: 6.50\n",
      "- Lower transition bandwidth: 2.00 Hz (-6 dB cutoff frequency: 5.50 Hz)\n",
      "- Upper passband edge: 8.00 Hz\n",
      "- Upper transition bandwidth: 2.00 Hz (-6 dB cutoff frequency: 9.00 Hz)\n",
      "- Filter length: 825 samples (1.650 s)\n",
      "\n"
     ]
    },
    {
     "name": "stderr",
     "output_type": "stream",
     "text": [
      "[Parallel(n_jobs=1)]: Done   3 out of   3 | elapsed:    0.1s remaining:    0.0s\n",
      "[Parallel(n_jobs=1)]: Done   4 out of   4 | elapsed:    0.1s remaining:    0.0s\n",
      " 63%|██████▎   | 12/19 [00:03<00:02,  3.08it/s][Parallel(n_jobs=1)]: Done  19 out of  19 | elapsed:    0.5s finished\n",
      "[Parallel(n_jobs=1)]: Done  19 out of  19 | elapsed:    0.5s finished\n",
      "  0%|          | 0/19 [00:00<?, ?it/s]3.04it/s]"
     ]
    },
    {
     "name": "stdout",
     "output_type": "stream",
     "text": [
      "check PMF of data: \t 1.0000000000000027\n",
      "mean of data: \t 0.6852120969807114\n",
      "std of data: \t 0.4764140854711566\n",
      "check PMF of normal: \t 1.0000000000000016\n",
      "check normal PMF mean: \t 1.0003380000000017\n",
      "check normal PMF std: \t 0.1040206025554553\n",
      "bin size of PMF: 30\n",
      "Filtering raw data in 1 contiguous segment\n",
      "Setting up band-pass filter from 6.5 - 8 Hz\n",
      "\n",
      "FIR filter parameters\n",
      "---------------------\n",
      "Designing a one-pass, zero-phase, non-causal bandpass filter:\n",
      "- Windowed time-domain design (firwin) method\n",
      "- Hamming window with 0.0194 passband ripple and 53 dB stopband attenuation\n",
      "- Lower passband edge: 6.50\n",
      "- Lower transition bandwidth: 2.00 Hz (-6 dB cutoff frequency: 5.50 Hz)\n",
      "- Upper passband edge: 8.00 Hz\n",
      "- Upper transition bandwidth: 2.00 Hz (-6 dB cutoff frequency: 9.00 Hz)\n",
      "- Filter length: 825 samples (1.650 s)\n",
      "\n"
     ]
    },
    {
     "name": "stderr",
     "output_type": "stream",
     "text": [
      " 79%|███████▉  | 15/19 [00:04<00:01,  3.01it/s][Parallel(n_jobs=1)]: Using backend SequentialBackend with 1 concurrent workers.\n",
      "[Parallel(n_jobs=1)]: Done   1 out of   1 | elapsed:    0.0s remaining:    0.0s\n",
      "[Parallel(n_jobs=1)]: Done   2 out of   2 | elapsed:    0.1s remaining:    0.0s\n",
      "[Parallel(n_jobs=1)]: Done   3 out of   3 | elapsed:    0.1s remaining:    0.0s\n",
      "  5%|▌         | 1/19 [00:00<00:04,  4.07it/s][Parallel(n_jobs=1)]: Done   4 out of   4 | elapsed:    0.1s remaining:    0.0s\n",
      " 84%|████████▍ | 16/19 [00:05<00:00,  3.05it/s]/tmp/ipykernel_2820675/308317976.py:13: RuntimeWarning: The data contains 'boundary' events, indicating data discontinuities. Be cautious of filtering and epoching around these events.\n",
      "[Parallel(n_jobs=1)]: Using backend SequentialBackend with 1 concurrent workers.\n",
      "[Parallel(n_jobs=1)]: Done   1 out of   1 | elapsed:    0.0s remaining:    0.0s\n",
      "  5%|▌         | 1/19 [00:00<00:04,  3.86it/s][Parallel(n_jobs=1)]: Done   2 out of   2 | elapsed:    0.1s remaining:    0.0s\n",
      "[Parallel(n_jobs=1)]: Done   3 out of   3 | elapsed:    0.1s remaining:    0.0s\n",
      "[Parallel(n_jobs=1)]: Done  19 out of  19 | elapsed:    0.5s finished\n",
      "[Parallel(n_jobs=1)]: Done   4 out of   4 | elapsed:    0.1s remaining:    0.0s\n"
     ]
    },
    {
     "name": "stdout",
     "output_type": "stream",
     "text": [
      "check PMF of data: \t 1.0000000000000022\n",
      "mean of data: \t 0.5935291225751224\n",
      "std of data: \t 0.5522077132250967\n",
      "check PMF of normal: \t 1.0000000000000016\n",
      "check normal PMF mean: \t 0.9998830000000015\n",
      "check normal PMF std: \t 0.10428416136211668\n",
      "bin size of PMF: 30\n",
      "Filtering raw data in 1 contiguous segment\n",
      "Setting up band-pass filter from 6.5 - 8 Hz\n",
      "\n",
      "FIR filter parameters\n",
      "---------------------\n",
      "Designing a one-pass, zero-phase, non-causal bandpass filter:\n",
      "- Windowed time-domain design (firwin) method\n",
      "- Hamming window with 0.0194 passband ripple and 53 dB stopband attenuation\n",
      "- Lower passband edge: 6.50\n",
      "- Lower transition bandwidth: 2.00 Hz (-6 dB cutoff frequency: 5.50 Hz)\n",
      "- Upper passband edge: 8.00 Hz\n",
      "- Upper transition bandwidth: 2.00 Hz (-6 dB cutoff frequency: 9.00 Hz)\n",
      "- Filter length: 825 samples (1.650 s)\n",
      "\n"
     ]
    },
    {
     "name": "stderr",
     "output_type": "stream",
     "text": [
      " 21%|██        | 4/19 [00:00<00:03,  4.23it/s][Parallel(n_jobs=1)]: Done  19 out of  19 | elapsed:    0.5s finished\n",
      " 26%|██▋       | 5/19 [00:01<00:03,  4.26it/s]/tmp/ipykernel_2820675/308317976.py:13: RuntimeWarning: The data contains 'boundary' events, indicating data discontinuities. Be cautious of filtering and epoching around these events.\n"
     ]
    },
    {
     "name": "stdout",
     "output_type": "stream",
     "text": [
      "check PMF of data: \t 1.0000000000000024\n",
      "mean of data: \t 0.6246422621127247\n",
      "std of data: \t 0.5375176640452595\n",
      "check PMF of normal: \t 1.0000000000000013\n",
      "check normal PMF mean: \t 1.0005265052650543\n",
      "check normal PMF std: \t 0.10376803685640713\n",
      "bin size of PMF: 30\n",
      "Filtering raw data in 1 contiguous segment\n",
      "Setting up band-pass filter from 6.5 - 8 Hz\n",
      "\n",
      "FIR filter parameters\n",
      "---------------------\n",
      "Designing a one-pass, zero-phase, non-causal bandpass filter:\n",
      "- Windowed time-domain design (firwin) method\n",
      "- Hamming window with 0.0194 passband ripple and 53 dB stopband attenuation\n",
      "- Lower passband edge: 6.50\n",
      "- Lower transition bandwidth: 2.00 Hz (-6 dB cutoff frequency: 5.50 Hz)\n",
      "- Upper passband edge: 8.00 Hz\n",
      "- Upper transition bandwidth: 2.00 Hz (-6 dB cutoff frequency: 9.00 Hz)\n",
      "- Filter length: 825 samples (1.650 s)\n",
      "\n",
      "check PMF of data: \t 1.0000000000000024\n",
      "mean of data: \t 0.6480463844126227\n",
      "std of data: \t 0.5106769849561573\n",
      "check PMF of normal: \t 1.0000000000000016\n",
      "check normal PMF mean: \t 1.0000490000000017\n",
      "check normal PMF std: \t 0.10391726323859762\n",
      "bin size of PMF: 30\n",
      "Filtering raw data in 1 contiguous segment\n",
      "Setting up band-pass filter from 6.5 - 8 Hz\n",
      "\n",
      "FIR filter parameters\n",
      "---------------------\n",
      "Designing a one-pass, zero-phase, non-causal bandpass filter:\n",
      "- Windowed time-domain design (firwin) method\n",
      "- Hamming window with 0.0194 passband ripple and 53 dB stopband attenuation\n",
      "- Lower passband edge: 6.50\n",
      "- Lower transition bandwidth: 2.00 Hz (-6 dB cutoff frequency: 5.50 Hz)\n",
      "- Upper passband edge: 8.00 Hz\n",
      "- Upper transition bandwidth: 2.00 Hz (-6 dB cutoff frequency: 9.00 Hz)\n",
      "- Filter length: 825 samples (1.650 s)\n",
      "\n"
     ]
    },
    {
     "name": "stderr",
     "output_type": "stream",
     "text": [
      "[Parallel(n_jobs=1)]: Using backend SequentialBackend with 1 concurrent workers.\n",
      "  0%|          | 0/19 [00:00<?, ?it/s][Parallel(n_jobs=1)]: Done   1 out of   1 | elapsed:    0.0s remaining:    0.0s\n",
      "100%|██████████| 19/19 [00:06<00:00,  3.16it/s]\n",
      "  0%|          | 0/640860 [00:00<?, ?it/s][Parallel(n_jobs=1)]: Done   2 out of   2 | elapsed:    0.0s remaining:    0.0s\n",
      "[Parallel(n_jobs=1)]: Done   3 out of   3 | elapsed:    0.1s remaining:    0.0s\n",
      "[Parallel(n_jobs=1)]: Done   4 out of   4 | elapsed:    0.1s remaining:    0.0s\n",
      "/tmp/ipykernel_2820675/308317976.py:13: RuntimeWarning: The data contains 'boundary' events, indicating data discontinuities. Be cautious of filtering and epoching around these events.\n",
      "  3%|▎         | 19243/640860 [00:00<00:03, 192396.70it/s][Parallel(n_jobs=1)]: Using backend SequentialBackend with 1 concurrent workers.\n",
      "[Parallel(n_jobs=1)]: Done   1 out of   1 | elapsed:    0.0s remaining:    0.0s\n",
      "  6%|▌         | 38731/640860 [00:00<00:03, 193840.61it/s][Parallel(n_jobs=1)]: Done   2 out of   2 | elapsed:    0.1s remaining:    0.0s\n",
      "[Parallel(n_jobs=1)]: Done   3 out of   3 | elapsed:    0.1s remaining:    0.0s\n",
      "  5%|▌         | 1/19 [00:00<00:04,  3.76it/s][Parallel(n_jobs=1)]: Done   4 out of   4 | elapsed:    0.1s remaining:    0.0s\n",
      "  9%|▉         | 59183/640860 [00:00<00:02, 198699.63it/s][Parallel(n_jobs=1)]: Done  19 out of  19 | elapsed:    0.4s finished\n",
      " 19%|█▊        | 118567/640860 [00:00<00:02, 194586.25it/s][Parallel(n_jobs=1)]: Done  19 out of  19 | elapsed:    0.5s finished\n",
      " 37%|███▋      | 7/19 [00:01<00:03,  3.54it/s]/tmp/ipykernel_2820675/308317976.py:13: RuntimeWarning: The data contains 'boundary' events, indicating data discontinuities. Be cautious of filtering and epoching around these events.\n",
      " 28%|██▊       | 177415/640860 [00:00<00:02, 191035.57it/s][Parallel(n_jobs=1)]: Using backend SequentialBackend with 1 concurrent workers.\n",
      "[Parallel(n_jobs=1)]: Done   1 out of   1 | elapsed:    0.0s remaining:    0.0s\n",
      "[Parallel(n_jobs=1)]: Done   2 out of   2 | elapsed:    0.0s remaining:    0.0s\n",
      "[Parallel(n_jobs=1)]: Done   3 out of   3 | elapsed:    0.1s remaining:    0.0s\n",
      "[Parallel(n_jobs=1)]: Done   4 out of   4 | elapsed:    0.1s remaining:    0.0s\n",
      " 31%|███       | 196819/640860 [00:01<00:02, 191940.06it/s]"
     ]
    },
    {
     "name": "stdout",
     "output_type": "stream",
     "text": [
      "check PMF of data: \t 1.0000000000000029\n",
      "mean of data: \t 0.7311655557461832\n",
      "std of data: \t 0.45178888235597575\n",
      "check PMF of normal: \t 1.0000000000000016\n",
      "check normal PMF mean: \t 1.0001450000000016\n",
      "check normal PMF std: \t 0.10411137774037953\n",
      "bin size of PMF: 30\n",
      "Filtering raw data in 1 contiguous segment\n",
      "Setting up band-pass filter from 6.5 - 8 Hz\n",
      "\n",
      "FIR filter parameters\n",
      "---------------------\n",
      "Designing a one-pass, zero-phase, non-causal bandpass filter:\n",
      "- Windowed time-domain design (firwin) method\n",
      "- Hamming window with 0.0194 passband ripple and 53 dB stopband attenuation\n",
      "- Lower passband edge: 6.50\n",
      "- Lower transition bandwidth: 2.00 Hz (-6 dB cutoff frequency: 5.50 Hz)\n",
      "- Upper passband edge: 8.00 Hz\n",
      "- Upper transition bandwidth: 2.00 Hz (-6 dB cutoff frequency: 9.00 Hz)\n",
      "- Filter length: 825 samples (1.650 s)\n",
      "\n"
     ]
    },
    {
     "name": "stderr",
     "output_type": "stream",
     "text": [
      " 41%|████      | 259643/640860 [00:01<00:01, 201734.34it/s][Parallel(n_jobs=1)]: Done  19 out of  19 | elapsed:    0.4s finished\n",
      " 72%|███████▏  | 462696/640860 [00:02<00:00, 201219.12it/s]/tmp/ipykernel_2820675/308317976.py:13: RuntimeWarning: The data contains 'boundary' events, indicating data discontinuities. Be cautious of filtering and epoching around these events.\n",
      " 75%|███████▌  | 482834/640860 [00:02<00:00, 200886.25it/s][Parallel(n_jobs=1)]: Using backend SequentialBackend with 1 concurrent workers.\n",
      "[Parallel(n_jobs=1)]: Done   1 out of   1 | elapsed:    0.0s remaining:    0.0s\n",
      " 89%|████████▉ | 17/19 [00:03<00:00,  4.37it/s][Parallel(n_jobs=1)]: Done   2 out of   2 | elapsed:    0.0s remaining:    0.0s\n",
      "[Parallel(n_jobs=1)]: Done   3 out of   3 | elapsed:    0.1s remaining:    0.0s\n",
      " 78%|███████▊  | 502934/640860 [00:02<00:00, 200908.22it/s][Parallel(n_jobs=1)]: Done   4 out of   4 | elapsed:    0.1s remaining:    0.0s\n",
      " 68%|██████▊   | 13/19 [00:03<00:01,  3.46it/s]"
     ]
    },
    {
     "name": "stdout",
     "output_type": "stream",
     "text": [
      "check PMF of data: \t 1.000000000000002\n",
      "mean of data: \t 0.47217696955224203\n",
      "std of data: \t 0.6151864353156004\n",
      "check PMF of normal: \t 1.0000000000000016\n",
      "check normal PMF mean: \t 1.0000885008850104\n",
      "check normal PMF std: \t 0.10427596032849898\n",
      "bin size of PMF: 30\n",
      "Filtering raw data in 1 contiguous segment\n",
      "Setting up band-pass filter from 6.5 - 8 Hz\n",
      "\n",
      "FIR filter parameters\n",
      "---------------------\n",
      "Designing a one-pass, zero-phase, non-causal bandpass filter:\n",
      "- Windowed time-domain design (firwin) method\n",
      "- Hamming window with 0.0194 passband ripple and 53 dB stopband attenuation\n",
      "- Lower passband edge: 6.50\n",
      "- Lower transition bandwidth: 2.00 Hz (-6 dB cutoff frequency: 5.50 Hz)\n",
      "- Upper passband edge: 8.00 Hz\n",
      "- Upper transition bandwidth: 2.00 Hz (-6 dB cutoff frequency: 9.00 Hz)\n",
      "- Filter length: 825 samples (1.650 s)\n",
      "\n"
     ]
    },
    {
     "name": "stderr",
     "output_type": "stream",
     "text": [
      " 88%|████████▊ | 563716/640860 [00:02<00:00, 202115.90it/s][Parallel(n_jobs=1)]: Done  19 out of  19 | elapsed:    0.4s finished\n",
      "100%|██████████| 19/19 [00:04<00:00,  4.32it/s]\n",
      "100%|██████████| 640860/640860 [00:03<00:00, 198809.78it/s]\n",
      "100%|██████████| 19/19 [00:05<00:00,  3.47it/s]5684.78it/s]\n",
      "100%|██████████| 467220/467220 [00:02<00:00, 215325.00it/s]\n",
      "100%|██████████| 19/19 [00:05<00:00,  3.67it/s]\n",
      "100%|██████████| 19/19 [00:03<00:00,  4.95it/s]5212.12it/s]\n",
      "100%|██████████| 19/19 [00:03<00:00,  4.91it/s]8926.75it/s]\n",
      "100%|██████████| 19/19 [00:03<00:00,  5.42it/s]4591.30it/s]\n",
      "100%|██████████| 421700/421700 [00:01<00:00, 230604.39it/s]\n",
      "100%|██████████| 486180/486180 [00:03<00:00, 154429.06it/s]\n",
      "100%|██████████| 422550/422550 [00:01<00:00, 224305.63it/s]\n",
      "100%|██████████| 450690/450690 [00:03<00:00, 149178.57it/s]\n",
      "100%|██████████| 19/19 [00:03<00:00,  5.38it/s]2185.11it/s]\n",
      "  0%|          | 0/410960 [00:00<?, ?it/s]/tmp/ipykernel_2820675/308317976.py:13: RuntimeWarning: The data contains 'boundary' events, indicating data discontinuities. Be cautious of filtering and epoching around these events.\n",
      " 79%|███████▉  | 301370/379900 [00:01<00:00, 223719.83it/s][Parallel(n_jobs=1)]: Using backend SequentialBackend with 1 concurrent workers.\n",
      "[Parallel(n_jobs=1)]: Done   1 out of   1 | elapsed:    0.0s remaining:    0.0s\n",
      " 26%|██▋       | 5/19 [00:01<00:02,  5.01it/s][Parallel(n_jobs=1)]: Done   2 out of   2 | elapsed:    0.0s remaining:    0.0s\n",
      " 21%|██        | 4/19 [00:00<00:02,  5.79it/s][Parallel(n_jobs=1)]: Done   3 out of   3 | elapsed:    0.1s remaining:    0.0s\n",
      " 86%|████████▌ | 324964/379900 [00:01<00:00, 227215.72it/s][Parallel(n_jobs=1)]: Done   4 out of   4 | elapsed:    0.1s remaining:    0.0s\n",
      " 44%|█████████████████████████████████▏                                         | 39/88 [00:27<00:41,  1.17it/s]"
     ]
    },
    {
     "name": "stdout",
     "output_type": "stream",
     "text": [
      "check PMF of data: \t 1.0000000000000036\n",
      "mean of data: \t 0.8583143265272413\n",
      "std of data: \t 0.2868130894255259\n",
      "check PMF of normal: \t 1.0000000000000016\n",
      "check normal PMF mean: \t 0.9994600000000015\n",
      "check normal PMF std: \t 0.10385907952605776\n",
      "bin size of PMF: 30\n",
      "Filtering raw data in 1 contiguous segment\n",
      "Setting up band-pass filter from 6.5 - 8 Hz\n",
      "\n",
      "FIR filter parameters\n",
      "---------------------\n",
      "Designing a one-pass, zero-phase, non-causal bandpass filter:\n",
      "- Windowed time-domain design (firwin) method\n",
      "- Hamming window with 0.0194 passband ripple and 53 dB stopband attenuation\n",
      "- Lower passband edge: 6.50\n",
      "- Lower transition bandwidth: 2.00 Hz (-6 dB cutoff frequency: 5.50 Hz)\n",
      "- Upper passband edge: 8.00 Hz\n",
      "- Upper transition bandwidth: 2.00 Hz (-6 dB cutoff frequency: 9.00 Hz)\n",
      "- Filter length: 825 samples (1.650 s)\n",
      "\n"
     ]
    },
    {
     "name": "stderr",
     "output_type": "stream",
     "text": [
      "100%|██████████| 379900/379900 [00:01<00:00, 239324.25it/s]\n",
      " 32%|███▏      | 6/19 [00:01<00:02,  5.64it/s][Parallel(n_jobs=1)]: Done  19 out of  19 | elapsed:    0.4s finished\n"
     ]
    },
    {
     "name": "stdout",
     "output_type": "stream",
     "text": [
      "check PMF of data: \t 1.0000000000000027\n",
      "mean of data: \t 0.6562236656235451\n",
      "std of data: \t 0.5165244382013465\n",
      "check PMF of normal: \t 1.0000000000000016\n",
      "check normal PMF mean: \t 1.0001980000000015\n",
      "check normal PMF std: \t 0.10365500854276165\n",
      "bin size of PMF: 30\n"
     ]
    },
    {
     "name": "stderr",
     "output_type": "stream",
     "text": [
      " 48%|████▊     | 196706/410960 [00:00<00:00, 234786.49it/s]/home/hengjie/anaconda3/lib/python3.9/site-packages/joblib/externals/loky/process_executor.py:702: UserWarning:\n",
      "\n",
      "A worker stopped while some jobs were given to the executor. This can be caused by a too short worker timeout or by a memory leak.\n",
      "\n",
      "100%|██████████| 19/19 [00:04<00:00,  4.20it/s]4975.13it/s]\n",
      "100%|██████████| 410960/410960 [00:01<00:00, 234455.45it/s]\n",
      "100%|██████████| 19/19 [00:04<00:00,  4.73it/s]5821.32it/s]\n",
      "  0%|          | 0/434650 [00:00<?, ?it/s]"
     ]
    },
    {
     "name": "stdout",
     "output_type": "stream",
     "text": [
      "check PMF of data: \t 1.0000000000000022\n",
      "mean of data: \t 0.6041587143100837\n",
      "std of data: \t 0.5378280865022703\n",
      "check PMF of normal: \t 1.0000000000000018\n",
      "check normal PMF mean: \t 1.0002100000000018\n",
      "check normal PMF std: \t 0.10417848098335852\n",
      "bin size of PMF: 30\n"
     ]
    },
    {
     "name": "stderr",
     "output_type": "stream",
     "text": [
      " 41%|████      | 187216/459310 [00:00<00:01, 215536.38it/s]"
     ]
    },
    {
     "name": "stdout",
     "output_type": "stream",
     "text": [
      "check PMF of data: \t 1.0000000000000018\n",
      "mean of data: \t 0.39993855462622313\n",
      "std of data: \t 0.6447293193789396\n",
      "check PMF of normal: \t 1.0000000000000018\n",
      "check normal PMF mean: \t 0.9997400000000016\n",
      "check normal PMF std: \t 0.1045195311891514\n",
      "bin size of PMF: 30\n",
      "Filtering raw data in 1 contiguous segment\n",
      "Setting up band-pass filter from 6.5 - 8 Hz\n",
      "\n",
      "FIR filter parameters\n",
      "---------------------\n",
      "Designing a one-pass, zero-phase, non-causal bandpass filter:\n",
      "- Windowed time-domain design (firwin) method\n",
      "- Hamming window with 0.0194 passband ripple and 53 dB stopband attenuation\n",
      "- Lower passband edge: 6.50\n",
      "- Lower transition bandwidth: 2.00 Hz (-6 dB cutoff frequency: 5.50 Hz)\n",
      "- Upper passband edge: 8.00 Hz\n",
      "- Upper transition bandwidth: 2.00 Hz (-6 dB cutoff frequency: 9.00 Hz)\n",
      "- Filter length: 825 samples (1.650 s)\n",
      "\n"
     ]
    },
    {
     "name": "stderr",
     "output_type": "stream",
     "text": [
      " 95%|█████████▍| 18/19 [00:03<00:00,  5.14it/s]/tmp/ipykernel_2820675/308317976.py:13: RuntimeWarning: The data contains 'boundary' events, indicating data discontinuities. Be cautious of filtering and epoching around these events.\n",
      "[Parallel(n_jobs=1)]: Using backend SequentialBackend with 1 concurrent workers.\n",
      "100%|██████████| 19/19 [00:03<00:00,  5.67it/s]\n",
      "  0%|          | 0/342180 [00:00<?, ?it/s]"
     ]
    },
    {
     "name": "stdout",
     "output_type": "stream",
     "text": [
      "Filtering raw data in 1 contiguous segment\n",
      "Setting up band-pass filter from 6.5 - 8 Hz\n",
      "\n",
      "FIR filter parameters\n",
      "---------------------\n",
      "Designing a one-pass, zero-phase, non-causal bandpass filter:\n",
      "- Windowed time-domain design (firwin) method\n",
      "- Hamming window with 0.0194 passband ripple and 53 dB stopband attenuation\n",
      "- Lower passband edge: 6.50\n",
      "- Lower transition bandwidth: 2.00 Hz (-6 dB cutoff frequency: 5.50 Hz)\n",
      "- Upper passband edge: 8.00 Hz\n",
      "- Upper transition bandwidth: 2.00 Hz (-6 dB cutoff frequency: 9.00 Hz)\n",
      "- Filter length: 825 samples (1.650 s)\n",
      "\n"
     ]
    },
    {
     "name": "stderr",
     "output_type": "stream",
     "text": [
      "[Parallel(n_jobs=1)]: Done   1 out of   1 | elapsed:    0.0s remaining:    0.0s\n",
      " 51%|█████     | 232793/459310 [00:01<00:01, 222120.07it/s][Parallel(n_jobs=1)]: Done   2 out of   2 | elapsed:    0.0s remaining:    0.0s\n",
      "[Parallel(n_jobs=1)]: Done   3 out of   3 | elapsed:    0.1s remaining:    0.0s\n",
      "[Parallel(n_jobs=1)]: Done   4 out of   4 | elapsed:    0.1s remaining:    0.0s\n",
      "  6%|▋         | 21981/342180 [00:00<00:01, 219790.82it/s]/tmp/ipykernel_2820675/308317976.py:13: RuntimeWarning: The data contains 'boundary' events, indicating data discontinuities. Be cautious of filtering and epoching around these events.\n",
      "100%|██████████| 19/19 [00:03<00:00,  4.97it/s]5746.60it/s]\n",
      "  0%|          | 0/417370 [00:00<?, ?it/s][Parallel(n_jobs=1)]: Using backend SequentialBackend with 1 concurrent workers.\n",
      "[Parallel(n_jobs=1)]: Done   1 out of   1 | elapsed:    0.0s remaining:    0.0s\n",
      " 30%|███       | 131353/434650 [00:00<00:01, 220828.15it/s][Parallel(n_jobs=1)]: Done   2 out of   2 | elapsed:    0.0s remaining:    0.0s\n",
      "  5%|▌         | 21349/417370 [00:00<00:01, 213456.61it/s][Parallel(n_jobs=1)]: Done   3 out of   3 | elapsed:    0.1s remaining:    0.0s\n",
      "[Parallel(n_jobs=1)]: Done   4 out of   4 | elapsed:    0.1s remaining:    0.0s\n",
      "100%|██████████| 19/19 [00:04<00:00,  4.53it/s]\n",
      " 26%|██▋       | 90243/342180 [00:00<00:01, 226855.15it/s][Parallel(n_jobs=1)]: Done  19 out of  19 | elapsed:    0.4s finished\n",
      " 47%|████▋     | 203330/434650 [00:00<00:00, 234523.79it/s]"
     ]
    },
    {
     "name": "stdout",
     "output_type": "stream",
     "text": [
      "check PMF of data: \t 1.000000000000003\n",
      "mean of data: \t 0.7870728587275121\n",
      "std of data: \t 0.38806267131765476\n",
      "check PMF of normal: \t 1.0000000000000016\n",
      "check normal PMF mean: \t 1.0001500000000016\n",
      "check normal PMF std: \t 0.10357112290595286\n",
      "bin size of PMF: 30\n",
      "check PMF of data: \t 1.000000000000002\n",
      "mean of data: \t 0.4827226478497746\n",
      "std of data: \t 0.6116694843293665\n",
      "check PMF of normal: \t 1.0000000000000013\n",
      "check normal PMF mean: \t 1.0002630000000015\n",
      "check normal PMF std: \t 0.10409865912200787\n",
      "bin size of PMF: 30\n",
      "Filtering raw data in 1 contiguous segment\n",
      "Setting up band-pass filter from 6.5 - 8 Hz\n",
      "\n",
      "FIR filter parameters\n",
      "---------------------\n",
      "Designing a one-pass, zero-phase, non-causal bandpass filter:\n",
      "- Windowed time-domain design (firwin) method\n",
      "- Hamming window with 0.0194 passband ripple and 53 dB stopband attenuation\n",
      "- Lower passband edge: 6.50\n",
      "- Lower transition bandwidth: 2.00 Hz (-6 dB cutoff frequency: 5.50 Hz)\n",
      "- Upper passband edge: 8.00 Hz\n",
      "- Upper transition bandwidth: 2.00 Hz (-6 dB cutoff frequency: 9.00 Hz)\n",
      "- Filter length: 825 samples (1.650 s)\n",
      "\n"
     ]
    },
    {
     "name": "stderr",
     "output_type": "stream",
     "text": [
      " 40%|███▉      | 136396/342180 [00:00<00:00, 228641.81it/s]/tmp/ipykernel_2820675/308317976.py:13: RuntimeWarning: The data contains 'boundary' events, indicating data discontinuities. Be cautious of filtering and epoching around these events.\n",
      " 52%|█████▏    | 227520/434650 [00:01<00:00, 236793.45it/s][Parallel(n_jobs=1)]: Using backend SequentialBackend with 1 concurrent workers.\n",
      " 81%|████████  | 370782/459310 [00:01<00:00, 220662.11it/s][Parallel(n_jobs=1)]: Done  19 out of  19 | elapsed:    0.5s finished\n",
      "[Parallel(n_jobs=1)]: Done   1 out of   1 | elapsed:    0.0s remaining:    0.0s\n",
      "[Parallel(n_jobs=1)]: Done   2 out of   2 | elapsed:    0.0s remaining:    0.0s\n",
      "[Parallel(n_jobs=1)]: Done   3 out of   3 | elapsed:    0.0s remaining:    0.0s\n",
      " 21%|██        | 94366/460140 [00:00<00:01, 232686.52it/s][Parallel(n_jobs=1)]: Done   4 out of   4 | elapsed:    0.1s remaining:    0.0s\n",
      " 61%|██████    | 207957/342180 [00:00<00:00, 236610.82it/s][Parallel(n_jobs=1)]: Done  19 out of  19 | elapsed:    0.3s finished\n",
      "100%|██████████| 459310/459310 [00:02<00:00, 217082.22it/s]\n",
      " 81%|████████▏ | 278876/342180 [00:01<00:00, 231545.82it/s]"
     ]
    },
    {
     "name": "stdout",
     "output_type": "stream",
     "text": [
      "check PMF of data: \t 1.0000000000000029\n",
      "mean of data: \t 0.7060735734771364\n",
      "std of data: \t 0.4708288656651821\n",
      "check PMF of normal: \t 1.0000000000000016\n",
      "check normal PMF mean: \t 0.9997200000000015\n",
      "check normal PMF std: \t 0.10348295318553677\n",
      "bin size of PMF: 30\n"
     ]
    },
    {
     "name": "stderr",
     "output_type": "stream",
     "text": [
      "100%|██████████| 342180/342180 [00:01<00:00, 230472.21it/s]\n",
      "100%|██████████| 434650/434650 [00:01<00:00, 222568.87it/s]\n",
      "100%|██████████| 417370/417370 [00:01<00:00, 213908.68it/s]\n",
      "100%|██████████| 460140/460140 [00:02<00:00, 227106.73it/s]\n",
      " 26%|██▋       | 5/19 [00:01<00:03,  4.19it/s]/tmp/ipykernel_2820675/308317976.py:13: RuntimeWarning: The data contains 'boundary' events, indicating data discontinuities. Be cautious of filtering and epoching around these events.\n",
      "[Parallel(n_jobs=1)]: Using backend SequentialBackend with 1 concurrent workers.\n",
      "[Parallel(n_jobs=1)]: Done   1 out of   1 | elapsed:    0.0s remaining:    0.0s\n",
      "[Parallel(n_jobs=1)]: Done   2 out of   2 | elapsed:    0.1s remaining:    0.0s\n",
      "[Parallel(n_jobs=1)]: Done   3 out of   3 | elapsed:    0.1s remaining:    0.0s\n",
      " 32%|███▏      | 6/19 [00:01<00:03,  3.97it/s]"
     ]
    },
    {
     "name": "stdout",
     "output_type": "stream",
     "text": [
      "Filtering raw data in 1 contiguous segment\n",
      "Setting up band-pass filter from 6.5 - 8 Hz\n",
      "\n",
      "FIR filter parameters\n",
      "---------------------\n",
      "Designing a one-pass, zero-phase, non-causal bandpass filter:\n",
      "- Windowed time-domain design (firwin) method\n",
      "- Hamming window with 0.0194 passband ripple and 53 dB stopband attenuation\n",
      "- Lower passband edge: 6.50\n",
      "- Lower transition bandwidth: 2.00 Hz (-6 dB cutoff frequency: 5.50 Hz)\n",
      "- Upper passband edge: 8.00 Hz\n",
      "- Upper transition bandwidth: 2.00 Hz (-6 dB cutoff frequency: 9.00 Hz)\n",
      "- Filter length: 825 samples (1.650 s)\n",
      "\n"
     ]
    },
    {
     "name": "stderr",
     "output_type": "stream",
     "text": [
      "[Parallel(n_jobs=1)]: Done   4 out of   4 | elapsed:    0.1s remaining:    0.0s\n",
      "/tmp/ipykernel_2820675/308317976.py:13: RuntimeWarning: The data contains 'boundary' events, indicating data discontinuities. Be cautious of filtering and epoching around these events.\n"
     ]
    },
    {
     "name": "stdout",
     "output_type": "stream",
     "text": [
      "check PMF of data: \t 1.0000000000000022\n",
      "mean of data: \t 0.5534595404626699\n",
      "std of data: \t 0.5720136821860623\n",
      "check PMF of normal: \t 1.0000000000000013\n",
      "check normal PMF mean: \t 1.0002380000000015\n",
      "check normal PMF std: \t 0.10420625391981037\n",
      "bin size of PMF: 30\n",
      "Filtering raw data in 1 contiguous segment\n",
      "Setting up band-pass filter from 6.5 - 8 Hz\n",
      "\n",
      "FIR filter parameters\n",
      "---------------------\n",
      "Designing a one-pass, zero-phase, non-causal bandpass filter:\n",
      "- Windowed time-domain design (firwin) method\n",
      "- Hamming window with 0.0194 passband ripple and 53 dB stopband attenuation\n",
      "- Lower passband edge: 6.50\n",
      "- Lower transition bandwidth: 2.00 Hz (-6 dB cutoff frequency: 5.50 Hz)\n",
      "- Upper passband edge: 8.00 Hz\n",
      "- Upper transition bandwidth: 2.00 Hz (-6 dB cutoff frequency: 9.00 Hz)\n",
      "- Filter length: 825 samples (1.650 s)\n",
      "\n"
     ]
    },
    {
     "name": "stderr",
     "output_type": "stream",
     "text": [
      "[Parallel(n_jobs=1)]: Using backend SequentialBackend with 1 concurrent workers.\n",
      "[Parallel(n_jobs=1)]: Done   1 out of   1 | elapsed:    0.0s remaining:    0.0s\n",
      "[Parallel(n_jobs=1)]: Done   2 out of   2 | elapsed:    0.0s remaining:    0.0s\n",
      "[Parallel(n_jobs=1)]: Done   3 out of   3 | elapsed:    0.1s remaining:    0.0s\n",
      " 37%|███▋      | 7/19 [00:01<00:03,  3.69it/s][Parallel(n_jobs=1)]: Done   4 out of   4 | elapsed:    0.1s remaining:    0.0s\n",
      "  0%|          | 0/19 [00:00<?, ?it/s][Parallel(n_jobs=1)]: Done  19 out of  19 | elapsed:    0.5s finished\n",
      "  5%|▌         | 1/19 [00:00<00:04,  3.68it/s][Parallel(n_jobs=1)]: Done  19 out of  19 | elapsed:    0.4s finished\n",
      " 53%|█████▎    | 10/19 [00:02<00:02,  3.61it/s]/tmp/ipykernel_2820675/308317976.py:13: RuntimeWarning: The data contains 'boundary' events, indicating data discontinuities. Be cautious of filtering and epoching around these events.\n"
     ]
    },
    {
     "name": "stdout",
     "output_type": "stream",
     "text": [
      "Filtering raw data in 1 contiguous segment\n",
      "Setting up band-pass filter from 6.5 - 8 Hz\n",
      "\n",
      "FIR filter parameters\n",
      "---------------------\n",
      "Designing a one-pass, zero-phase, non-causal bandpass filter:\n",
      "- Windowed time-domain design (firwin) method\n",
      "- Hamming window with 0.0194 passband ripple and 53 dB stopband attenuation\n",
      "- Lower passband edge: 6.50\n",
      "- Lower transition bandwidth: 2.00 Hz (-6 dB cutoff frequency: 5.50 Hz)\n",
      "- Upper passband edge: 8.00 Hz\n",
      "- Upper transition bandwidth: 2.00 Hz (-6 dB cutoff frequency: 9.00 Hz)\n",
      "- Filter length: 825 samples (1.650 s)\n",
      "\n"
     ]
    },
    {
     "name": "stderr",
     "output_type": "stream",
     "text": [
      "[Parallel(n_jobs=1)]: Using backend SequentialBackend with 1 concurrent workers.\n",
      "[Parallel(n_jobs=1)]: Done   1 out of   1 | elapsed:    0.0s remaining:    0.0s\n",
      " 21%|██        | 4/19 [00:01<00:03,  3.80it/s][Parallel(n_jobs=1)]: Done   2 out of   2 | elapsed:    0.1s remaining:    0.0s\n",
      " 58%|█████▊    | 11/19 [00:02<00:02,  3.48it/s][Parallel(n_jobs=1)]: Done   3 out of   3 | elapsed:    0.1s remaining:    0.0s\n",
      "[Parallel(n_jobs=1)]: Done   4 out of   4 | elapsed:    0.2s remaining:    0.0s\n",
      " 63%|██████▎   | 12/19 [00:03<00:02,  3.50it/s]/tmp/ipykernel_2820675/308317976.py:13: RuntimeWarning: The data contains 'boundary' events, indicating data discontinuities. Be cautious of filtering and epoching around these events.\n",
      "[Parallel(n_jobs=1)]: Using backend SequentialBackend with 1 concurrent workers.\n",
      "[Parallel(n_jobs=1)]: Done   1 out of   1 | elapsed:    0.0s remaining:    0.0s\n"
     ]
    },
    {
     "name": "stdout",
     "output_type": "stream",
     "text": [
      "Filtering raw data in 1 contiguous segment\n",
      "Setting up band-pass filter from 6.5 - 8 Hz\n",
      "\n",
      "FIR filter parameters\n",
      "---------------------\n",
      "Designing a one-pass, zero-phase, non-causal bandpass filter:\n",
      "- Windowed time-domain design (firwin) method\n",
      "- Hamming window with 0.0194 passband ripple and 53 dB stopband attenuation\n",
      "- Lower passband edge: 6.50\n",
      "- Lower transition bandwidth: 2.00 Hz (-6 dB cutoff frequency: 5.50 Hz)\n",
      "- Upper passband edge: 8.00 Hz\n",
      "- Upper transition bandwidth: 2.00 Hz (-6 dB cutoff frequency: 9.00 Hz)\n",
      "- Filter length: 825 samples (1.650 s)\n",
      "\n"
     ]
    },
    {
     "name": "stderr",
     "output_type": "stream",
     "text": [
      "[Parallel(n_jobs=1)]: Done   2 out of   2 | elapsed:    0.1s remaining:    0.0s\n",
      "[Parallel(n_jobs=1)]: Done   3 out of   3 | elapsed:    0.1s remaining:    0.0s\n",
      "[Parallel(n_jobs=1)]: Done   4 out of   4 | elapsed:    0.1s remaining:    0.0s\n",
      " 68%|██████▊   | 13/19 [00:03<00:01,  3.53it/s][Parallel(n_jobs=1)]: Done  19 out of  19 | elapsed:    0.7s finished\n",
      "/tmp/ipykernel_2820675/308317976.py:13: RuntimeWarning: The data contains 'boundary' events, indicating data discontinuities. Be cautious of filtering and epoching around these events.\n",
      " 37%|███▋      | 7/19 [00:01<00:03,  3.76it/s][Parallel(n_jobs=1)]: Using backend SequentialBackend with 1 concurrent workers.\n",
      "[Parallel(n_jobs=1)]: Done   1 out of   1 | elapsed:    0.0s remaining:    0.0s\n",
      "[Parallel(n_jobs=1)]: Done   2 out of   2 | elapsed:    0.0s remaining:    0.0s\n",
      "[Parallel(n_jobs=1)]: Done   3 out of   3 | elapsed:    0.1s remaining:    0.0s\n"
     ]
    },
    {
     "name": "stdout",
     "output_type": "stream",
     "text": [
      "check PMF of data: \t 1.0000000000000029\n",
      "mean of data: \t 0.6743343590921532\n",
      "std of data: \t 0.5024301541617031\n",
      "check PMF of normal: \t 1.0000000000000016\n",
      "check normal PMF mean: \t 0.9998990000000015\n",
      "check normal PMF std: \t 0.10425252898131533\n",
      "bin size of PMF: 30\n",
      "Filtering raw data in 1 contiguous segment\n",
      "Setting up band-pass filter from 6.5 - 8 Hz\n",
      "\n",
      "FIR filter parameters\n",
      "---------------------\n",
      "Designing a one-pass, zero-phase, non-causal bandpass filter:\n",
      "- Windowed time-domain design (firwin) method\n",
      "- Hamming window with 0.0194 passband ripple and 53 dB stopband attenuation\n",
      "- Lower passband edge: 6.50\n",
      "- Lower transition bandwidth: 2.00 Hz (-6 dB cutoff frequency: 5.50 Hz)\n",
      "- Upper passband edge: 8.00 Hz\n",
      "- Upper transition bandwidth: 2.00 Hz (-6 dB cutoff frequency: 9.00 Hz)\n",
      "- Filter length: 825 samples (1.650 s)\n",
      "\n"
     ]
    },
    {
     "name": "stderr",
     "output_type": "stream",
     "text": [
      " 74%|███████▎  | 14/19 [00:03<00:01,  3.53it/s][Parallel(n_jobs=1)]: Done   4 out of   4 | elapsed:    0.1s remaining:    0.0s\n",
      "  0%|          | 0/19 [00:00<?, ?it/s][Parallel(n_jobs=1)]: Done  19 out of  19 | elapsed:    0.5s finished\n",
      " 42%|████▏     | 8/19 [00:02<00:02,  3.77it/s]/tmp/ipykernel_2820675/308317976.py:13: RuntimeWarning: The data contains 'boundary' events, indicating data discontinuities. Be cautious of filtering and epoching around these events.\n"
     ]
    },
    {
     "name": "stdout",
     "output_type": "stream",
     "text": [
      "check PMF of data: \t 1.0000000000000036\n",
      "mean of data: \t 0.8761472821996824\n",
      "std of data: \t 0.25729102493333716\n",
      "check PMF of normal: \t 1.0000000000000013\n",
      "check normal PMF mean: \t 0.9994300000000016\n",
      "check normal PMF std: \t 0.10432964631397919\n",
      "bin size of PMF: 30\n",
      "Filtering raw data in 1 contiguous segment\n",
      "Setting up band-pass filter from 6.5 - 8 Hz\n",
      "\n",
      "FIR filter parameters\n",
      "---------------------\n",
      "Designing a one-pass, zero-phase, non-causal bandpass filter:\n",
      "- Windowed time-domain design (firwin) method\n",
      "- Hamming window with 0.0194 passband ripple and 53 dB stopband attenuation\n",
      "- Lower passband edge: 6.50\n",
      "- Lower transition bandwidth: 2.00 Hz (-6 dB cutoff frequency: 5.50 Hz)\n",
      "- Upper passband edge: 8.00 Hz\n",
      "- Upper transition bandwidth: 2.00 Hz (-6 dB cutoff frequency: 9.00 Hz)\n",
      "- Filter length: 825 samples (1.650 s)\n",
      "\n"
     ]
    },
    {
     "name": "stderr",
     "output_type": "stream",
     "text": [
      "[Parallel(n_jobs=1)]: Using backend SequentialBackend with 1 concurrent workers.\n",
      "[Parallel(n_jobs=1)]: Done   1 out of   1 | elapsed:    0.0s remaining:    0.0s\n",
      "[Parallel(n_jobs=1)]: Done   2 out of   2 | elapsed:    0.0s remaining:    0.0s\n",
      "[Parallel(n_jobs=1)]: Done   3 out of   3 | elapsed:    0.1s remaining:    0.0s\n",
      " 79%|███████▉  | 15/19 [00:04<00:01,  3.54it/s][Parallel(n_jobs=1)]: Done   4 out of   4 | elapsed:    0.1s remaining:    0.0s\n",
      "  5%|▌         | 1/19 [00:00<00:04,  4.10it/s][Parallel(n_jobs=1)]: Done  19 out of  19 | elapsed:    0.5s finished\n",
      " 84%|████████▍ | 16/19 [00:04<00:00,  3.54it/s][Parallel(n_jobs=1)]: Done  19 out of  19 | elapsed:    0.4s finished\n",
      "/tmp/ipykernel_2820675/308317976.py:13: RuntimeWarning: The data contains 'boundary' events, indicating data discontinuities. Be cautious of filtering and epoching around these events.\n"
     ]
    },
    {
     "name": "stdout",
     "output_type": "stream",
     "text": [
      "check PMF of data: \t 1.000000000000003\n",
      "mean of data: \t 0.7891286516071643\n",
      "std of data: \t 0.37850975859802644\n",
      "check PMF of normal: \t 1.0000000000000016\n",
      "check normal PMF mean: \t 1.0005020000000018\n",
      "check normal PMF std: \t 0.10429931924993563\n",
      "bin size of PMF: 30\n",
      "Filtering raw data in 1 contiguous segment\n",
      "Setting up band-pass filter from 6.5 - 8 Hz\n",
      "\n",
      "FIR filter parameters\n",
      "---------------------\n",
      "Designing a one-pass, zero-phase, non-causal bandpass filter:\n",
      "- Windowed time-domain design (firwin) method\n",
      "- Hamming window with 0.0194 passband ripple and 53 dB stopband attenuation\n",
      "- Lower passband edge: 6.50\n",
      "- Lower transition bandwidth: 2.00 Hz (-6 dB cutoff frequency: 5.50 Hz)\n",
      "- Upper passband edge: 8.00 Hz\n",
      "- Upper transition bandwidth: 2.00 Hz (-6 dB cutoff frequency: 9.00 Hz)\n",
      "- Filter length: 825 samples (1.650 s)\n",
      "\n"
     ]
    },
    {
     "name": "stderr",
     "output_type": "stream",
     "text": [
      "[Parallel(n_jobs=1)]: Using backend SequentialBackend with 1 concurrent workers.\n",
      "[Parallel(n_jobs=1)]: Done   1 out of   1 | elapsed:    0.0s remaining:    0.0s\n",
      " 53%|█████▎    | 10/19 [00:02<00:02,  3.83it/s][Parallel(n_jobs=1)]: Done   2 out of   2 | elapsed:    0.0s remaining:    0.0s\n",
      "[Parallel(n_jobs=1)]: Done   3 out of   3 | elapsed:    0.1s remaining:    0.0s\n",
      "[Parallel(n_jobs=1)]: Done   4 out of   4 | elapsed:    0.1s remaining:    0.0s\n",
      "  0%|          | 0/19 [00:00<?, ?it/s][Parallel(n_jobs=1)]: Done  19 out of  19 | elapsed:    0.5s finished\n",
      "100%|██████████| 19/19 [00:05<00:00,  3.68it/s]\n",
      " 30%|██▉       | 133217/449320 [00:00<00:02, 148608.79it/s][Parallel(n_jobs=1)]: Using backend SequentialBackend with 1 concurrent workers.\n",
      " 68%|██████▊   | 13/19 [00:02<00:00,  6.09it/s][Parallel(n_jobs=1)]: Done   1 out of   1 | elapsed:    0.0s remaining:    0.0s\n",
      "[Parallel(n_jobs=1)]: Done   2 out of   2 | elapsed:    0.0s remaining:    0.0s\n"
     ]
    },
    {
     "name": "stdout",
     "output_type": "stream",
     "text": [
      "check PMF of data: \t 1.0000000000000027\n",
      "mean of data: \t 0.6744482247299917\n",
      "std of data: \t 0.4990376327568957\n",
      "check PMF of normal: \t 1.0000000000000018\n",
      "check normal PMF mean: \t 1.0001800000000018\n",
      "check normal PMF std: \t 0.10398157336759235\n",
      "bin size of PMF: 30\n",
      "Filtering raw data in 1 contiguous segment\n",
      "Setting up band-pass filter from 6.5 - 8 Hz\n",
      "\n",
      "FIR filter parameters\n",
      "---------------------\n",
      "Designing a one-pass, zero-phase, non-causal bandpass filter:\n",
      "- Windowed time-domain design (firwin) method\n",
      "- Hamming window with 0.0194 passband ripple and 53 dB stopband attenuation\n",
      "- Lower passband edge: 6.50\n",
      "- Lower transition bandwidth: 2.00 Hz (-6 dB cutoff frequency: 5.50 Hz)\n",
      "- Upper passband edge: 8.00 Hz\n",
      "- Upper transition bandwidth: 2.00 Hz (-6 dB cutoff frequency: 9.00 Hz)\n",
      "- Filter length: 825 samples (1.650 s)\n",
      "\n"
     ]
    },
    {
     "name": "stderr",
     "output_type": "stream",
     "text": [
      "[Parallel(n_jobs=1)]: Done   3 out of   3 | elapsed:    0.1s remaining:    0.0s\n",
      " 33%|███▎      | 148088/449320 [00:01<00:02, 148032.47it/s][Parallel(n_jobs=1)]: Done   4 out of   4 | elapsed:    0.1s remaining:    0.0s\n",
      " 43%|████▎     | 194118/449320 [00:01<00:01, 150066.78it/s][Parallel(n_jobs=1)]: Done  19 out of  19 | elapsed:    0.4s finished\n",
      " 53%|█████▎    | 239867/449320 [00:01<00:01, 150446.40it/s]"
     ]
    },
    {
     "name": "stdout",
     "output_type": "stream",
     "text": [
      "check PMF of data: \t 1.000000000000003\n",
      "mean of data: \t 0.7629761359179552\n",
      "std of data: \t 0.41409545531858855\n",
      "check PMF of normal: \t 1.0000000000000016\n",
      "check normal PMF mean: \t 0.9999870000000016\n",
      "check normal PMF std: \t 0.10404422055549263\n",
      "bin size of PMF: 30\n"
     ]
    },
    {
     "name": "stderr",
     "output_type": "stream",
     "text": [
      "100%|██████████| 19/19 [00:05<00:00,  3.80it/s]\n",
      "100%|██████████| 19/19 [00:03<00:00,  5.83it/s]1751.01it/s]\n",
      "100%|██████████| 449320/449320 [00:02<00:00, 159537.56it/s]\n",
      "100%|██████████| 277040/277040 [00:01<00:00, 176815.29it/s]\n",
      "100%|██████████| 413100/413100 [00:02<00:00, 161186.89it/s]\n",
      "100%|██████████| 19/19 [00:04<00:00,  4.15it/s]\n",
      " 47%|████▋     | 9/19 [00:02<00:02,  4.23it/s]/tmp/ipykernel_2820675/308317976.py:13: RuntimeWarning: The data contains 'boundary' events, indicating data discontinuities. Be cautious of filtering and epoching around these events.\n",
      " 12%|█▏        | 47261/409070 [00:00<00:02, 157661.42it/s][Parallel(n_jobs=1)]: Using backend SequentialBackend with 1 concurrent workers.\n",
      "[Parallel(n_jobs=1)]: Done   1 out of   1 | elapsed:    0.0s remaining:    0.0s\n",
      " 63%|██████▎   | 12/19 [00:02<00:01,  5.45it/s][Parallel(n_jobs=1)]: Done   2 out of   2 | elapsed:    0.1s remaining:    0.0s\n"
     ]
    },
    {
     "name": "stdout",
     "output_type": "stream",
     "text": [
      "Filtering raw data in 1 contiguous segment\n",
      "Setting up band-pass filter from 6.5 - 8 Hz\n",
      "\n",
      "FIR filter parameters\n",
      "---------------------\n",
      "Designing a one-pass, zero-phase, non-causal bandpass filter:\n",
      "- Windowed time-domain design (firwin) method\n",
      "- Hamming window with 0.0194 passband ripple and 53 dB stopband attenuation\n",
      "- Lower passband edge: 6.50\n",
      "- Lower transition bandwidth: 2.00 Hz (-6 dB cutoff frequency: 5.50 Hz)\n",
      "- Upper passband edge: 8.00 Hz\n",
      "- Upper transition bandwidth: 2.00 Hz (-6 dB cutoff frequency: 9.00 Hz)\n",
      "- Filter length: 825 samples (1.650 s)\n",
      "\n"
     ]
    },
    {
     "name": "stderr",
     "output_type": "stream",
     "text": [
      "[Parallel(n_jobs=1)]: Done   3 out of   3 | elapsed:    0.1s remaining:    0.0s\n",
      " 15%|█▌        | 63028/409070 [00:00<00:02, 155111.85it/s][Parallel(n_jobs=1)]: Done   4 out of   4 | elapsed:    0.1s remaining:    0.0s\n",
      "  0%|          | 0/19 [00:00<?, ?it/s][Parallel(n_jobs=1)]: Done  19 out of  19 | elapsed:    0.5s finished\n",
      "100%|██████████| 19/19 [00:03<00:00,  5.45it/s]5292.71it/s]\n",
      "100%|██████████| 19/19 [00:03<00:00,  5.44it/s]1763.36it/s]\n",
      "100%|██████████| 19/19 [00:03<00:00,  5.30it/s]7235.99it/s]\n",
      " 42%|████▏     | 8/19 [00:01<00:02,  5.36it/s]/tmp/ipykernel_2820675/308317976.py:13: RuntimeWarning: The data contains 'boundary' events, indicating data discontinuities. Be cautious of filtering and epoching around these events.\n",
      " 32%|███▏      | 113544/352710 [00:00<00:01, 181095.81it/s][Parallel(n_jobs=1)]: Using backend SequentialBackend with 1 concurrent workers.\n",
      " 56%|█████▌    | 206272/370520 [00:00<00:00, 224927.62it/s][Parallel(n_jobs=1)]: Done   1 out of   1 | elapsed:    0.0s remaining:    0.0s\n",
      " 95%|█████████▍| 18/19 [00:04<00:00,  4.31it/s][Parallel(n_jobs=1)]: Done   2 out of   2 | elapsed:    0.0s remaining:    0.0s\n",
      " 38%|███▊      | 134311/352710 [00:00<00:01, 189583.02it/s][Parallel(n_jobs=1)]: Done   3 out of   3 | elapsed:    0.1s remaining:    0.0s\n"
     ]
    },
    {
     "name": "stdout",
     "output_type": "stream",
     "text": [
      "check PMF of data: \t 1.0000000000000018\n",
      "mean of data: \t 0.33781311373534556\n",
      "std of data: \t 0.6676438438153013\n",
      "check PMF of normal: \t 1.0000000000000016\n",
      "check normal PMF mean: \t 0.9995840000000017\n",
      "check normal PMF std: \t 0.10453816022869349\n",
      "bin size of PMF: 30\n",
      "Filtering raw data in 1 contiguous segment\n",
      "Setting up band-pass filter from 6.5 - 8 Hz\n",
      "\n",
      "FIR filter parameters\n",
      "---------------------\n",
      "Designing a one-pass, zero-phase, non-causal bandpass filter:\n",
      "- Windowed time-domain design (firwin) method\n",
      "- Hamming window with 0.0194 passband ripple and 53 dB stopband attenuation\n",
      "- Lower passband edge: 6.50\n",
      "- Lower transition bandwidth: 2.00 Hz (-6 dB cutoff frequency: 5.50 Hz)\n",
      "- Upper passband edge: 8.00 Hz\n",
      "- Upper transition bandwidth: 2.00 Hz (-6 dB cutoff frequency: 9.00 Hz)\n",
      "- Filter length: 825 samples (1.650 s)\n",
      "\n"
     ]
    },
    {
     "name": "stderr",
     "output_type": "stream",
     "text": [
      "[Parallel(n_jobs=1)]: Done   4 out of   4 | elapsed:    0.1s remaining:    0.0s\n",
      "100%|██████████| 409070/409070 [00:02<00:00, 167314.90it/s]\n",
      "100%|██████████| 19/19 [00:04<00:00,  4.27it/s]4653.29it/s]\n",
      " 81%|████████  | 300125/370520 [00:01<00:00, 232036.90it/s][Parallel(n_jobs=1)]: Done  19 out of  19 | elapsed:    0.4s finished\n",
      "100%|██████████| 370520/370520 [00:01<00:00, 229496.99it/s]                     | 52/88 [00:43<00:36,  1.00s/it]\n",
      " 51%|█████▏    | 189541/368340 [00:00<00:00, 184047.46it/s]/tmp/ipykernel_2820675/308317976.py:13: RuntimeWarning: The data contains 'boundary' events, indicating data discontinuities. Be cautious of filtering and epoching around these events.\n",
      " 75%|███████▌  | 265789/352710 [00:01<00:00, 157459.77it/s][Parallel(n_jobs=1)]: Using backend SequentialBackend with 1 concurrent workers.\n",
      "[Parallel(n_jobs=1)]: Done   1 out of   1 | elapsed:    0.0s remaining:    0.0s\n",
      " 57%|█████▋    | 208652/368340 [00:01<00:00, 186066.77it/s][Parallel(n_jobs=1)]: Done   2 out of   2 | elapsed:    0.0s remaining:    0.0s\n",
      " 68%|██████▊   | 13/19 [00:02<00:01,  5.14it/s][Parallel(n_jobs=1)]: Done   3 out of   3 | elapsed:    0.1s remaining:    0.0s\n",
      " 81%|████████  | 284788/352710 [00:01<00:00, 166390.47it/s][Parallel(n_jobs=1)]: Done   4 out of   4 | elapsed:    0.1s remaining:    0.0s\n",
      " 68%|██████▊   | 13/19 [00:02<00:01,  4.93it/s]"
     ]
    },
    {
     "name": "stdout",
     "output_type": "stream",
     "text": [
      "check PMF of data: \t 1.0000000000000024\n",
      "mean of data: \t 0.6567727073477658\n",
      "std of data: \t 0.5031975588756841\n",
      "check PMF of normal: \t 1.0000000000000016\n",
      "check normal PMF mean: \t 1.0004510000000018\n",
      "check normal PMF std: \t 0.10375064625822816\n",
      "bin size of PMF: 30\n",
      "Filtering raw data in 1 contiguous segment\n",
      "Setting up band-pass filter from 6.5 - 8 Hz\n",
      "\n",
      "FIR filter parameters\n",
      "---------------------\n",
      "Designing a one-pass, zero-phase, non-causal bandpass filter:\n",
      "- Windowed time-domain design (firwin) method\n",
      "- Hamming window with 0.0194 passband ripple and 53 dB stopband attenuation\n",
      "- Lower passband edge: 6.50\n",
      "- Lower transition bandwidth: 2.00 Hz (-6 dB cutoff frequency: 5.50 Hz)\n",
      "- Upper passband edge: 8.00 Hz\n",
      "- Upper transition bandwidth: 2.00 Hz (-6 dB cutoff frequency: 9.00 Hz)\n",
      "- Filter length: 825 samples (1.650 s)\n",
      "\n"
     ]
    },
    {
     "name": "stderr",
     "output_type": "stream",
     "text": [
      " 79%|███████▊  | 289799/368340 [00:01<00:00, 195586.33it/s][Parallel(n_jobs=1)]: Done  19 out of  19 | elapsed:    0.5s finished\n",
      "100%|██████████| 352710/352710 [00:01<00:00, 176846.01it/s]\n",
      "100%|██████████| 19/19 [00:03<00:00,  4.98it/s]\n",
      "100%|██████████| 368340/368340 [00:01<00:00, 193661.98it/s]\n",
      "100%|██████████| 19/19 [00:03<00:00,  5.30it/s]7880.99it/s]\n",
      "100%|██████████| 19/19 [00:03<00:00,  4.97it/s]2314.94it/s]\n",
      " 10%|█         | 40680/398890 [00:00<00:02, 129998.19it/s]/tmp/ipykernel_2820675/308317976.py:13: RuntimeWarning: The data contains 'boundary' events, indicating data discontinuities. Be cautious of filtering and epoching around these events.\n",
      " 32%|███▏      | 6/19 [00:01<00:03,  3.39it/s][Parallel(n_jobs=1)]: Using backend SequentialBackend with 1 concurrent workers.\n",
      " 14%|█▍        | 55085/398890 [00:00<00:02, 135382.20it/s][Parallel(n_jobs=1)]: Done   1 out of   1 | elapsed:    0.0s remaining:    0.0s\n",
      " 32%|███▏      | 125368/388550 [00:00<00:01, 207117.51it/s][Parallel(n_jobs=1)]: Done   2 out of   2 | elapsed:    0.1s remaining:    0.0s\n",
      " 74%|███████▍  | 311397/420680 [00:01<00:00, 249846.14it/s]"
     ]
    },
    {
     "name": "stdout",
     "output_type": "stream",
     "text": [
      "check PMF of data: \t 1.0000000000000022\n",
      "mean of data: \t 0.5294503490227241\n",
      "std of data: \t 0.5854494571882952\n",
      "check PMF of normal: \t 1.0000000000000016\n",
      "check normal PMF mean: \t 1.0002020000000016\n",
      "check normal PMF std: \t 0.10440861648350673\n",
      "bin size of PMF: 30\n",
      "Filtering raw data in 1 contiguous segment\n",
      "Setting up band-pass filter from 6.5 - 8 Hz\n",
      "\n",
      "FIR filter parameters\n",
      "---------------------\n",
      "Designing a one-pass, zero-phase, non-causal bandpass filter:\n",
      "- Windowed time-domain design (firwin) method\n",
      "- Hamming window with 0.0194 passband ripple and 53 dB stopband attenuation\n",
      "- Lower passband edge: 6.50\n",
      "- Lower transition bandwidth: 2.00 Hz (-6 dB cutoff frequency: 5.50 Hz)\n",
      "- Upper passband edge: 8.00 Hz\n",
      "- Upper transition bandwidth: 2.00 Hz (-6 dB cutoff frequency: 9.00 Hz)\n",
      "- Filter length: 825 samples (1.650 s)\n",
      "\n"
     ]
    },
    {
     "name": "stderr",
     "output_type": "stream",
     "text": [
      "[Parallel(n_jobs=1)]: Done   3 out of   3 | elapsed:    0.1s remaining:    0.0s\n",
      " 96%|█████████▌| 465179/484950 [00:02<00:00, 203388.21it/s][Parallel(n_jobs=1)]: Done   4 out of   4 | elapsed:    0.1s remaining:    0.0s\n",
      "100%|██████████| 484950/484950 [00:02<00:00, 192591.55it/s]\n",
      "100%|██████████| 420680/420680 [00:01<00:00, 245483.16it/s]\n",
      "[Parallel(n_jobs=1)]: Done  19 out of  19 | elapsed:    0.5s finished\n",
      " 11%|█         | 2/19 [00:00<00:03,  4.91it/s]/tmp/ipykernel_2820675/308317976.py:13: RuntimeWarning: The data contains 'boundary' events, indicating data discontinuities. Be cautious of filtering and epoching around these events.\n",
      " 53%|█████▎    | 210768/398890 [00:01<00:01, 132676.80it/s][Parallel(n_jobs=1)]: Using backend SequentialBackend with 1 concurrent workers.\n",
      " 53%|█████▎    | 10/19 [00:02<00:02,  3.38it/s][Parallel(n_jobs=1)]: Done   1 out of   1 | elapsed:    0.0s remaining:    0.0s\n",
      " 94%|█████████▎| 363669/388550 [00:01<00:00, 199961.32it/s][Parallel(n_jobs=1)]: Done   2 out of   2 | elapsed:    0.0s remaining:    0.0s\n",
      "[Parallel(n_jobs=1)]: Done   3 out of   3 | elapsed:    0.1s remaining:    0.0s\n",
      " 56%|█████▌    | 224245/398890 [00:01<00:01, 133287.52it/s][Parallel(n_jobs=1)]: Done   4 out of   4 | elapsed:    0.1s remaining:    0.0s\n"
     ]
    },
    {
     "name": "stdout",
     "output_type": "stream",
     "text": [
      "check PMF of data: \t 1.0000000000000024\n",
      "mean of data: \t 0.6251506796517388\n",
      "std of data: \t 0.5269336115539801\n",
      "check PMF of normal: \t 1.0000000000000016\n",
      "check normal PMF mean: \t 1.0000700000000016\n",
      "check normal PMF std: \t 0.103997091786261\n",
      "bin size of PMF: 30\n",
      "Filtering raw data in 1 contiguous segment\n",
      "Setting up band-pass filter from 6.5 - 8 Hz\n",
      "\n",
      "FIR filter parameters\n",
      "---------------------\n",
      "Designing a one-pass, zero-phase, non-causal bandpass filter:\n",
      "- Windowed time-domain design (firwin) method\n",
      "- Hamming window with 0.0194 passband ripple and 53 dB stopband attenuation\n",
      "- Lower passband edge: 6.50\n",
      "- Lower transition bandwidth: 2.00 Hz (-6 dB cutoff frequency: 5.50 Hz)\n",
      "- Upper passband edge: 8.00 Hz\n",
      "- Upper transition bandwidth: 2.00 Hz (-6 dB cutoff frequency: 9.00 Hz)\n",
      "- Filter length: 825 samples (1.650 s)\n",
      "\n"
     ]
    },
    {
     "name": "stderr",
     "output_type": "stream",
     "text": [
      "100%|██████████| 388550/388550 [00:01<00:00, 207648.97it/s]\n",
      " 66%|██████▋   | 265017/398890 [00:01<00:01, 130122.57it/s][Parallel(n_jobs=1)]: Using backend SequentialBackend with 1 concurrent workers.\n",
      " 42%|████▏     | 8/19 [00:01<00:02,  4.47it/s][Parallel(n_jobs=1)]: Done   1 out of   1 | elapsed:    0.0s remaining:    0.0s\n",
      "[Parallel(n_jobs=1)]: Done   2 out of   2 | elapsed:    0.0s remaining:    0.0s\n",
      "[Parallel(n_jobs=1)]: Done  19 out of  19 | elapsed:    0.5s finished\n",
      "[Parallel(n_jobs=1)]: Done   3 out of   3 | elapsed:    0.1s remaining:    0.0s\n",
      "[Parallel(n_jobs=1)]: Done   4 out of   4 | elapsed:    0.1s remaining:    0.0s\n",
      " 70%|██████▉   | 278972/398890 [00:02<00:00, 132868.49it/s]"
     ]
    },
    {
     "name": "stdout",
     "output_type": "stream",
     "text": [
      "check PMF of data: \t 1.0000000000000022\n",
      "mean of data: \t 0.5494309685769924\n",
      "std of data: \t 0.5752612305547138\n",
      "check PMF of normal: \t 1.0000000000000016\n",
      "check normal PMF mean: \t 1.0003990000000016\n",
      "check normal PMF std: \t 0.10408765920607492\n",
      "bin size of PMF: 30\n",
      "Filtering raw data in 1 contiguous segment\n",
      "Setting up band-pass filter from 6.5 - 8 Hz\n",
      "\n",
      "FIR filter parameters\n",
      "---------------------\n",
      "Designing a one-pass, zero-phase, non-causal bandpass filter:\n",
      "- Windowed time-domain design (firwin) method\n",
      "- Hamming window with 0.0194 passband ripple and 53 dB stopband attenuation\n",
      "- Lower passband edge: 6.50\n",
      "- Lower transition bandwidth: 2.00 Hz (-6 dB cutoff frequency: 5.50 Hz)\n",
      "- Upper passband edge: 8.00 Hz\n",
      "- Upper transition bandwidth: 2.00 Hz (-6 dB cutoff frequency: 9.00 Hz)\n",
      "- Filter length: 825 samples (1.650 s)\n",
      "\n"
     ]
    },
    {
     "name": "stderr",
     "output_type": "stream",
     "text": [
      " 80%|████████  | 320255/398890 [00:02<00:00, 134598.87it/s][Parallel(n_jobs=1)]: Done  19 out of  19 | elapsed:    0.4s finished\n",
      " 42%|████▏     | 8/19 [00:01<00:02,  4.53it/s][Parallel(n_jobs=1)]: Using backend SequentialBackend with 1 concurrent workers.\n",
      " 93%|█████████▎| 370516/398890 [00:02<00:00, 112117.56it/s][Parallel(n_jobs=1)]: Done   1 out of   1 | elapsed:    0.0s remaining:    0.0s\n",
      "[Parallel(n_jobs=1)]: Done   2 out of   2 | elapsed:    0.1s remaining:    0.0s\n",
      "[Parallel(n_jobs=1)]: Done   3 out of   3 | elapsed:    0.1s remaining:    0.0s\n",
      " 63%|██████▎   | 12/19 [00:02<00:01,  4.31it/s][Parallel(n_jobs=1)]: Done   4 out of   4 | elapsed:    0.1s remaining:    0.0s\n",
      " 96%|█████████▌| 382363/398890 [00:02<00:00, 113862.16it/s]"
     ]
    },
    {
     "name": "stdout",
     "output_type": "stream",
     "text": [
      "check PMF of data: \t 1.0000000000000027\n",
      "mean of data: \t 0.6931670286922951\n",
      "std of data: \t 0.4752881419678441\n",
      "check PMF of normal: \t 1.0000000000000016\n",
      "check normal PMF mean: \t 1.0000710000000017\n",
      "check normal PMF std: \t 0.10403266294294303\n",
      "bin size of PMF: 30\n",
      "Filtering raw data in 1 contiguous segment\n",
      "Setting up band-pass filter from 6.5 - 8 Hz\n",
      "\n",
      "FIR filter parameters\n",
      "---------------------\n",
      "Designing a one-pass, zero-phase, non-causal bandpass filter:\n",
      "- Windowed time-domain design (firwin) method\n",
      "- Hamming window with 0.0194 passband ripple and 53 dB stopband attenuation\n",
      "- Lower passband edge: 6.50\n",
      "- Lower transition bandwidth: 2.00 Hz (-6 dB cutoff frequency: 5.50 Hz)\n",
      "- Upper passband edge: 8.00 Hz\n",
      "- Upper transition bandwidth: 2.00 Hz (-6 dB cutoff frequency: 9.00 Hz)\n",
      "- Filter length: 825 samples (1.650 s)\n",
      "\n"
     ]
    },
    {
     "name": "stderr",
     "output_type": "stream",
     "text": [
      "100%|██████████| 398890/398890 [00:03<00:00, 129549.60it/s]\n",
      " 53%|█████▎    | 10/19 [00:02<00:01,  4.60it/s][Parallel(n_jobs=1)]: Done  19 out of  19 | elapsed:    0.5s finished\n",
      " 84%|████████▍ | 16/19 [00:03<00:00,  4.13it/s]/tmp/ipykernel_2820675/308317976.py:13: RuntimeWarning: The data contains 'boundary' events, indicating data discontinuities. Be cautious of filtering and epoching around these events.\n",
      "[Parallel(n_jobs=1)]: Using backend SequentialBackend with 1 concurrent workers.\n",
      "[Parallel(n_jobs=1)]: Done   1 out of   1 | elapsed:    0.0s remaining:    0.0s\n"
     ]
    },
    {
     "name": "stdout",
     "output_type": "stream",
     "text": [
      "check PMF of data: \t 1.0000000000000022\n",
      "mean of data: \t 0.5198222180308257\n",
      "std of data: \t 0.59023842184731\n",
      "check PMF of normal: \t 1.0000000000000016\n",
      "check normal PMF mean: \t 1.0004070000000014\n",
      "check normal PMF std: \t 0.10417405795590373\n",
      "bin size of PMF: 30\n",
      "Filtering raw data in 1 contiguous segment\n",
      "Setting up band-pass filter from 6.5 - 8 Hz\n",
      "\n",
      "FIR filter parameters\n",
      "---------------------\n",
      "Designing a one-pass, zero-phase, non-causal bandpass filter:\n",
      "- Windowed time-domain design (firwin) method\n",
      "- Hamming window with 0.0194 passband ripple and 53 dB stopband attenuation\n",
      "- Lower passband edge: 6.50\n",
      "- Lower transition bandwidth: 2.00 Hz (-6 dB cutoff frequency: 5.50 Hz)\n",
      "- Upper passband edge: 8.00 Hz\n",
      "- Upper transition bandwidth: 2.00 Hz (-6 dB cutoff frequency: 9.00 Hz)\n",
      "- Filter length: 825 samples (1.650 s)\n",
      "\n"
     ]
    },
    {
     "name": "stderr",
     "output_type": "stream",
     "text": [
      " 74%|███████▎  | 14/19 [00:02<00:01,  4.75it/s][Parallel(n_jobs=1)]: Done   2 out of   2 | elapsed:    0.1s remaining:    0.0s\n",
      "[Parallel(n_jobs=1)]: Done   3 out of   3 | elapsed:    0.1s remaining:    0.0s\n",
      " 89%|████████▉ | 17/19 [00:03<00:00,  4.08it/s][Parallel(n_jobs=1)]: Done   4 out of   4 | elapsed:    0.1s remaining:    0.0s\n",
      " 95%|█████████▍| 18/19 [00:05<00:00,  3.02it/s]"
     ]
    },
    {
     "name": "stdout",
     "output_type": "stream",
     "text": [
      "check PMF of data: \t 1.0000000000000022\n",
      "mean of data: \t 0.5747266038777673\n",
      "std of data: \t 0.5676559721925601\n",
      "check PMF of normal: \t 1.0000000000000016\n",
      "check normal PMF mean: \t 0.9995670000000016\n",
      "check normal PMF std: \t 0.10427661536030018\n",
      "bin size of PMF: 30\n"
     ]
    },
    {
     "name": "stderr",
     "output_type": "stream",
     "text": [
      "100%|██████████| 19/19 [00:05<00:00,  3.23it/s]\n",
      "  0%|          | 0/575380 [00:00<?, ?it/s][Parallel(n_jobs=1)]: Done  19 out of  19 | elapsed:    0.5s finished\n",
      "100%|██████████| 19/19 [00:04<00:00,  4.30it/s]969.08it/s]\n",
      "  6%|▌         | 25500/425040 [00:00<00:03, 127683.46it/s]/tmp/ipykernel_2820675/308317976.py:13: RuntimeWarning: The data contains 'boundary' events, indicating data discontinuities. Be cautious of filtering and epoching around these events.\n",
      "  9%|▉         | 51687/575380 [00:00<00:03, 134621.80it/s][Parallel(n_jobs=1)]: Using backend SequentialBackend with 1 concurrent workers.\n",
      "[Parallel(n_jobs=1)]: Done   1 out of   1 | elapsed:    0.0s remaining:    0.0s\n",
      "  9%|▉         | 38269/425040 [00:00<00:03, 123735.52it/s][Parallel(n_jobs=1)]: Done   2 out of   2 | elapsed:    0.0s remaining:    0.0s\n",
      "[Parallel(n_jobs=1)]: Done   3 out of   3 | elapsed:    0.1s remaining:    0.0s\n",
      "[Parallel(n_jobs=1)]: Done   4 out of   4 | elapsed:    0.1s remaining:    0.0s\n",
      " 12%|█▏        | 66219/575380 [00:00<00:03, 138468.89it/s]"
     ]
    },
    {
     "name": "stdout",
     "output_type": "stream",
     "text": [
      "check PMF of data: \t 1.0000000000000029\n",
      "mean of data: \t 0.7407294017771198\n",
      "std of data: \t 0.42714798209515853\n",
      "check PMF of normal: \t 1.0000000000000016\n",
      "check normal PMF mean: \t 1.0005710000000017\n",
      "check normal PMF std: \t 0.10417616790322051\n",
      "bin size of PMF: 30\n",
      "check PMF of data: \t 1.0000000000000018\n",
      "mean of data: \t 0.3372368838709838\n",
      "std of data: \t 0.6889295741793487\n",
      "check PMF of normal: \t 1.0000000000000016\n",
      "check normal PMF mean: \t 1.0001310000000017\n",
      "check normal PMF std: \t 0.1036416076631388\n",
      "bin size of PMF: 30\n",
      "Filtering raw data in 1 contiguous segment\n",
      "Setting up band-pass filter from 6.5 - 8 Hz\n",
      "\n",
      "FIR filter parameters\n",
      "---------------------\n",
      "Designing a one-pass, zero-phase, non-causal bandpass filter:\n",
      "- Windowed time-domain design (firwin) method\n",
      "- Hamming window with 0.0194 passband ripple and 53 dB stopband attenuation\n",
      "- Lower passband edge: 6.50\n",
      "- Lower transition bandwidth: 2.00 Hz (-6 dB cutoff frequency: 5.50 Hz)\n",
      "- Upper passband edge: 8.00 Hz\n",
      "- Upper transition bandwidth: 2.00 Hz (-6 dB cutoff frequency: 9.00 Hz)\n",
      "- Filter length: 825 samples (1.650 s)\n",
      "\n"
     ]
    },
    {
     "name": "stderr",
     "output_type": "stream",
     "text": [
      "100%|██████████| 19/19 [00:04<00:00,  4.72it/s]756.18it/s]\n",
      " 10%|▉         | 43248/445700 [00:00<00:01, 216854.85it/s][Parallel(n_jobs=1)]: Done  19 out of  19 | elapsed:    0.4s finished\n",
      " 83%|████████▎ | 370143/445700 [00:01<00:00, 191776.93it/s]/tmp/ipykernel_2820675/308317976.py:13: RuntimeWarning: The data contains 'boundary' events, indicating data discontinuities. Be cautious of filtering and epoching around these events.\n",
      " 88%|████████▊ | 374059/425040 [00:02<00:00, 198355.85it/s][Parallel(n_jobs=1)]: Using backend SequentialBackend with 1 concurrent workers.\n",
      " 87%|████████▋ | 389723/445700 [00:01<00:00, 192951.31it/s][Parallel(n_jobs=1)]: Done   1 out of   1 | elapsed:    0.0s remaining:    0.0s\n",
      "[Parallel(n_jobs=1)]: Done   2 out of   2 | elapsed:    0.0s remaining:    0.0s\n",
      " 70%|██████▉   | 401227/575380 [00:02<00:00, 183371.26it/s][Parallel(n_jobs=1)]: Done   3 out of   3 | elapsed:    0.1s remaining:    0.0s\n",
      " 93%|█████████▎| 395417/425040 [00:02<00:00, 202909.49it/s][Parallel(n_jobs=1)]: Done   4 out of   4 | elapsed:    0.1s remaining:    0.0s\n",
      " 92%|█████████▏| 409307/445700 [00:02<00:00, 193795.25it/s]"
     ]
    },
    {
     "name": "stdout",
     "output_type": "stream",
     "text": [
      "Filtering raw data in 1 contiguous segment\n",
      "Setting up band-pass filter from 6.5 - 8 Hz\n",
      "\n",
      "FIR filter parameters\n",
      "---------------------\n",
      "Designing a one-pass, zero-phase, non-causal bandpass filter:\n",
      "- Windowed time-domain design (firwin) method\n",
      "- Hamming window with 0.0194 passband ripple and 53 dB stopband attenuation\n",
      "- Lower passband edge: 6.50\n",
      "- Lower transition bandwidth: 2.00 Hz (-6 dB cutoff frequency: 5.50 Hz)\n",
      "- Upper passband edge: 8.00 Hz\n",
      "- Upper transition bandwidth: 2.00 Hz (-6 dB cutoff frequency: 9.00 Hz)\n",
      "- Filter length: 825 samples (1.650 s)\n",
      "\n"
     ]
    },
    {
     "name": "stderr",
     "output_type": "stream",
     "text": [
      "100%|██████████| 425040/425040 [00:02<00:00, 159560.17it/s]\n",
      "100%|██████████| 445700/445700 [00:02<00:00, 197639.42it/s]\n",
      " 16%|█▌        | 3/19 [00:00<00:03,  4.13it/s][Parallel(n_jobs=1)]: Done  19 out of  19 | elapsed:    0.5s finished\n",
      " 86%|████████▌ | 493985/575380 [00:03<00:00, 181103.25it/s]/tmp/ipykernel_2820675/308317976.py:13: RuntimeWarning: The data contains 'boundary' events, indicating data discontinuities. Be cautious of filtering and epoching around these events.\n",
      " 90%|████████▉ | 515607/575380 [00:03<00:00, 191476.77it/s][Parallel(n_jobs=1)]: Using backend SequentialBackend with 1 concurrent workers.\n",
      " 21%|██        | 4/19 [00:00<00:03,  4.05it/s][Parallel(n_jobs=1)]: Done   1 out of   1 | elapsed:    0.0s remaining:    0.0s\n",
      " 21%|██        | 4/19 [00:00<00:03,  4.54it/s][Parallel(n_jobs=1)]: Done   2 out of   2 | elapsed:    0.1s remaining:    0.0s\n",
      " 93%|█████████▎| 537788/575380 [00:03<00:00, 200473.94it/s][Parallel(n_jobs=1)]: Done   3 out of   3 | elapsed:    0.1s remaining:    0.0s\n"
     ]
    },
    {
     "name": "stdout",
     "output_type": "stream",
     "text": [
      "Filtering raw data in 1 contiguous segment\n",
      "Setting up band-pass filter from 6.5 - 8 Hz\n",
      "\n",
      "FIR filter parameters\n",
      "---------------------\n",
      "Designing a one-pass, zero-phase, non-causal bandpass filter:\n",
      "- Windowed time-domain design (firwin) method\n",
      "- Hamming window with 0.0194 passband ripple and 53 dB stopband attenuation\n",
      "- Lower passband edge: 6.50\n",
      "- Lower transition bandwidth: 2.00 Hz (-6 dB cutoff frequency: 5.50 Hz)\n",
      "- Upper passband edge: 8.00 Hz\n",
      "- Upper transition bandwidth: 2.00 Hz (-6 dB cutoff frequency: 9.00 Hz)\n",
      "- Filter length: 825 samples (1.650 s)\n",
      "\n"
     ]
    },
    {
     "name": "stderr",
     "output_type": "stream",
     "text": [
      "[Parallel(n_jobs=1)]: Done   4 out of   4 | elapsed:    0.1s remaining:    0.0s\n",
      "100%|██████████| 575380/575380 [00:03<00:00, 163745.02it/s]\n",
      " 32%|███▏      | 6/19 [00:01<00:03,  4.11it/s][Parallel(n_jobs=1)]: Done  19 out of  19 | elapsed:    0.6s finished\n",
      " 42%|████▏     | 8/19 [00:01<00:02,  4.48it/s]/tmp/ipykernel_2820675/308317976.py:13: RuntimeWarning: The data contains 'boundary' events, indicating data discontinuities. Be cautious of filtering and epoching around these events.\n",
      "  5%|▌         | 1/19 [00:00<00:03,  4.73it/s][Parallel(n_jobs=1)]: Using backend SequentialBackend with 1 concurrent workers.\n",
      "  5%|▌         | 1/19 [00:00<00:04,  4.04it/s][Parallel(n_jobs=1)]: Done   1 out of   1 | elapsed:    0.0s remaining:    0.0s\n",
      " 37%|███▋      | 7/19 [00:01<00:02,  4.51it/s][Parallel(n_jobs=1)]: Done   2 out of   2 | elapsed:    0.0s remaining:    0.0s\n",
      "[Parallel(n_jobs=1)]: Done   3 out of   3 | elapsed:    0.1s remaining:    0.0s\n",
      " 37%|███▋      | 7/19 [00:01<00:02,  4.05it/s][Parallel(n_jobs=1)]: Done   4 out of   4 | elapsed:    0.1s remaining:    0.0s\n"
     ]
    },
    {
     "name": "stdout",
     "output_type": "stream",
     "text": [
      "check PMF of data: \t 1.0000000000000024\n",
      "mean of data: \t 0.6264734360071442\n",
      "std of data: \t 0.5331238889305125\n",
      "check PMF of normal: \t 1.0000000000000016\n",
      "check normal PMF mean: \t 1.0003215032150339\n",
      "check normal PMF std: \t 0.1036975369452334\n",
      "bin size of PMF: 30\n",
      "Filtering raw data in 1 contiguous segment\n",
      "Setting up band-pass filter from 6.5 - 8 Hz\n",
      "\n",
      "FIR filter parameters\n",
      "---------------------\n",
      "Designing a one-pass, zero-phase, non-causal bandpass filter:\n",
      "- Windowed time-domain design (firwin) method\n",
      "- Hamming window with 0.0194 passband ripple and 53 dB stopband attenuation\n",
      "- Lower passband edge: 6.50\n",
      "- Lower transition bandwidth: 2.00 Hz (-6 dB cutoff frequency: 5.50 Hz)\n",
      "- Upper passband edge: 8.00 Hz\n",
      "- Upper transition bandwidth: 2.00 Hz (-6 dB cutoff frequency: 9.00 Hz)\n",
      "- Filter length: 825 samples (1.650 s)\n",
      "\n"
     ]
    },
    {
     "name": "stderr",
     "output_type": "stream",
     "text": [
      " 16%|█▌        | 3/19 [00:00<00:03,  4.90it/s][Parallel(n_jobs=1)]: Done  19 out of  19 | elapsed:    0.4s finished\n",
      "100%|██████████| 19/19 [00:04<00:00,  4.54it/s]\n",
      "100%|██████████| 19/19 [00:04<00:00,  4.61it/s]513.38it/s]\n",
      " 68%|██████▊   | 13/19 [00:03<00:01,  4.35it/s]/tmp/ipykernel_2820675/308317976.py:13: RuntimeWarning: The data contains 'boundary' events, indicating data discontinuities. Be cautious of filtering and epoching around these events.\n",
      "[Parallel(n_jobs=1)]: Using backend SequentialBackend with 1 concurrent workers.\n"
     ]
    },
    {
     "name": "stdout",
     "output_type": "stream",
     "text": [
      "check PMF of data: \t 1.000000000000002\n",
      "mean of data: \t 0.4919554086687972\n",
      "std of data: \t 0.6186705954448674\n",
      "check PMF of normal: \t 1.0000000000000016\n",
      "check normal PMF mean: \t 1.0004010000000017\n",
      "check normal PMF std: \t 0.10398287935520921\n",
      "bin size of PMF: 30\n",
      "Filtering raw data in 1 contiguous segment\n",
      "Setting up band-pass filter from 6.5 - 8 Hz\n",
      "\n",
      "FIR filter parameters\n",
      "---------------------\n",
      "Designing a one-pass, zero-phase, non-causal bandpass filter:\n",
      "- Windowed time-domain design (firwin) method\n",
      "- Hamming window with 0.0194 passband ripple and 53 dB stopband attenuation\n",
      "- Lower passband edge: 6.50\n",
      "- Lower transition bandwidth: 2.00 Hz (-6 dB cutoff frequency: 5.50 Hz)\n",
      "- Upper passband edge: 8.00 Hz\n",
      "- Upper transition bandwidth: 2.00 Hz (-6 dB cutoff frequency: 9.00 Hz)\n",
      "- Filter length: 825 samples (1.650 s)\n",
      "\n"
     ]
    },
    {
     "name": "stderr",
     "output_type": "stream",
     "text": [
      " 31%|███       | 136075/440800 [00:00<00:01, 222870.67it/s][Parallel(n_jobs=1)]: Done   1 out of   1 | elapsed:    0.0s remaining:    0.0s\n",
      "[Parallel(n_jobs=1)]: Done   2 out of   2 | elapsed:    0.0s remaining:    0.0s\n",
      "100%|██████████| 19/19 [00:04<00:00,  4.13it/s]\n",
      "  0%|          | 0/481510 [00:00<?, ?it/s][Parallel(n_jobs=1)]: Done   3 out of   3 | elapsed:    0.1s remaining:    0.0s\n",
      " 84%|████████▍ | 16/19 [00:03<00:00,  5.17it/s][Parallel(n_jobs=1)]: Done   4 out of   4 | elapsed:    0.1s remaining:    0.0s\n",
      " 89%|████████▉ | 17/19 [00:03<00:00,  5.22it/s]/tmp/ipykernel_2820675/308317976.py:13: RuntimeWarning: The data contains 'boundary' events, indicating data discontinuities. Be cautious of filtering and epoching around these events.\n",
      " 47%|████▋     | 205730/440800 [00:00<00:01, 229186.36it/s][Parallel(n_jobs=1)]: Using backend SequentialBackend with 1 concurrent workers.\n",
      "[Parallel(n_jobs=1)]: Done   1 out of   1 | elapsed:    0.0s remaining:    0.0s\n",
      "[Parallel(n_jobs=1)]: Done   2 out of   2 | elapsed:    0.0s remaining:    0.0s\n",
      " 79%|███████▉  | 15/19 [00:03<00:00,  4.49it/s][Parallel(n_jobs=1)]: Done   3 out of   3 | elapsed:    0.1s remaining:    0.0s\n",
      " 16%|█▌        | 3/19 [00:00<00:03,  5.20it/s][Parallel(n_jobs=1)]: Done  19 out of  19 | elapsed:    0.4s finished\n",
      "[Parallel(n_jobs=1)]: Done   4 out of   4 | elapsed:    0.1s remaining:    0.0s\n",
      " 58%|█████▊    | 11/19 [00:02<00:01,  4.88it/s]8841.29it/s]"
     ]
    },
    {
     "name": "stdout",
     "output_type": "stream",
     "text": [
      "check PMF of data: \t 1.0000000000000033\n",
      "mean of data: \t 0.815673555101578\n",
      "std of data: \t 0.34344214976233584\n",
      "check PMF of normal: \t 1.0000000000000016\n",
      "check normal PMF mean: \t 0.9998760000000017\n",
      "check normal PMF std: \t 0.10371299158736089\n",
      "bin size of PMF: 30\n",
      "Filtering raw data in 1 contiguous segment\n",
      "Setting up band-pass filter from 6.5 - 8 Hz\n",
      "\n",
      "FIR filter parameters\n",
      "---------------------\n",
      "Designing a one-pass, zero-phase, non-causal bandpass filter:\n",
      "- Windowed time-domain design (firwin) method\n",
      "- Hamming window with 0.0194 passband ripple and 53 dB stopband attenuation\n",
      "- Lower passband edge: 6.50\n",
      "- Lower transition bandwidth: 2.00 Hz (-6 dB cutoff frequency: 5.50 Hz)\n",
      "- Upper passband edge: 8.00 Hz\n",
      "- Upper transition bandwidth: 2.00 Hz (-6 dB cutoff frequency: 9.00 Hz)\n",
      "- Filter length: 825 samples (1.650 s)\n",
      "\n"
     ]
    },
    {
     "name": "stderr",
     "output_type": "stream",
     "text": [
      "100%|██████████| 19/19 [00:03<00:00,  5.01it/s]5011.19it/s]\n",
      " 27%|██▋       | 129525/481510 [00:00<00:01, 218962.39it/s][Parallel(n_jobs=1)]: Done  19 out of  19 | elapsed:    0.4s finished\n",
      "100%|██████████| 19/19 [00:03<00:00,  5.25it/s]6589.63it/s]\n",
      "100%|██████████| 19/19 [00:04<00:00,  4.30it/s]9558.28it/s]\n",
      "100%|██████████| 440800/440800 [00:01<00:00, 225412.37it/s]\n",
      " 58%|█████▊    | 241989/414550 [00:01<00:00, 196983.32it/s]/tmp/ipykernel_2820675/308317976.py:13: RuntimeWarning: The data contains 'boundary' events, indicating data discontinuities. Be cautious of filtering and epoching around these events.\n",
      " 58%|█████▊    | 11/19 [00:02<00:01,  5.37it/s][Parallel(n_jobs=1)]: Using backend SequentialBackend with 1 concurrent workers.\n",
      " 76%|███████▌  | 364982/481510 [00:01<00:00, 188181.09it/s][Parallel(n_jobs=1)]: Done   1 out of   1 | elapsed:    0.0s remaining:    0.0s\n",
      " 61%|██████    | 228172/376520 [00:01<00:00, 211810.67it/s][Parallel(n_jobs=1)]: Done   2 out of   2 | elapsed:    0.0s remaining:    0.0s\n",
      " 63%|██████▎   | 261694/414550 [00:01<00:00, 196599.76it/s][Parallel(n_jobs=1)]: Done   3 out of   3 | elapsed:    0.1s remaining:    0.0s\n",
      "[Parallel(n_jobs=1)]: Done   4 out of   4 | elapsed:    0.1s remaining:    0.0s\n",
      "100%|██████████| 443050/443050 [00:02<00:00, 193193.84it/s]\n",
      " 66%|██████▌   | 249357/376520 [00:01<00:00, 211288.39it/s]"
     ]
    },
    {
     "name": "stdout",
     "output_type": "stream",
     "text": [
      "check PMF of data: \t 1.0000000000000027\n",
      "mean of data: \t 0.6623285846790522\n",
      "std of data: \t 0.5064594484436293\n",
      "check PMF of normal: \t 1.0000000000000016\n",
      "check normal PMF mean: \t 1.0000830000000016\n",
      "check normal PMF std: \t 0.10399131267081878\n",
      "bin size of PMF: 30\n",
      "Filtering raw data in 1 contiguous segment\n",
      "Setting up band-pass filter from 6.5 - 8 Hz\n",
      "\n",
      "FIR filter parameters\n",
      "---------------------\n",
      "Designing a one-pass, zero-phase, non-causal bandpass filter:\n",
      "- Windowed time-domain design (firwin) method\n",
      "- Hamming window with 0.0194 passband ripple and 53 dB stopband attenuation\n",
      "- Lower passband edge: 6.50\n",
      "- Lower transition bandwidth: 2.00 Hz (-6 dB cutoff frequency: 5.50 Hz)\n",
      "- Upper passband edge: 8.00 Hz\n",
      "- Upper transition bandwidth: 2.00 Hz (-6 dB cutoff frequency: 9.00 Hz)\n",
      "- Filter length: 825 samples (1.650 s)\n",
      "\n"
     ]
    },
    {
     "name": "stderr",
     "output_type": "stream",
     "text": [
      "100%|██████████| 19/19 [00:03<00:00,  4.80it/s]9218.84it/s]\n",
      " 78%|███████▊  | 321728/414550 [00:01<00:00, 189892.53it/s][Parallel(n_jobs=1)]: Done  19 out of  19 | elapsed:    0.4s finished\n",
      "100%|██████████| 481510/481510 [00:02<00:00, 195602.71it/s]\n",
      "100%|██████████| 376520/376520 [00:01<00:00, 207593.01it/s]\n",
      "100%|██████████| 414550/414550 [00:02<00:00, 184790.82it/s]\n",
      "100%|██████████| 19/19 [00:03<00:00,  5.21it/s]6580.81it/s]\n",
      "100%|██████████| 19/19 [00:03<00:00,  5.11it/s]\n",
      "100%|██████████| 482870/482870 [00:02<00:00, 164389.22it/s]\n",
      "100%|██████████| 425820/425820 [00:02<00:00, 193344.55it/s]\n",
      "100%|██████████| 19/19 [00:04<00:00,  4.20it/s]9858.98it/s]\n",
      "100%|██████████| 403500/403500 [00:01<00:00, 207645.36it/s]\n",
      " 13%|█▎        | 62936/494940 [00:00<00:02, 204199.52it/s]]█▍                   | 65/88 [01:01<00:26,  1.15s/it]"
     ]
    },
    {
     "name": "stdout",
     "output_type": "stream",
     "text": [
      "check PMF of data: \t 1.0000000000000029\n",
      "mean of data: \t 0.726321616200213\n",
      "std of data: \t 0.443221390427554\n",
      "check PMF of normal: \t 1.0000000000000016\n",
      "check normal PMF mean: \t 1.0005120000000014\n",
      "check normal PMF std: \t 0.1041006141000138\n",
      "bin size of PMF: 30\n"
     ]
    },
    {
     "name": "stderr",
     "output_type": "stream",
     "text": [
      "100%|██████████| 390100/390100 [00:02<00:00, 170468.88it/s]\n",
      " 39%|███▊      | 191225/494940 [00:00<00:01, 210988.16it/s]"
     ]
    },
    {
     "name": "stdout",
     "output_type": "stream",
     "text": [
      "check PMF of data: \t 1.0000000000000022\n",
      "mean of data: \t 0.5138591521120182\n",
      "std of data: \t 0.605852183474446\n",
      "check PMF of normal: \t 1.0000000000000016\n",
      "check normal PMF mean: \t 1.0000320000000016\n",
      "check normal PMF std: \t 0.10365615744373313\n",
      "bin size of PMF: 30\n"
     ]
    },
    {
     "name": "stderr",
     "output_type": "stream",
     "text": [
      " 89%|████████▉ | 17/19 [00:03<00:00,  5.47it/s]9674.16it/s]"
     ]
    },
    {
     "name": "stdout",
     "output_type": "stream",
     "text": [
      "check PMF of data: \t 1.0000000000000029\n",
      "mean of data: \t 0.72714700137397\n",
      "std of data: \t 0.4486062698415214\n",
      "check PMF of normal: \t 1.0000000000000013\n",
      "check normal PMF mean: \t 0.9997550000000015\n",
      "check normal PMF std: \t 0.1040025960012537\n",
      "bin size of PMF: 30\n"
     ]
    },
    {
     "name": "stderr",
     "output_type": "stream",
     "text": [
      "100%|██████████| 19/19 [00:03<00:00,  5.49it/s]5313.16it/s]\n",
      " 83%|████████▎ | 408478/494940 [00:01<00:00, 217911.52it/s]"
     ]
    },
    {
     "name": "stdout",
     "output_type": "stream",
     "text": [
      "check PMF of data: \t 1.0000000000000036\n",
      "mean of data: \t 0.8594612069050893\n",
      "std of data: \t 0.2820327149586089\n",
      "check PMF of normal: \t 1.0000000000000016\n",
      "check normal PMF mean: \t 1.0003090000000017\n",
      "check normal PMF std: \t 0.10400146402334917\n",
      "bin size of PMF: 30\n"
     ]
    },
    {
     "name": "stderr",
     "output_type": "stream",
     "text": [
      " 92%|█████████▏| 452947/494940 [00:02<00:00, 220132.91it/s]/tmp/ipykernel_2820675/308317976.py:13: RuntimeWarning: The data contains 'boundary' events, indicating data discontinuities. Be cautious of filtering and epoching around these events.\n",
      "[Parallel(n_jobs=1)]: Using backend SequentialBackend with 1 concurrent workers.\n",
      " 26%|██▋       | 98987/376670 [00:00<00:01, 248065.82it/s]"
     ]
    },
    {
     "name": "stdout",
     "output_type": "stream",
     "text": [
      "check PMF of data: \t 1.000000000000003\n",
      "mean of data: \t 0.761956070447912\n",
      "std of data: \t 0.40856955685338736\n",
      "check PMF of normal: \t 1.0000000000000016\n",
      "check normal PMF mean: \t 0.9995530000000015\n",
      "check normal PMF std: \t 0.10416621424915082\n",
      "bin size of PMF: 30\n",
      "Filtering raw data in 1 contiguous segment\n",
      "Setting up band-pass filter from 6.5 - 8 Hz\n",
      "\n",
      "FIR filter parameters\n",
      "---------------------\n",
      "Designing a one-pass, zero-phase, non-causal bandpass filter:\n",
      "- Windowed time-domain design (firwin) method\n",
      "- Hamming window with 0.0194 passband ripple and 53 dB stopband attenuation\n",
      "- Lower passband edge: 6.50\n",
      "- Lower transition bandwidth: 2.00 Hz (-6 dB cutoff frequency: 5.50 Hz)\n",
      "- Upper passband edge: 8.00 Hz\n",
      "- Upper transition bandwidth: 2.00 Hz (-6 dB cutoff frequency: 9.00 Hz)\n",
      "- Filter length: 825 samples (1.650 s)\n",
      "\n"
     ]
    },
    {
     "name": "stderr",
     "output_type": "stream",
     "text": [
      "[Parallel(n_jobs=1)]: Done   1 out of   1 | elapsed:    0.0s remaining:    0.0s\n",
      " 96%|█████████▌| 475441/494940 [00:02<00:00, 221566.43it/s][Parallel(n_jobs=1)]: Done   2 out of   2 | elapsed:    0.0s remaining:    0.0s\n",
      " 95%|█████████▍| 18/19 [00:03<00:00,  5.38it/s][Parallel(n_jobs=1)]: Done   3 out of   3 | elapsed:    0.1s remaining:    0.0s\n",
      "[Parallel(n_jobs=1)]: Done   4 out of   4 | elapsed:    0.1s remaining:    0.0s\n"
     ]
    },
    {
     "name": "stdout",
     "output_type": "stream",
     "text": [
      "check PMF of data: \t 1.0000000000000036\n",
      "mean of data: \t 0.8319189341503995\n",
      "std of data: \t 0.3253286091959092\n",
      "check PMF of normal: \t 1.0000000000000018\n",
      "check normal PMF mean: \t 1.0000430000000016\n",
      "check normal PMF std: \t 0.1038546972986778\n",
      "bin size of PMF: 30\n"
     ]
    },
    {
     "name": "stderr",
     "output_type": "stream",
     "text": [
      "100%|██████████| 494940/494940 [00:02<00:00, 214631.20it/s]\n",
      "100%|██████████| 19/19 [00:03<00:00,  5.17it/s]7771.19it/s]\n",
      " 58%|█████▊    | 11/19 [00:02<00:01,  5.51it/s]/tmp/ipykernel_2820675/308317976.py:13: RuntimeWarning: The data contains 'boundary' events, indicating data discontinuities. Be cautious of filtering and epoching around these events.\n",
      "[Parallel(n_jobs=1)]: Done  19 out of  19 | elapsed:    0.4s finished\n",
      " 53%|█████▎    | 198392/376670 [00:00<00:00, 243427.96it/s][Parallel(n_jobs=1)]: Using backend SequentialBackend with 1 concurrent workers.\n",
      "[Parallel(n_jobs=1)]: Done   1 out of   1 | elapsed:    0.0s remaining:    0.0s\n",
      " 12%|█▏        | 48976/408820 [00:00<00:01, 245834.35it/s][Parallel(n_jobs=1)]: Done   2 out of   2 | elapsed:    0.0s remaining:    0.0s\n",
      "[Parallel(n_jobs=1)]: Done   3 out of   3 | elapsed:    0.1s remaining:    0.0s\n",
      "[Parallel(n_jobs=1)]: Done   4 out of   4 | elapsed:    0.1s remaining:    0.0s\n",
      " 18%|█▊        | 73560/408820 [00:00<00:01, 241700.86it/s]]"
     ]
    },
    {
     "name": "stdout",
     "output_type": "stream",
     "text": [
      "Filtering raw data in 1 contiguous segment\n",
      "Setting up band-pass filter from 6.5 - 8 Hz\n",
      "\n",
      "FIR filter parameters\n",
      "---------------------\n",
      "Designing a one-pass, zero-phase, non-causal bandpass filter:\n",
      "- Windowed time-domain design (firwin) method\n",
      "- Hamming window with 0.0194 passband ripple and 53 dB stopband attenuation\n",
      "- Lower passband edge: 6.50\n",
      "- Lower transition bandwidth: 2.00 Hz (-6 dB cutoff frequency: 5.50 Hz)\n",
      "- Upper passband edge: 8.00 Hz\n",
      "- Upper transition bandwidth: 2.00 Hz (-6 dB cutoff frequency: 9.00 Hz)\n",
      "- Filter length: 825 samples (1.650 s)\n",
      "\n",
      "check PMF of data: \t 1.0000000000000024\n",
      "mean of data: \t 0.6194420398404931\n",
      "std of data: \t 0.5390691104864606\n",
      "check PMF of normal: \t 1.0000000000000016\n",
      "check normal PMF mean: \t 0.9997220000000017\n",
      "check normal PMF std: \t 0.10385048250249004\n",
      "bin size of PMF: 30\n",
      "Filtering raw data in 1 contiguous segment\n",
      "Setting up band-pass filter from 6.5 - 8 Hz\n",
      "\n",
      "FIR filter parameters\n",
      "---------------------\n",
      "Designing a one-pass, zero-phase, non-causal bandpass filter:\n",
      "- Windowed time-domain design (firwin) method\n",
      "- Hamming window with 0.0194 passband ripple and 53 dB stopband attenuation\n",
      "- Lower passband edge: 6.50\n",
      "- Lower transition bandwidth: 2.00 Hz (-6 dB cutoff frequency: 5.50 Hz)\n",
      "- Upper passband edge: 8.00 Hz\n",
      "- Upper transition bandwidth: 2.00 Hz (-6 dB cutoff frequency: 9.00 Hz)\n",
      "- Filter length: 825 samples (1.650 s)\n",
      "\n"
     ]
    },
    {
     "name": "stderr",
     "output_type": "stream",
     "text": [
      "[Parallel(n_jobs=1)]: Using backend SequentialBackend with 1 concurrent workers.\n",
      "[Parallel(n_jobs=1)]: Done   1 out of   1 | elapsed:    0.0s remaining:    0.0s\n",
      " 65%|██████▌   | 246195/376670 [00:01<00:00, 217731.04it/s][Parallel(n_jobs=1)]: Done   2 out of   2 | elapsed:    0.0s remaining:    0.0s\n",
      "[Parallel(n_jobs=1)]: Done   3 out of   3 | elapsed:    0.1s remaining:    0.0s\n",
      "[Parallel(n_jobs=1)]: Done   4 out of   4 | elapsed:    0.1s remaining:    0.0s\n",
      " 71%|███████   | 268193/376670 [00:01<00:00, 212025.36it/s][Parallel(n_jobs=1)]: Done  19 out of  19 | elapsed:    0.4s finished\n",
      " 74%|███████▎  | 14/19 [00:02<00:00,  5.59it/s]/tmp/ipykernel_2820675/308317976.py:13: RuntimeWarning: The data contains 'boundary' events, indicating data discontinuities. Be cautious of filtering and epoching around these events.\n",
      " 83%|████████▎ | 311231/376670 [00:01<00:00, 201419.04it/s][Parallel(n_jobs=1)]: Using backend SequentialBackend with 1 concurrent workers.\n",
      "[Parallel(n_jobs=1)]: Done  19 out of  19 | elapsed:    0.4s finished\n",
      "[Parallel(n_jobs=1)]: Done   1 out of   1 | elapsed:    0.0s remaining:    0.0s\n",
      "/tmp/ipykernel_2820675/308317976.py:13: RuntimeWarning: The data contains 'boundary' events, indicating data discontinuities. Be cautious of filtering and epoching around these events.\n",
      "[Parallel(n_jobs=1)]: Done   2 out of   2 | elapsed:    0.0s remaining:    0.0s\n",
      " 48%|████▊     | 195504/408820 [00:00<00:00, 226359.48it/s][Parallel(n_jobs=1)]: Done   3 out of   3 | elapsed:    0.1s remaining:    0.0s\n",
      " 79%|███████▉  | 15/19 [00:02<00:00,  5.53it/s]"
     ]
    },
    {
     "name": "stdout",
     "output_type": "stream",
     "text": [
      "Filtering raw data in 1 contiguous segment\n",
      "Setting up band-pass filter from 6.5 - 8 Hz\n",
      "\n",
      "FIR filter parameters\n",
      "---------------------\n",
      "Designing a one-pass, zero-phase, non-causal bandpass filter:\n",
      "- Windowed time-domain design (firwin) method\n",
      "- Hamming window with 0.0194 passband ripple and 53 dB stopband attenuation\n",
      "- Lower passband edge: 6.50\n",
      "- Lower transition bandwidth: 2.00 Hz (-6 dB cutoff frequency: 5.50 Hz)\n",
      "- Upper passband edge: 8.00 Hz\n",
      "- Upper transition bandwidth: 2.00 Hz (-6 dB cutoff frequency: 9.00 Hz)\n",
      "- Filter length: 825 samples (1.650 s)\n",
      "\n",
      "check PMF of data: \t 1.0000000000000029\n",
      "mean of data: \t 0.6767228591925938\n",
      "std of data: \t 0.5025800603639672\n",
      "check PMF of normal: \t 1.0000000000000016\n",
      "check normal PMF mean: \t 1.0000300000000015\n",
      "check normal PMF std: \t 0.10424010312734727\n",
      "bin size of PMF: 30\n",
      "Filtering raw data in 1 contiguous segment\n",
      "Setting up band-pass filter from 6.5 - 8 Hz\n",
      "\n",
      "FIR filter parameters\n",
      "---------------------\n",
      "Designing a one-pass, zero-phase, non-causal bandpass filter:\n",
      "- Windowed time-domain design (firwin) method\n",
      "- Hamming window with 0.0194 passband ripple and 53 dB stopband attenuation\n",
      "- Lower passband edge: 6.50\n",
      "- Lower transition bandwidth: 2.00 Hz (-6 dB cutoff frequency: 5.50 Hz)\n",
      "- Upper passband edge: 8.00 Hz\n",
      "- Upper transition bandwidth: 2.00 Hz (-6 dB cutoff frequency: 9.00 Hz)\n",
      "- Filter length: 825 samples (1.650 s)\n",
      "\n"
     ]
    },
    {
     "name": "stderr",
     "output_type": "stream",
     "text": [
      " 88%|████████▊ | 331542/376670 [00:01<00:00, 190987.06it/s][Parallel(n_jobs=1)]: Done   4 out of   4 | elapsed:    0.1s remaining:    0.0s\n",
      "[Parallel(n_jobs=1)]: Using backend SequentialBackend with 1 concurrent workers.\n",
      "[Parallel(n_jobs=1)]: Done   1 out of   1 | elapsed:    0.0s remaining:    0.0s\n",
      "[Parallel(n_jobs=1)]: Done   2 out of   2 | elapsed:    0.0s remaining:    0.0s\n",
      "[Parallel(n_jobs=1)]: Done   3 out of   3 | elapsed:    0.1s remaining:    0.0s\n",
      "[Parallel(n_jobs=1)]: Done   4 out of   4 | elapsed:    0.1s remaining:    0.0s\n",
      "100%|██████████| 376670/376670 [00:01<00:00, 216840.68it/s]\n",
      "/tmp/ipykernel_2820675/308317976.py:13: RuntimeWarning: The data contains 'boundary' events, indicating data discontinuities. Be cautious of filtering and epoching around these events.\n",
      "[Parallel(n_jobs=1)]: Using backend SequentialBackend with 1 concurrent workers.\n",
      "[Parallel(n_jobs=1)]: Done   1 out of   1 | elapsed:    0.0s remaining:    0.0s\n",
      "[Parallel(n_jobs=1)]: Done   2 out of   2 | elapsed:    0.0s remaining:    0.0s\n",
      " 63%|██████▎   | 259511/408820 [00:01<00:00, 190915.59it/s]/tmp/ipykernel_2820675/308317976.py:13: RuntimeWarning: The data contains 'boundary' events, indicating data discontinuities. Be cautious of filtering and epoching around these events.\n",
      "[Parallel(n_jobs=1)]: Done   3 out of   3 | elapsed:    0.1s remaining:    0.0s\n",
      " 89%|████████▉ | 17/19 [00:03<00:00,  5.34it/s][Parallel(n_jobs=1)]: Done   4 out of   4 | elapsed:    0.1s remaining:    0.0s\n"
     ]
    },
    {
     "name": "stdout",
     "output_type": "stream",
     "text": [
      "check PMF of data: \t 1.000000000000003\n",
      "mean of data: \t 0.75831463517377\n",
      "std of data: \t 0.4181212127347502\n",
      "check PMF of normal: \t 1.0000000000000016\n",
      "check normal PMF mean: \t 0.9994670000000015\n",
      "check normal PMF std: \t 0.10371458870862861\n",
      "bin size of PMF: 30\n",
      "Filtering raw data in 1 contiguous segment\n",
      "Setting up band-pass filter from 6.5 - 8 Hz\n",
      "\n",
      "FIR filter parameters\n",
      "---------------------\n",
      "Designing a one-pass, zero-phase, non-causal bandpass filter:\n",
      "- Windowed time-domain design (firwin) method\n",
      "- Hamming window with 0.0194 passband ripple and 53 dB stopband attenuation\n",
      "- Lower passband edge: 6.50\n",
      "- Lower transition bandwidth: 2.00 Hz (-6 dB cutoff frequency: 5.50 Hz)\n",
      "- Upper passband edge: 8.00 Hz\n",
      "- Upper transition bandwidth: 2.00 Hz (-6 dB cutoff frequency: 9.00 Hz)\n",
      "- Filter length: 825 samples (1.650 s)\n",
      "\n",
      "Filtering raw data in 1 contiguous segment\n",
      "Setting up band-pass filter from 6.5 - 8 Hz\n",
      "\n",
      "FIR filter parameters\n",
      "---------------------\n",
      "Designing a one-pass, zero-phase, non-causal bandpass filter:\n",
      "- Windowed time-domain design (firwin) method\n",
      "- Hamming window with 0.0194 passband ripple and 53 dB stopband attenuation\n",
      "- Lower passband edge: 6.50\n",
      "- Lower transition bandwidth: 2.00 Hz (-6 dB cutoff frequency: 5.50 Hz)\n",
      "- Upper passband edge: 8.00 Hz\n",
      "- Upper transition bandwidth: 2.00 Hz (-6 dB cutoff frequency: 9.00 Hz)\n",
      "- Filter length: 825 samples (1.650 s)\n",
      "\n"
     ]
    },
    {
     "name": "stderr",
     "output_type": "stream",
     "text": [
      "[Parallel(n_jobs=1)]: Done  19 out of  19 | elapsed:    0.4s finished\n",
      "[Parallel(n_jobs=1)]: Using backend SequentialBackend with 1 concurrent workers.\n",
      "[Parallel(n_jobs=1)]: Done  19 out of  19 | elapsed:    0.5s finished\n",
      "[Parallel(n_jobs=1)]: Done   1 out of   1 | elapsed:    0.0s remaining:    0.0s\n",
      " 68%|██████▊   | 278763/408820 [00:01<00:00, 191110.47it/s][Parallel(n_jobs=1)]: Done   2 out of   2 | elapsed:    0.1s remaining:    0.0s\n",
      "[Parallel(n_jobs=1)]: Done   3 out of   3 | elapsed:    0.1s remaining:    0.0s\n",
      "[Parallel(n_jobs=1)]: Done   4 out of   4 | elapsed:    0.1s remaining:    0.0s\n",
      " 78%|███████▊  | 319201/408820 [00:01<00:00, 196480.91it/s][Parallel(n_jobs=1)]: Done  19 out of  19 | elapsed:    0.4s finished\n",
      "100%|██████████| 19/19 [00:03<00:00,  5.45it/s]6190.63it/s]\n",
      " 92%|█████████▏| 377842/408820 [00:01<00:00, 188654.56it/s][Parallel(n_jobs=1)]: Done  19 out of  19 | elapsed:    0.6s finished\n",
      "100%|██████████| 408820/408820 [00:01<00:00, 206314.26it/s]\n",
      " 25%|██▌       | 96249/380050 [00:00<00:01, 160902.05it/s]/tmp/ipykernel_2820675/308317976.py:13: RuntimeWarning: The data contains 'boundary' events, indicating data discontinuities. Be cautious of filtering and epoching around these events.\n",
      "[Parallel(n_jobs=1)]: Using backend SequentialBackend with 1 concurrent workers.\n"
     ]
    },
    {
     "name": "stdout",
     "output_type": "stream",
     "text": [
      "Filtering raw data in 1 contiguous segment\n",
      "Setting up band-pass filter from 6.5 - 8 Hz\n",
      "\n",
      "FIR filter parameters\n",
      "---------------------\n",
      "Designing a one-pass, zero-phase, non-causal bandpass filter:\n",
      "- Windowed time-domain design (firwin) method\n",
      "- Hamming window with 0.0194 passband ripple and 53 dB stopband attenuation\n",
      "- Lower passband edge: 6.50\n",
      "- Lower transition bandwidth: 2.00 Hz (-6 dB cutoff frequency: 5.50 Hz)\n",
      "- Upper passband edge: 8.00 Hz\n",
      "- Upper transition bandwidth: 2.00 Hz (-6 dB cutoff frequency: 9.00 Hz)\n",
      "- Filter length: 825 samples (1.650 s)\n",
      "\n"
     ]
    },
    {
     "name": "stderr",
     "output_type": "stream",
     "text": [
      " 30%|██▉       | 112351/380050 [00:00<00:01, 156896.85it/s][Parallel(n_jobs=1)]: Done   1 out of   1 | elapsed:    0.0s remaining:    0.0s\n",
      "[Parallel(n_jobs=1)]: Done   2 out of   2 | elapsed:    0.1s remaining:    0.0s\n",
      "[Parallel(n_jobs=1)]: Done   3 out of   3 | elapsed:    0.1s remaining:    0.0s\n",
      "[Parallel(n_jobs=1)]: Done   4 out of   4 | elapsed:    0.1s remaining:    0.0s\n",
      "  0%|          | 0/19 [00:00<?, ?it/s]/tmp/ipykernel_2820675/308317976.py:13: RuntimeWarning: The data contains 'boundary' events, indicating data discontinuities. Be cautious of filtering and epoching around these events.\n",
      " 48%|████▊     | 181960/380050 [00:01<00:01, 171370.74it/s][Parallel(n_jobs=1)]: Using backend SequentialBackend with 1 concurrent workers.\n",
      "[Parallel(n_jobs=1)]: Done  19 out of  19 | elapsed:    0.5s finished\n",
      "[Parallel(n_jobs=1)]: Done   1 out of   1 | elapsed:    0.0s remaining:    0.0s\n",
      "[Parallel(n_jobs=1)]: Done   2 out of   2 | elapsed:    0.0s remaining:    0.0s\n",
      "[Parallel(n_jobs=1)]: Done   3 out of   3 | elapsed:    0.1s remaining:    0.0s\n",
      " 52%|█████▏    | 199144/380050 [00:01<00:01, 171504.63it/s]"
     ]
    },
    {
     "name": "stdout",
     "output_type": "stream",
     "text": [
      "Filtering raw data in 1 contiguous segment\n",
      "Setting up band-pass filter from 6.5 - 8 Hz\n",
      "\n",
      "FIR filter parameters\n",
      "---------------------\n",
      "Designing a one-pass, zero-phase, non-causal bandpass filter:\n",
      "- Windowed time-domain design (firwin) method\n",
      "- Hamming window with 0.0194 passband ripple and 53 dB stopband attenuation\n",
      "- Lower passband edge: 6.50\n",
      "- Lower transition bandwidth: 2.00 Hz (-6 dB cutoff frequency: 5.50 Hz)\n",
      "- Upper passband edge: 8.00 Hz\n",
      "- Upper transition bandwidth: 2.00 Hz (-6 dB cutoff frequency: 9.00 Hz)\n",
      "- Filter length: 825 samples (1.650 s)\n",
      "\n"
     ]
    },
    {
     "name": "stderr",
     "output_type": "stream",
     "text": [
      "[Parallel(n_jobs=1)]: Done   4 out of   4 | elapsed:    0.1s remaining:    0.0s\n",
      " 66%|██████▌   | 251329/380050 [00:01<00:00, 165562.91it/s][Parallel(n_jobs=1)]: Done  19 out of  19 | elapsed:    0.4s finished\n",
      "100%|██████████| 380050/380050 [00:02<00:00, 159168.92it/s]\n",
      " 68%|██████▊   | 13/19 [00:02<00:01,  5.04it/s]/tmp/ipykernel_2820675/308317976.py:13: RuntimeWarning: The data contains 'boundary' events, indicating data discontinuities. Be cautious of filtering and epoching around these events.\n",
      "  0%|          | 0/19 [00:00<?, ?it/s][Parallel(n_jobs=1)]: Using backend SequentialBackend with 1 concurrent workers.\n",
      " 63%|██████▎   | 12/19 [00:02<00:01,  5.04it/s]"
     ]
    },
    {
     "name": "stdout",
     "output_type": "stream",
     "text": [
      "check PMF of data: \t 1.0000000000000029\n",
      "mean of data: \t 0.7164797753263049\n",
      "std of data: \t 0.4599578762716839\n",
      "check PMF of normal: \t 1.0000000000000016\n",
      "check normal PMF mean: \t 0.9996440000000014\n",
      "check normal PMF std: \t 0.10385794752449132\n",
      "bin size of PMF: 30\n",
      "Filtering raw data in 1 contiguous segment\n",
      "Setting up band-pass filter from 6.5 - 8 Hz\n",
      "\n",
      "FIR filter parameters\n",
      "---------------------\n",
      "Designing a one-pass, zero-phase, non-causal bandpass filter:\n",
      "- Windowed time-domain design (firwin) method\n",
      "- Hamming window with 0.0194 passband ripple and 53 dB stopband attenuation\n",
      "- Lower passband edge: 6.50\n",
      "- Lower transition bandwidth: 2.00 Hz (-6 dB cutoff frequency: 5.50 Hz)\n",
      "- Upper passband edge: 8.00 Hz\n",
      "- Upper transition bandwidth: 2.00 Hz (-6 dB cutoff frequency: 9.00 Hz)\n",
      "- Filter length: 825 samples (1.650 s)\n",
      "\n"
     ]
    },
    {
     "name": "stderr",
     "output_type": "stream",
     "text": [
      "[Parallel(n_jobs=1)]: Done   1 out of   1 | elapsed:    0.0s remaining:    0.0s\n",
      " 74%|███████▎  | 14/19 [00:02<00:00,  5.01it/s][Parallel(n_jobs=1)]: Done   2 out of   2 | elapsed:    0.1s remaining:    0.0s\n",
      "[Parallel(n_jobs=1)]: Done   3 out of   3 | elapsed:    0.1s remaining:    0.0s\n",
      "[Parallel(n_jobs=1)]: Done   4 out of   4 | elapsed:    0.1s remaining:    0.0s\n",
      " 79%|███████▉  | 15/19 [00:03<00:00,  5.00it/s]/tmp/ipykernel_2820675/308317976.py:13: RuntimeWarning: The data contains 'boundary' events, indicating data discontinuities. Be cautious of filtering and epoching around these events.\n",
      "[Parallel(n_jobs=1)]: Using backend SequentialBackend with 1 concurrent workers.\n",
      " 11%|█         | 2/19 [00:00<00:03,  4.58it/s][Parallel(n_jobs=1)]: Done   1 out of   1 | elapsed:    0.0s remaining:    0.0s\n",
      " 11%|█         | 2/19 [00:00<00:03,  4.84it/s][Parallel(n_jobs=1)]: Done   2 out of   2 | elapsed:    0.0s remaining:    0.0s\n",
      " 74%|███████▎  | 14/19 [00:02<00:01,  4.86it/s][Parallel(n_jobs=1)]: Done   3 out of   3 | elapsed:    0.1s remaining:    0.0s\n"
     ]
    },
    {
     "name": "stdout",
     "output_type": "stream",
     "text": [
      "check PMF of data: \t 1.0000000000000029\n",
      "mean of data: \t 0.7448755646782846\n",
      "std of data: \t 0.4294888797346239\n",
      "check PMF of normal: \t 1.0000000000000016\n",
      "check normal PMF mean: \t 1.0004890000000017\n",
      "check normal PMF std: \t 0.1041324199229039\n",
      "bin size of PMF: 30\n",
      "Filtering raw data in 1 contiguous segment\n",
      "Setting up band-pass filter from 6.5 - 8 Hz\n",
      "\n",
      "FIR filter parameters\n",
      "---------------------\n",
      "Designing a one-pass, zero-phase, non-causal bandpass filter:\n",
      "- Windowed time-domain design (firwin) method\n",
      "- Hamming window with 0.0194 passband ripple and 53 dB stopband attenuation\n",
      "- Lower passband edge: 6.50\n",
      "- Lower transition bandwidth: 2.00 Hz (-6 dB cutoff frequency: 5.50 Hz)\n",
      "- Upper passband edge: 8.00 Hz\n",
      "- Upper transition bandwidth: 2.00 Hz (-6 dB cutoff frequency: 9.00 Hz)\n",
      "- Filter length: 825 samples (1.650 s)\n",
      "\n"
     ]
    },
    {
     "name": "stderr",
     "output_type": "stream",
     "text": [
      " 84%|████████▍ | 16/19 [00:03<00:00,  4.91it/s][Parallel(n_jobs=1)]: Done   4 out of   4 | elapsed:    0.1s remaining:    0.0s\n",
      "[Parallel(n_jobs=1)]: Done  19 out of  19 | elapsed:    0.5s finished\n",
      " 89%|████████▉ | 17/19 [00:03<00:00,  4.86it/s][Parallel(n_jobs=1)]: Done  19 out of  19 | elapsed:    0.4s finished\n",
      " 84%|████████▍ | 16/19 [00:03<00:00,  4.74it/s]"
     ]
    },
    {
     "name": "stdout",
     "output_type": "stream",
     "text": [
      "check PMF of data: \t 1.0000000000000022\n",
      "mean of data: \t 0.579349950549451\n",
      "std of data: \t 0.5611692134719839\n",
      "check PMF of normal: \t 1.0000000000000016\n",
      "check normal PMF mean: \t 1.0001740000000015\n",
      "check normal PMF std: \t 0.10426010610008025\n",
      "bin size of PMF: 30\n"
     ]
    },
    {
     "name": "stderr",
     "output_type": "stream",
     "text": [
      "100%|██████████| 19/19 [00:03<00:00,  4.92it/s]\n",
      "100%|██████████| 19/19 [00:03<00:00,  4.89it/s]174.49it/s]\n",
      " 45%|████▍     | 174852/390260 [00:00<00:01, 208446.76it/s][Parallel(n_jobs=1)]: Using backend SequentialBackend with 1 concurrent workers.\n",
      "  5%|▌         | 1/19 [00:00<00:03,  4.74it/s][Parallel(n_jobs=1)]: Done   1 out of   1 | elapsed:    0.0s remaining:    0.0s\n",
      " 62%|██████▏   | 246953/398250 [00:01<00:00, 202923.84it/s][Parallel(n_jobs=1)]: Done   2 out of   2 | elapsed:    0.0s remaining:    0.0s\n",
      " 51%|█████     | 197471/390260 [00:01<00:00, 213917.42it/s][Parallel(n_jobs=1)]: Done   3 out of   3 | elapsed:    0.1s remaining:    0.0s\n"
     ]
    },
    {
     "name": "stdout",
     "output_type": "stream",
     "text": [
      "check PMF of data: \t 1.0000000000000027\n",
      "mean of data: \t 0.7085046535120444\n",
      "std of data: \t 0.45853405430054517\n",
      "check PMF of normal: \t 1.0000000000000016\n",
      "check normal PMF mean: \t 1.0001560000000016\n",
      "check normal PMF std: \t 0.10407773856113513\n",
      "bin size of PMF: 30\n",
      "Filtering raw data in 1 contiguous segment\n",
      "Setting up band-pass filter from 6.5 - 8 Hz\n",
      "\n",
      "FIR filter parameters\n",
      "---------------------\n",
      "Designing a one-pass, zero-phase, non-causal bandpass filter:\n",
      "- Windowed time-domain design (firwin) method\n",
      "- Hamming window with 0.0194 passband ripple and 53 dB stopband attenuation\n",
      "- Lower passband edge: 6.50\n",
      "- Lower transition bandwidth: 2.00 Hz (-6 dB cutoff frequency: 5.50 Hz)\n",
      "- Upper passband edge: 8.00 Hz\n",
      "- Upper transition bandwidth: 2.00 Hz (-6 dB cutoff frequency: 9.00 Hz)\n",
      "- Filter length: 825 samples (1.650 s)\n",
      "\n"
     ]
    },
    {
     "name": "stderr",
     "output_type": "stream",
     "text": [
      "[Parallel(n_jobs=1)]: Done   4 out of   4 | elapsed:    0.1s remaining:    0.0s\n",
      " 74%|███████▎  | 14/19 [00:02<00:00,  5.23it/s][Parallel(n_jobs=1)]: Done  19 out of  19 | elapsed:    0.4s finished\n",
      "100%|██████████| 398250/398250 [00:02<00:00, 194640.47it/s]\n",
      "100%|██████████| 390260/390260 [00:01<00:00, 210713.37it/s]\n",
      "  5%|▌         | 1/19 [00:00<00:04,  4.34it/s]/tmp/ipykernel_2820675/308317976.py:13: RuntimeWarning: The data contains 'boundary' events, indicating data discontinuities. Be cautious of filtering and epoching around these events.\n",
      " 42%|████▏     | 8/19 [00:01<00:02,  4.94it/s]"
     ]
    },
    {
     "name": "stdout",
     "output_type": "stream",
     "text": [
      "Filtering raw data in 1 contiguous segment\n",
      "Setting up band-pass filter from 6.5 - 8 Hz\n",
      "\n",
      "FIR filter parameters\n",
      "---------------------\n",
      "Designing a one-pass, zero-phase, non-causal bandpass filter:\n",
      "- Windowed time-domain design (firwin) method\n",
      "- Hamming window with 0.0194 passband ripple and 53 dB stopband attenuation\n",
      "- Lower passband edge: 6.50\n",
      "- Lower transition bandwidth: 2.00 Hz (-6 dB cutoff frequency: 5.50 Hz)\n",
      "- Upper passband edge: 8.00 Hz\n",
      "- Upper transition bandwidth: 2.00 Hz (-6 dB cutoff frequency: 9.00 Hz)\n",
      "- Filter length: 825 samples (1.650 s)\n",
      "\n"
     ]
    },
    {
     "name": "stderr",
     "output_type": "stream",
     "text": [
      "[Parallel(n_jobs=1)]: Using backend SequentialBackend with 1 concurrent workers.\n",
      "[Parallel(n_jobs=1)]: Done   1 out of   1 | elapsed:    0.0s remaining:    0.0s\n",
      " 89%|████████▉ | 17/19 [00:03<00:00,  4.88it/s][Parallel(n_jobs=1)]: Done   2 out of   2 | elapsed:    0.1s remaining:    0.0s\n",
      "[Parallel(n_jobs=1)]: Done   3 out of   3 | elapsed:    0.1s remaining:    0.0s\n",
      "[Parallel(n_jobs=1)]: Done   4 out of   4 | elapsed:    0.1s remaining:    0.0s\n",
      "100%|██████████| 19/19 [00:03<00:00,  5.00it/s]\n",
      "100%|██████████| 19/19 [00:04<00:00,  4.68it/s]948.00it/s]\n",
      "  0%|          | 0/407300 [00:00<?, ?it/s][Parallel(n_jobs=1)]: Done  19 out of  19 | elapsed:    0.5s finished\n",
      "100%|██████████| 19/19 [00:04<00:00,  4.58it/s]9704.53it/s]\n",
      "100%|██████████| 19/19 [00:03<00:00,  5.06it/s]355.15it/s]]\n",
      "100%|██████████| 401640/401640 [00:02<00:00, 196556.04it/s]\n",
      "100%|██████████| 407300/407300 [00:01<00:00, 210124.56it/s]\n",
      "100%|██████████| 19/19 [00:03<00:00,  5.57it/s]9262.69it/s]\n",
      "100%|██████████| 19/19 [00:03<00:00,  5.11it/s]316.13it/s]\n",
      "100%|███████████████████████████████████████████████████████████████████████████| 88/88 [01:15<00:00,  1.16it/s]\n",
      "100%|██████████| 19/19 [00:03<00:00,  5.27it/s]1708.77it/s]\n",
      "  0%|          | 0/378390 [00:00<?, ?it/s]/tmp/ipykernel_2820675/308317976.py:13: RuntimeWarning: The data contains 'boundary' events, indicating data discontinuities. Be cautious of filtering and epoching around these events.\n",
      "[Parallel(n_jobs=1)]: Using backend SequentialBackend with 1 concurrent workers.\n",
      "[Parallel(n_jobs=1)]: Done   1 out of   1 | elapsed:    0.0s remaining:    0.0s\n",
      " 60%|██████    | 252333/418810 [00:01<00:00, 181548.04it/s][Parallel(n_jobs=1)]: Done   2 out of   2 | elapsed:    0.0s remaining:    0.0s\n",
      " 33%|███▎      | 129458/395660 [00:00<00:01, 218222.84it/s][Parallel(n_jobs=1)]: Done   3 out of   3 | elapsed:    0.0s remaining:    0.0s\n",
      " 54%|█████▍    | 213414/393560 [00:00<00:00, 231068.60it/s]"
     ]
    },
    {
     "name": "stdout",
     "output_type": "stream",
     "text": [
      "check PMF of data: \t 1.0000000000000029\n",
      "mean of data: \t 0.7224462549971945\n",
      "std of data: \t 0.44752820739579835\n",
      "check PMF of normal: \t 1.0000000000000016\n",
      "check normal PMF mean: \t 1.0003160000000018\n",
      "check normal PMF std: \t 0.10378391081473078\n",
      "bin size of PMF: 30\n",
      "Filtering raw data in 1 contiguous segment\n",
      "Setting up band-pass filter from 6.5 - 8 Hz\n",
      "\n",
      "FIR filter parameters\n",
      "---------------------\n",
      "Designing a one-pass, zero-phase, non-causal bandpass filter:\n",
      "- Windowed time-domain design (firwin) method\n",
      "- Hamming window with 0.0194 passband ripple and 53 dB stopband attenuation\n",
      "- Lower passband edge: 6.50\n",
      "- Lower transition bandwidth: 2.00 Hz (-6 dB cutoff frequency: 5.50 Hz)\n",
      "- Upper passband edge: 8.00 Hz\n",
      "- Upper transition bandwidth: 2.00 Hz (-6 dB cutoff frequency: 9.00 Hz)\n",
      "- Filter length: 825 samples (1.650 s)\n",
      "\n"
     ]
    },
    {
     "name": "stderr",
     "output_type": "stream",
     "text": [
      " 42%|████▏     | 8/19 [00:01<00:02,  5.41it/s][Parallel(n_jobs=1)]: Done   4 out of   4 | elapsed:    0.1s remaining:    0.0s\n",
      " 15%|█▍        | 55984/378390 [00:00<00:01, 190111.17it/s][Parallel(n_jobs=1)]: Done  19 out of  19 | elapsed:    0.3s finished\n",
      "[Parallel(n_jobs=1)]: Using backend SequentialBackend with 1 concurrent workers.\n",
      " 73%|███████▎  | 306986/418810 [00:01<00:00, 181631.37it/s][Parallel(n_jobs=1)]: Done   1 out of   1 | elapsed:    0.0s remaining:    0.0s\n",
      " 53%|█████▎    | 199330/374240 [00:00<00:00, 213280.17it/s][Parallel(n_jobs=1)]: Done   2 out of   2 | elapsed:    0.0s remaining:    0.0s\n",
      " 20%|██        | 75748/378390 [00:00<00:01, 193074.83it/s][Parallel(n_jobs=1)]: Done   3 out of   3 | elapsed:    0.1s remaining:    0.0s\n",
      "[Parallel(n_jobs=1)]: Done   4 out of   4 | elapsed:    0.1s remaining:    0.0s\n",
      " 55%|█████▍    | 216471/395660 [00:01<00:00, 212806.72it/s]"
     ]
    },
    {
     "name": "stdout",
     "output_type": "stream",
     "text": [
      "check PMF of data: \t 1.000000000000002\n",
      "mean of data: \t 0.3903279190391307\n",
      "std of data: \t 0.6651721966116344\n",
      "check PMF of normal: \t 1.0000000000000016\n",
      "check normal PMF mean: \t 1.0001600000000017\n",
      "check normal PMF std: \t 0.1044268854270776\n",
      "bin size of PMF: 30\n",
      "Filtering raw data in 1 contiguous segment\n",
      "Setting up band-pass filter from 6.5 - 8 Hz\n",
      "\n",
      "FIR filter parameters\n",
      "---------------------\n",
      "Designing a one-pass, zero-phase, non-causal bandpass filter:\n",
      "- Windowed time-domain design (firwin) method\n",
      "- Hamming window with 0.0194 passband ripple and 53 dB stopband attenuation\n",
      "- Lower passband edge: 6.50\n",
      "- Lower transition bandwidth: 2.00 Hz (-6 dB cutoff frequency: 5.50 Hz)\n",
      "- Upper passband edge: 8.00 Hz\n",
      "- Upper transition bandwidth: 2.00 Hz (-6 dB cutoff frequency: 9.00 Hz)\n",
      "- Filter length: 825 samples (1.650 s)\n",
      "\n"
     ]
    },
    {
     "name": "stderr",
     "output_type": "stream",
     "text": [
      " 86%|████████▋ | 361894/418810 [00:02<00:00, 182353.57it/s][Parallel(n_jobs=1)]: Done  19 out of  19 | elapsed:    0.3s finished\n",
      "100%|██████████| 393560/393560 [00:01<00:00, 236015.05it/s]\n",
      "100%|██████████| 19/19 [00:04<00:00,  4.55it/s]4093.98it/s]\n",
      "100%|██████████| 418810/418810 [00:02<00:00, 179255.16it/s]\n",
      "100%|██████████| 374240/374240 [00:01<00:00, 209125.05it/s]\n",
      "100%|██████████| 395660/395660 [00:01<00:00, 213081.82it/s]\n",
      "100%|██████████| 378390/378390 [00:02<00:00, 179246.35it/s]\n",
      "100%|██████████| 19/19 [00:03<00:00,  5.33it/s]0811.53it/s]\n",
      " 24%|██▍       | 95971/402470 [00:00<00:01, 195042.49it/s]]"
     ]
    },
    {
     "name": "stdout",
     "output_type": "stream",
     "text": [
      "check PMF of data: \t 1.000000000000003\n",
      "mean of data: \t 0.7963199187919906\n",
      "std of data: \t 0.36666277442610035\n",
      "check PMF of normal: \t 1.0000000000000016\n",
      "check normal PMF mean: \t 1.0001320000000016\n",
      "check normal PMF std: \t 0.10416708969727431\n",
      "bin size of PMF: 30\n"
     ]
    },
    {
     "name": "stderr",
     "output_type": "stream",
     "text": [
      "100%|██████████| 449350/449350 [00:02<00:00, 200686.80it/s]\n",
      " 53%|█████▎    | 10/19 [00:02<00:01,  4.77it/s]/tmp/ipykernel_2820675/308317976.py:13: RuntimeWarning: The data contains 'boundary' events, indicating data discontinuities. Be cautious of filtering and epoching around these events.\n",
      " 11%|█         | 2/19 [00:00<00:02,  6.37it/s][Parallel(n_jobs=1)]: Using backend SequentialBackend with 1 concurrent workers.\n",
      "[Parallel(n_jobs=1)]: Done   1 out of   1 | elapsed:    0.0s remaining:    0.0s\n",
      "[Parallel(n_jobs=1)]: Done   2 out of   2 | elapsed:    0.0s remaining:    0.0s\n",
      "[Parallel(n_jobs=1)]: Done   3 out of   3 | elapsed:    0.0s remaining:    0.0s\n",
      " 16%|█▌        | 3/19 [00:00<00:02,  7.60it/s][Parallel(n_jobs=1)]: Done   4 out of   4 | elapsed:    0.1s remaining:    0.0s\n",
      " 55%|█████▌    | 221847/402470 [00:01<00:00, 209190.83it/s]"
     ]
    },
    {
     "name": "stdout",
     "output_type": "stream",
     "text": [
      "check PMF of data: \t 1.0000000000000033\n",
      "mean of data: \t 0.8170635540482883\n",
      "std of data: \t 0.35105687842438665\n",
      "check PMF of normal: \t 1.0000000000000016\n",
      "check normal PMF mean: \t 1.0000450000000018\n",
      "check normal PMF std: \t 0.10437910698506667\n",
      "bin size of PMF: 30\n",
      "Filtering raw data in 1 contiguous segment\n",
      "Setting up band-pass filter from 6.5 - 8 Hz\n",
      "\n",
      "FIR filter parameters\n",
      "---------------------\n",
      "Designing a one-pass, zero-phase, non-causal bandpass filter:\n",
      "- Windowed time-domain design (firwin) method\n",
      "- Hamming window with 0.0194 passband ripple and 53 dB stopband attenuation\n",
      "- Lower passband edge: 6.50\n",
      "- Lower transition bandwidth: 2.00 Hz (-6 dB cutoff frequency: 5.50 Hz)\n",
      "- Upper passband edge: 8.00 Hz\n",
      "- Upper transition bandwidth: 2.00 Hz (-6 dB cutoff frequency: 9.00 Hz)\n",
      "- Filter length: 825 samples (1.650 s)\n",
      "\n"
     ]
    },
    {
     "name": "stderr",
     "output_type": "stream",
     "text": [
      " 66%|██████▌   | 264065/402470 [00:01<00:00, 209111.50it/s][Parallel(n_jobs=1)]: Done  19 out of  19 | elapsed:    0.3s finished\n",
      " 47%|████▋     | 9/19 [00:01<00:01,  7.70it/s][Parallel(n_jobs=1)]: Using backend SequentialBackend with 1 concurrent workers.\n",
      "[Parallel(n_jobs=1)]: Done   1 out of   1 | elapsed:    0.0s remaining:    0.0s\n",
      " 97%|█████████▋| 391942/402470 [00:01<00:00, 206347.74it/s][Parallel(n_jobs=1)]: Done   2 out of   2 | elapsed:    0.0s remaining:    0.0s\n",
      "[Parallel(n_jobs=1)]: Done   3 out of   3 | elapsed:    0.0s remaining:    0.0s\n",
      "[Parallel(n_jobs=1)]: Done   4 out of   4 | elapsed:    0.1s remaining:    0.0s\n",
      "100%|██████████| 402470/402470 [00:01<00:00, 204323.06it/s]\n",
      " 53%|█████▎    | 10/19 [00:01<00:01,  7.71it/s]"
     ]
    },
    {
     "name": "stdout",
     "output_type": "stream",
     "text": [
      "check PMF of data: \t 1.0000000000000036\n",
      "mean of data: \t 0.8532970236004382\n",
      "std of data: \t 0.293974860703897\n",
      "check PMF of normal: \t 1.0000000000000016\n",
      "check normal PMF mean: \t 1.0001110000000015\n",
      "check normal PMF std: \t 0.10356248200482639\n",
      "bin size of PMF: 30\n",
      "Filtering raw data in 1 contiguous segment\n",
      "Setting up band-pass filter from 6.5 - 8 Hz\n",
      "\n",
      "FIR filter parameters\n",
      "---------------------\n",
      "Designing a one-pass, zero-phase, non-causal bandpass filter:\n",
      "- Windowed time-domain design (firwin) method\n",
      "- Hamming window with 0.0194 passband ripple and 53 dB stopband attenuation\n",
      "- Lower passband edge: 6.50\n",
      "- Lower transition bandwidth: 2.00 Hz (-6 dB cutoff frequency: 5.50 Hz)\n",
      "- Upper passband edge: 8.00 Hz\n",
      "- Upper transition bandwidth: 2.00 Hz (-6 dB cutoff frequency: 9.00 Hz)\n",
      "- Filter length: 825 samples (1.650 s)\n",
      "\n"
     ]
    },
    {
     "name": "stderr",
     "output_type": "stream",
     "text": [
      " 58%|█████▊    | 11/19 [00:01<00:01,  7.62it/s][Parallel(n_jobs=1)]: Done  19 out of  19 | elapsed:    0.2s finished\n",
      " 89%|████████▉ | 17/19 [00:03<00:00,  4.70it/s]/tmp/ipykernel_2820675/308317976.py:13: RuntimeWarning: The data contains 'boundary' events, indicating data discontinuities. Be cautious of filtering and epoching around these events.\n",
      "/tmp/ipykernel_2820675/308317976.py:13: RuntimeWarning: The data contains 'boundary' events, indicating data discontinuities. Be cautious of filtering and epoching around these events.\n",
      "[Parallel(n_jobs=1)]: Using backend SequentialBackend with 1 concurrent workers.\n",
      " 74%|███████▎  | 14/19 [00:01<00:00,  7.52it/s][Parallel(n_jobs=1)]: Done   1 out of   1 | elapsed:    0.0s remaining:    0.0s\n",
      "[Parallel(n_jobs=1)]: Using backend SequentialBackend with 1 concurrent workers.\n",
      "[Parallel(n_jobs=1)]: Done   2 out of   2 | elapsed:    0.0s remaining:    0.0s\n",
      "[Parallel(n_jobs=1)]: Done   1 out of   1 | elapsed:    0.0s remaining:    0.0s\n",
      " 63%|██████▎   | 12/19 [00:01<00:01,  6.42it/s][Parallel(n_jobs=1)]: Done   3 out of   3 | elapsed:    0.1s remaining:    0.0s\n",
      "[Parallel(n_jobs=1)]: Done   2 out of   2 | elapsed:    0.0s remaining:    0.0s\n",
      "/tmp/ipykernel_2820675/308317976.py:13: RuntimeWarning: The data contains 'boundary' events, indicating data discontinuities. Be cautious of filtering and epoching around these events.\n",
      "[Parallel(n_jobs=1)]: Done   4 out of   4 | elapsed:    0.1s remaining:    0.0s\n",
      "[Parallel(n_jobs=1)]: Done   3 out of   3 | elapsed:    0.1s remaining:    0.0s\n"
     ]
    },
    {
     "name": "stdout",
     "output_type": "stream",
     "text": [
      "check PMF of data: \t 1.0000000000000024\n",
      "mean of data: \t 0.5662052758505008\n",
      "std of data: \t 0.5701256519469092\n",
      "check PMF of normal: \t 1.0000000000000016\n",
      "check normal PMF mean: \t 0.9995510000000016\n",
      "check normal PMF std: \t 0.104061512573093\n",
      "bin size of PMF: 30\n",
      "Filtering raw data in 1 contiguous segment\n",
      "Setting up band-pass filter from 6.5 - 8 Hz\n",
      "\n",
      "FIR filter parameters\n",
      "---------------------\n",
      "Designing a one-pass, zero-phase, non-causal bandpass filter:\n",
      "- Windowed time-domain design (firwin) method\n",
      "- Hamming window with 0.0194 passband ripple and 53 dB stopband attenuation\n",
      "- Lower passband edge: 6.50\n",
      "- Lower transition bandwidth: 2.00 Hz (-6 dB cutoff frequency: 5.50 Hz)\n",
      "- Upper passband edge: 8.00 Hz\n",
      "- Upper transition bandwidth: 2.00 Hz (-6 dB cutoff frequency: 9.00 Hz)\n",
      "- Filter length: 825 samples (1.650 s)\n",
      "\n",
      "check PMF of data: \t 1.0000000000000024\n",
      "mean of data: \t 0.6067704003644241\n",
      "std of data: \t 0.5616571903086041\n",
      "check PMF of normal: \t 1.0000000000000016\n",
      "check normal PMF mean: \t 1.0001010000000017\n",
      "check normal PMF std: \t 0.10411239022806072\n",
      "bin size of PMF: 30\n",
      "Filtering raw data in 1 contiguous segment\n",
      "Setting up band-pass filter from 6.5 - 8 Hz\n",
      "\n",
      "FIR filter parameters\n",
      "---------------------\n",
      "Designing a one-pass, zero-phase, non-causal bandpass filter:\n",
      "- Windowed time-domain design (firwin) method\n",
      "- Hamming window with 0.0194 passband ripple and 53 dB stopband attenuation\n",
      "- Lower passband edge: 6.50\n",
      "- Lower transition bandwidth: 2.00 Hz (-6 dB cutoff frequency: 5.50 Hz)\n",
      "- Upper passband edge: 8.00 Hz\n",
      "- Upper transition bandwidth: 2.00 Hz (-6 dB cutoff frequency: 9.00 Hz)\n",
      "- Filter length: 825 samples (1.650 s)\n",
      "\n",
      "check PMF of data: \t 1.0000000000000036\n",
      "mean of data: \t 0.862873725838756\n",
      "std of data: \t 0.2813894724932906\n",
      "check PMF of normal: \t 1.0000000000000016\n",
      "check normal PMF mean: \t 0.9998410000000016\n",
      "check normal PMF std: \t 0.10355179727556636\n",
      "bin size of PMF: 30\n",
      "Filtering raw data in 1 contiguous segment\n",
      "Setting up band-pass filter from 6.5 - 8 Hz\n",
      "\n",
      "FIR filter parameters\n",
      "---------------------\n",
      "Designing a one-pass, zero-phase, non-causal bandpass filter:\n",
      "- Windowed time-domain design (firwin) method\n",
      "- Hamming window with 0.0194 passband ripple and 53 dB stopband attenuation\n",
      "- Lower passband edge: 6.50\n",
      "- Lower transition bandwidth: 2.00 Hz (-6 dB cutoff frequency: 5.50 Hz)\n",
      "- Upper passband edge: 8.00 Hz\n",
      "- Upper transition bandwidth: 2.00 Hz (-6 dB cutoff frequency: 9.00 Hz)\n",
      "- Filter length: 825 samples (1.650 s)\n",
      "\n"
     ]
    },
    {
     "name": "stderr",
     "output_type": "stream",
     "text": [
      " 79%|███████▉  | 15/19 [00:03<00:00,  4.78it/s][Parallel(n_jobs=1)]: Done   4 out of   4 | elapsed:    0.1s remaining:    0.0s\n",
      "[Parallel(n_jobs=1)]: Using backend SequentialBackend with 1 concurrent workers.\n",
      "[Parallel(n_jobs=1)]: Done   1 out of   1 | elapsed:    0.0s remaining:    0.0s\n",
      " 79%|███████▉  | 15/19 [00:01<00:00,  7.45it/s][Parallel(n_jobs=1)]: Done   2 out of   2 | elapsed:    0.0s remaining:    0.0s\n",
      " 95%|█████████▍| 18/19 [00:03<00:00,  4.52it/s][Parallel(n_jobs=1)]: Done   3 out of   3 | elapsed:    0.1s remaining:    0.0s\n",
      "[Parallel(n_jobs=1)]: Done   4 out of   4 | elapsed:    0.1s remaining:    0.0s\n",
      " 84%|████████▍ | 16/19 [00:03<00:00,  4.78it/s][Parallel(n_jobs=1)]: Done  19 out of  19 | elapsed:    0.4s finished\n",
      "[Parallel(n_jobs=1)]: Done  19 out of  19 | elapsed:    0.3s finished\n",
      "100%|██████████| 19/19 [00:04<00:00,  4.68it/s]\n",
      " 79%|███████▉  | 15/19 [00:02<00:00,  6.34it/s][Parallel(n_jobs=1)]: Done  19 out of  19 | elapsed:    0.4s finished\n",
      "  6%|▌         | 23877/424050 [00:00<00:03, 113684.70it/s]/tmp/ipykernel_2820675/308317976.py:13: RuntimeWarning: The data contains 'boundary' events, indicating data discontinuities. Be cautious of filtering and epoching around these events.\n",
      "[Parallel(n_jobs=1)]: Using backend SequentialBackend with 1 concurrent workers.\n",
      "[Parallel(n_jobs=1)]: Done   1 out of   1 | elapsed:    0.0s remaining:    0.0s\n",
      "100%|██████████| 19/19 [00:02<00:00,  7.56it/s]\n",
      " 84%|████████▍ | 16/19 [00:02<00:00,  6.26it/s][Parallel(n_jobs=1)]: Done   2 out of   2 | elapsed:    0.0s remaining:    0.0s\n"
     ]
    },
    {
     "name": "stdout",
     "output_type": "stream",
     "text": [
      "Filtering raw data in 1 contiguous segment\n",
      "Setting up band-pass filter from 6.5 - 8 Hz\n",
      "\n",
      "FIR filter parameters\n",
      "---------------------\n",
      "Designing a one-pass, zero-phase, non-causal bandpass filter:\n",
      "- Windowed time-domain design (firwin) method\n",
      "- Hamming window with 0.0194 passband ripple and 53 dB stopband attenuation\n",
      "- Lower passband edge: 6.50\n",
      "- Lower transition bandwidth: 2.00 Hz (-6 dB cutoff frequency: 5.50 Hz)\n",
      "- Upper passband edge: 8.00 Hz\n",
      "- Upper transition bandwidth: 2.00 Hz (-6 dB cutoff frequency: 9.00 Hz)\n",
      "- Filter length: 825 samples (1.650 s)\n",
      "\n"
     ]
    },
    {
     "name": "stderr",
     "output_type": "stream",
     "text": [
      "  8%|▊         | 35264/424050 [00:00<00:03, 106959.65it/s][Parallel(n_jobs=1)]: Done   3 out of   3 | elapsed:    0.1s remaining:    0.0s\n",
      " 95%|█████████▍| 18/19 [00:03<00:00,  4.74it/s][Parallel(n_jobs=1)]: Done   4 out of   4 | elapsed:    0.1s remaining:    0.0s\n",
      " 89%|████████▉ | 17/19 [00:02<00:00,  6.22it/s]/tmp/ipykernel_2820675/308317976.py:13: RuntimeWarning: The data contains 'boundary' events, indicating data discontinuities. Be cautious of filtering and epoching around these events.\n",
      " 15%|█▍        | 41223/274880 [00:00<00:01, 206110.84it/s][Parallel(n_jobs=1)]: Using backend SequentialBackend with 1 concurrent workers.\n",
      " 13%|█▎        | 57240/424050 [00:00<00:03, 108578.62it/s]"
     ]
    },
    {
     "name": "stdout",
     "output_type": "stream",
     "text": [
      "check PMF of data: \t 1.0000000000000024\n",
      "mean of data: \t 0.6197932128258423\n",
      "std of data: \t 0.5382944906744153\n",
      "check PMF of normal: \t 1.0000000000000016\n",
      "check normal PMF mean: \t 1.0002260000000014\n",
      "check normal PMF std: \t 0.1039401218202095\n",
      "bin size of PMF: 30\n",
      "Filtering raw data in 1 contiguous segment\n",
      "Setting up band-pass filter from 6.5 - 8 Hz\n",
      "\n",
      "FIR filter parameters\n",
      "---------------------\n",
      "Designing a one-pass, zero-phase, non-causal bandpass filter:\n",
      "- Windowed time-domain design (firwin) method\n",
      "- Hamming window with 0.0194 passband ripple and 53 dB stopband attenuation\n",
      "- Lower passband edge: 6.50\n",
      "- Lower transition bandwidth: 2.00 Hz (-6 dB cutoff frequency: 5.50 Hz)\n",
      "- Upper passband edge: 8.00 Hz\n",
      "- Upper transition bandwidth: 2.00 Hz (-6 dB cutoff frequency: 9.00 Hz)\n",
      "- Filter length: 825 samples (1.650 s)\n",
      "\n"
     ]
    },
    {
     "name": "stderr",
     "output_type": "stream",
     "text": [
      "[Parallel(n_jobs=1)]: Done   1 out of   1 | elapsed:    0.0s remaining:    0.0s\n",
      "100%|██████████| 19/19 [00:04<00:00,  4.74it/s]\n",
      "  0%|          | 0/442050 [00:00<?, ?it/s][Parallel(n_jobs=1)]: Done   2 out of   2 | elapsed:    0.1s remaining:    0.0s\n",
      " 23%|██▎       | 62843/274880 [00:00<00:01, 210701.35it/s][Parallel(n_jobs=1)]: Done   3 out of   3 | elapsed:    0.1s remaining:    0.0s\n",
      " 95%|█████████▍| 18/19 [00:02<00:00,  6.21it/s][Parallel(n_jobs=1)]: Done   4 out of   4 | elapsed:    0.1s remaining:    0.0s\n",
      "[Parallel(n_jobs=1)]: Done  19 out of  19 | elapsed:    0.4s finished\n",
      "100%|██████████| 19/19 [00:02<00:00,  6.35it/s]438.25it/s]\n",
      " 21%|██        | 91064/442050 [00:00<00:02, 172411.03it/s][Parallel(n_jobs=1)]: Done  19 out of  19 | elapsed:    0.6s finished\n",
      "100%|██████████| 274880/274880 [00:01<00:00, 206661.77it/s]\n",
      " 47%|████▋     | 9/19 [00:01<00:01,  6.85it/s]/tmp/ipykernel_2820675/308317976.py:13: RuntimeWarning: The data contains 'boundary' events, indicating data discontinuities. Be cautious of filtering and epoching around these events.\n",
      " 86%|████████▌ | 276495/321550 [00:01<00:00, 166138.51it/s][Parallel(n_jobs=1)]: Using backend SequentialBackend with 1 concurrent workers.\n",
      " 63%|██████▎   | 265761/424050 [00:02<00:01, 104846.72it/s][Parallel(n_jobs=1)]: Done   1 out of   1 | elapsed:    0.0s remaining:    0.0s\n",
      " 77%|███████▋  | 341850/442050 [00:01<00:00, 168783.63it/s][Parallel(n_jobs=1)]: Done   2 out of   2 | elapsed:    0.0s remaining:    0.0s\n",
      " 91%|█████████ | 293135/321550 [00:01<00:00, 164394.39it/s][Parallel(n_jobs=1)]: Done   3 out of   3 | elapsed:    0.1s remaining:    0.0s\n",
      " 53%|█████▎    | 10/19 [00:01<00:01,  6.83it/s][Parallel(n_jobs=1)]: Done   4 out of   4 | elapsed:    0.1s remaining:    0.0s\n",
      " 81%|████████  | 358740/442050 [00:02<00:00, 167063.20it/s]"
     ]
    },
    {
     "name": "stdout",
     "output_type": "stream",
     "text": [
      "check PMF of data: \t 1.0000000000000022\n",
      "mean of data: \t 0.5336577083077135\n",
      "std of data: \t 0.5960729471594189\n",
      "check PMF of normal: \t 1.0000000000000016\n",
      "check normal PMF mean: \t 1.0000050000000016\n",
      "check normal PMF std: \t 0.10410763648743541\n",
      "bin size of PMF: 30\n",
      "Filtering raw data in 1 contiguous segment\n",
      "Setting up band-pass filter from 6.5 - 8 Hz\n",
      "\n",
      "FIR filter parameters\n",
      "---------------------\n",
      "Designing a one-pass, zero-phase, non-causal bandpass filter:\n",
      "- Windowed time-domain design (firwin) method\n",
      "- Hamming window with 0.0194 passband ripple and 53 dB stopband attenuation\n",
      "- Lower passband edge: 6.50\n",
      "- Lower transition bandwidth: 2.00 Hz (-6 dB cutoff frequency: 5.50 Hz)\n",
      "- Upper passband edge: 8.00 Hz\n",
      "- Upper transition bandwidth: 2.00 Hz (-6 dB cutoff frequency: 9.00 Hz)\n",
      "- Filter length: 825 samples (1.650 s)\n",
      "\n"
     ]
    },
    {
     "name": "stderr",
     "output_type": "stream",
     "text": [
      "100%|██████████| 321550/321550 [00:01<00:00, 166545.07it/s]\n",
      " 63%|██████▎   | 12/19 [00:01<00:01,  6.79it/s][Parallel(n_jobs=1)]: Done  19 out of  19 | elapsed:    0.4s finished\n",
      "100%|██████████| 442050/442050 [00:02<00:00, 168845.13it/s]\n",
      " 63%|██████▎   | 12/19 [00:01<00:01,  6.97it/s][Parallel(n_jobs=1)]: Using backend SequentialBackend with 1 concurrent workers.\n",
      " 96%|█████████▌| 406579/424050 [00:03<00:00, 106754.07it/s][Parallel(n_jobs=1)]: Done   1 out of   1 | elapsed:    0.0s remaining:    0.0s\n",
      "[Parallel(n_jobs=1)]: Done   2 out of   2 | elapsed:    0.0s remaining:    0.0s\n",
      "[Parallel(n_jobs=1)]: Done   3 out of   3 | elapsed:    0.1s remaining:    0.0s\n",
      "[Parallel(n_jobs=1)]: Done   4 out of   4 | elapsed:    0.1s remaining:    0.0s\n",
      " 99%|█████████▊| 418143/424050 [00:03<00:00, 109380.22it/s]"
     ]
    },
    {
     "name": "stdout",
     "output_type": "stream",
     "text": [
      "check PMF of data: \t 1.0000000000000033\n",
      "mean of data: \t 0.8367498198623533\n",
      "std of data: \t 0.32095359195529727\n",
      "check PMF of normal: \t 1.0000000000000016\n",
      "check normal PMF mean: \t 0.9997240000000015\n",
      "check normal PMF std: \t 0.10423398593549031\n",
      "bin size of PMF: 30\n",
      "Filtering raw data in 1 contiguous segment\n",
      "Setting up band-pass filter from 6.5 - 8 Hz\n",
      "\n",
      "FIR filter parameters\n",
      "---------------------\n",
      "Designing a one-pass, zero-phase, non-causal bandpass filter:\n",
      "- Windowed time-domain design (firwin) method\n",
      "- Hamming window with 0.0194 passband ripple and 53 dB stopband attenuation\n",
      "- Lower passband edge: 6.50\n",
      "- Lower transition bandwidth: 2.00 Hz (-6 dB cutoff frequency: 5.50 Hz)\n",
      "- Upper passband edge: 8.00 Hz\n",
      "- Upper transition bandwidth: 2.00 Hz (-6 dB cutoff frequency: 9.00 Hz)\n",
      "- Filter length: 825 samples (1.650 s)\n",
      "\n"
     ]
    },
    {
     "name": "stderr",
     "output_type": "stream",
     "text": [
      "100%|██████████| 19/19 [00:02<00:00,  6.69it/s]\n",
      "100%|██████████| 424050/424050 [00:03<00:00, 106521.00it/s]\n",
      " 16%|█▌        | 46144/286550 [00:00<00:01, 154919.53it/s][Parallel(n_jobs=1)]: Done  19 out of  19 | elapsed:    0.4s finished\n",
      " 23%|██▎       | 65688/286550 [00:00<00:01, 170905.78it/s]/tmp/ipykernel_2820675/308317976.py:13: RuntimeWarning: The data contains 'boundary' events, indicating data discontinuities. Be cautious of filtering and epoching around these events.\n",
      "[Parallel(n_jobs=1)]: Using backend SequentialBackend with 1 concurrent workers.\n",
      " 29%|██▉       | 83033/286550 [00:00<00:01, 171816.69it/s][Parallel(n_jobs=1)]: Done   1 out of   1 | elapsed:    0.0s remaining:    0.0s\n",
      " 89%|████████▉ | 17/19 [00:02<00:00,  7.26it/s][Parallel(n_jobs=1)]: Done   2 out of   2 | elapsed:    0.0s remaining:    0.0s\n",
      "[Parallel(n_jobs=1)]: Done   3 out of   3 | elapsed:    0.1s remaining:    0.0s\n",
      "  5%|▌         | 1/19 [00:00<00:03,  5.09it/s][Parallel(n_jobs=1)]: Done   4 out of   4 | elapsed:    0.1s remaining:    0.0s\n",
      " 36%|███▌      | 102102/286550 [00:00<00:01, 178223.03it/s]"
     ]
    },
    {
     "name": "stdout",
     "output_type": "stream",
     "text": [
      "check PMF of data: \t 1.0000000000000018\n",
      "mean of data: \t 0.3894889742424567\n",
      "std of data: \t 0.6511025673377252\n",
      "check PMF of normal: \t 1.0000000000000013\n",
      "check normal PMF mean: \t 0.9996750000000015\n",
      "check normal PMF std: \t 0.10407158293693813\n",
      "bin size of PMF: 30\n",
      "Filtering raw data in 1 contiguous segment\n",
      "Setting up band-pass filter from 6.5 - 8 Hz\n",
      "\n",
      "FIR filter parameters\n",
      "---------------------\n",
      "Designing a one-pass, zero-phase, non-causal bandpass filter:\n",
      "- Windowed time-domain design (firwin) method\n",
      "- Hamming window with 0.0194 passband ripple and 53 dB stopband attenuation\n",
      "- Lower passband edge: 6.50\n",
      "- Lower transition bandwidth: 2.00 Hz (-6 dB cutoff frequency: 5.50 Hz)\n",
      "- Upper passband edge: 8.00 Hz\n",
      "- Upper transition bandwidth: 2.00 Hz (-6 dB cutoff frequency: 9.00 Hz)\n",
      "- Filter length: 825 samples (1.650 s)\n",
      "\n"
     ]
    },
    {
     "name": "stderr",
     "output_type": "stream",
     "text": [
      "100%|██████████| 19/19 [00:02<00:00,  7.19it/s]3641.45it/s]\n",
      "  0%|          | 0/19 [00:00<?, ?it/s][Parallel(n_jobs=1)]: Done  19 out of  19 | elapsed:    0.3s finished\n",
      "100%|██████████| 286550/286550 [00:01<00:00, 174013.82it/s]\n",
      " 47%|████▋     | 9/19 [00:01<00:01,  5.64it/s]/tmp/ipykernel_2820675/308317976.py:13: RuntimeWarning: The data contains 'boundary' events, indicating data discontinuities. Be cautious of filtering and epoching around these events.\n",
      " 69%|██████▉   | 166213/239550 [00:01<00:00, 134276.88it/s][Parallel(n_jobs=1)]: Using backend SequentialBackend with 1 concurrent workers.\n",
      " 32%|███▏      | 6/19 [00:01<00:02,  4.79it/s][Parallel(n_jobs=1)]: Done   1 out of   1 | elapsed:    0.0s remaining:    0.0s\n",
      "[Parallel(n_jobs=1)]: Done   2 out of   2 | elapsed:    0.0s remaining:    0.0s\n",
      "[Parallel(n_jobs=1)]: Done   3 out of   3 | elapsed:    0.1s remaining:    0.0s\n"
     ]
    },
    {
     "name": "stdout",
     "output_type": "stream",
     "text": [
      "check PMF of data: \t 1.0000000000000029\n",
      "mean of data: \t 0.7620268618469958\n",
      "std of data: \t 0.4115314628288139\n",
      "check PMF of normal: \t 1.0000000000000013\n",
      "check normal PMF mean: \t 1.0000530000000014\n",
      "check normal PMF std: \t 0.10407111602649408\n",
      "bin size of PMF: 30\n",
      "Filtering raw data in 1 contiguous segment\n",
      "Setting up band-pass filter from 6.5 - 8 Hz\n",
      "\n",
      "FIR filter parameters\n",
      "---------------------\n",
      "Designing a one-pass, zero-phase, non-causal bandpass filter:\n",
      "- Windowed time-domain design (firwin) method\n",
      "- Hamming window with 0.0194 passband ripple and 53 dB stopband attenuation\n",
      "- Lower passband edge: 6.50\n",
      "- Lower transition bandwidth: 2.00 Hz (-6 dB cutoff frequency: 5.50 Hz)\n",
      "- Upper passband edge: 8.00 Hz\n",
      "- Upper transition bandwidth: 2.00 Hz (-6 dB cutoff frequency: 9.00 Hz)\n",
      "- Filter length: 825 samples (1.650 s)\n",
      "\n"
     ]
    },
    {
     "name": "stderr",
     "output_type": "stream",
     "text": [
      " 47%|████▋     | 9/19 [00:01<00:01,  6.21it/s][Parallel(n_jobs=1)]: Done   4 out of   4 | elapsed:    0.1s remaining:    0.0s\n",
      " 42%|████▏     | 8/19 [00:01<00:02,  4.87it/s][Parallel(n_jobs=1)]: Done  19 out of  19 | elapsed:    0.5s finished\n",
      "100%|██████████| 239550/239550 [00:01<00:00, 132986.19it/s]\n",
      " 89%|████████▉ | 17/19 [00:03<00:00,  5.56it/s]/tmp/ipykernel_2820675/308317976.py:13: RuntimeWarning: The data contains 'boundary' events, indicating data discontinuities. Be cautious of filtering and epoching around these events.\n",
      " 89%|████████▉ | 17/19 [00:03<00:00,  5.47it/s]"
     ]
    },
    {
     "name": "stdout",
     "output_type": "stream",
     "text": [
      "check PMF of data: \t 1.0000000000000036\n",
      "mean of data: \t 0.8534453883455044\n",
      "std of data: \t 0.2924684828932215\n",
      "check PMF of normal: \t 1.0000000000000016\n",
      "check normal PMF mean: \t 0.9999010000000015\n",
      "check normal PMF std: \t 0.10417000623500025\n",
      "bin size of PMF: 30\n",
      "Filtering raw data in 1 contiguous segment\n",
      "Setting up band-pass filter from 6.5 - 8 Hz\n",
      "\n",
      "FIR filter parameters\n",
      "---------------------\n",
      "Designing a one-pass, zero-phase, non-causal bandpass filter:\n",
      "- Windowed time-domain design (firwin) method\n",
      "- Hamming window with 0.0194 passband ripple and 53 dB stopband attenuation\n",
      "- Lower passband edge: 6.50\n",
      "- Lower transition bandwidth: 2.00 Hz (-6 dB cutoff frequency: 5.50 Hz)\n",
      "- Upper passband edge: 8.00 Hz\n",
      "- Upper transition bandwidth: 2.00 Hz (-6 dB cutoff frequency: 9.00 Hz)\n",
      "- Filter length: 825 samples (1.650 s)\n",
      "\n"
     ]
    },
    {
     "name": "stderr",
     "output_type": "stream",
     "text": [
      "[Parallel(n_jobs=1)]: Using backend SequentialBackend with 1 concurrent workers.\n",
      "[Parallel(n_jobs=1)]: Done   1 out of   1 | elapsed:    0.0s remaining:    0.0s\n",
      "[Parallel(n_jobs=1)]: Done   2 out of   2 | elapsed:    0.0s remaining:    0.0s\n",
      " 68%|██████▊   | 13/19 [00:02<00:01,  4.52it/s][Parallel(n_jobs=1)]: Done   3 out of   3 | elapsed:    0.1s remaining:    0.0s\n",
      "[Parallel(n_jobs=1)]: Done   4 out of   4 | elapsed:    0.1s remaining:    0.0s\n",
      "100%|██████████| 19/19 [00:03<00:00,  5.61it/s]\n",
      "100%|██████████| 19/19 [00:03<00:00,  6.11it/s]\n",
      "100%|██████████| 19/19 [00:03<00:00,  5.43it/s]\n",
      "  5%|▌         | 16471/318050 [00:00<00:01, 164685.42it/s][Parallel(n_jobs=1)]: Done  19 out of  19 | elapsed:    0.4s finished\n",
      " 32%|███▏      | 6/19 [00:01<00:02,  5.05it/s]/tmp/ipykernel_2820675/308317976.py:13: RuntimeWarning: The data contains 'boundary' events, indicating data discontinuities. Be cautious of filtering and epoching around these events.\n",
      " 51%|█████     | 166992/328710 [00:00<00:00, 212231.75it/s][Parallel(n_jobs=1)]: Using backend SequentialBackend with 1 concurrent workers.\n",
      " 53%|█████▎    | 162960/309450 [00:00<00:00, 187497.74it/s][Parallel(n_jobs=1)]: Done   1 out of   1 | elapsed:    0.0s remaining:    0.0s\n",
      "[Parallel(n_jobs=1)]: Done   2 out of   2 | elapsed:    0.0s remaining:    0.0s\n",
      "[Parallel(n_jobs=1)]: Done   3 out of   3 | elapsed:    0.1s remaining:    0.0s\n",
      " 58%|█████▊    | 190032/328710 [00:00<00:00, 217876.35it/s][Parallel(n_jobs=1)]: Done   4 out of   4 | elapsed:    0.1s remaining:    0.0s\n",
      " 51%|█████     | 162077/318050 [00:01<00:00, 159948.70it/s]"
     ]
    },
    {
     "name": "stdout",
     "output_type": "stream",
     "text": [
      "check PMF of data: \t 1.0000000000000029\n",
      "mean of data: \t 0.7380888835827746\n",
      "std of data: \t 0.43720591808070014\n",
      "check PMF of normal: \t 1.0000000000000016\n",
      "check normal PMF mean: \t 0.9998080000000017\n",
      "check normal PMF std: \t 0.10383815838120394\n",
      "bin size of PMF: 30\n",
      "Filtering raw data in 1 contiguous segment\n",
      "Setting up band-pass filter from 6.5 - 8 Hz\n",
      "\n",
      "FIR filter parameters\n",
      "---------------------\n",
      "Designing a one-pass, zero-phase, non-causal bandpass filter:\n",
      "- Windowed time-domain design (firwin) method\n",
      "- Hamming window with 0.0194 passband ripple and 53 dB stopband attenuation\n",
      "- Lower passband edge: 6.50\n",
      "- Lower transition bandwidth: 2.00 Hz (-6 dB cutoff frequency: 5.50 Hz)\n",
      "- Upper passband edge: 8.00 Hz\n",
      "- Upper transition bandwidth: 2.00 Hz (-6 dB cutoff frequency: 9.00 Hz)\n",
      "- Filter length: 825 samples (1.650 s)\n",
      "\n"
     ]
    },
    {
     "name": "stderr",
     "output_type": "stream",
     "text": [
      "100%|██████████| 19/19 [00:04<00:00,  4.69it/s]2033.41it/s]\n",
      " 11%|█         | 2/19 [00:00<00:04,  4.18it/s][Parallel(n_jobs=1)]: Done  19 out of  19 | elapsed:    0.5s finished\n",
      " 26%|██▋       | 5/19 [00:00<00:02,  5.49it/s]/tmp/ipykernel_2820675/308317976.py:13: RuntimeWarning: The data contains 'boundary' events, indicating data discontinuities. Be cautious of filtering and epoching around these events.\n",
      " 85%|████████▌ | 263971/309450 [00:01<00:00, 193841.53it/s][Parallel(n_jobs=1)]: Using backend SequentialBackend with 1 concurrent workers.\n",
      "[Parallel(n_jobs=1)]: Done   1 out of   1 | elapsed:    0.0s remaining:    0.0s\n",
      "[Parallel(n_jobs=1)]: Done   2 out of   2 | elapsed:    0.0s remaining:    0.0s\n",
      " 72%|███████▏  | 229215/318050 [00:01<00:00, 158944.19it/s]"
     ]
    },
    {
     "name": "stdout",
     "output_type": "stream",
     "text": [
      "check PMF of data: \t 1.0000000000000033\n",
      "mean of data: \t 0.8023589698521014\n",
      "std of data: \t 0.3635881814078755\n",
      "check PMF of normal: \t 1.0000000000000016\n",
      "check normal PMF mean: \t 1.0002310000000014\n",
      "check normal PMF std: \t 0.10399205084524486\n",
      "bin size of PMF: 30\n",
      "Filtering raw data in 1 contiguous segment\n",
      "Setting up band-pass filter from 6.5 - 8 Hz\n",
      "\n",
      "FIR filter parameters\n",
      "---------------------\n",
      "Designing a one-pass, zero-phase, non-causal bandpass filter:\n",
      "- Windowed time-domain design (firwin) method\n",
      "- Hamming window with 0.0194 passband ripple and 53 dB stopband attenuation\n",
      "- Lower passband edge: 6.50\n",
      "- Lower transition bandwidth: 2.00 Hz (-6 dB cutoff frequency: 5.50 Hz)\n",
      "- Upper passband edge: 8.00 Hz\n",
      "- Upper transition bandwidth: 2.00 Hz (-6 dB cutoff frequency: 9.00 Hz)\n",
      "- Filter length: 825 samples (1.650 s)\n",
      "\n"
     ]
    },
    {
     "name": "stderr",
     "output_type": "stream",
     "text": [
      " 92%|█████████▏| 303544/328710 [00:01<00:00, 215304.95it/s][Parallel(n_jobs=1)]: Done   3 out of   3 | elapsed:    0.1s remaining:    0.0s\n",
      " 16%|█▌        | 68964/427290 [00:00<00:02, 158519.93it/s][Parallel(n_jobs=1)]: Done   4 out of   4 | elapsed:    0.1s remaining:    0.0s\n",
      "100%|██████████| 328710/328710 [00:01<00:00, 211568.83it/s]\n",
      "100%|██████████| 309450/309450 [00:01<00:00, 188137.10it/s]\n",
      "[Parallel(n_jobs=1)]: Using backend SequentialBackend with 1 concurrent workers.\n",
      " 82%|████████▏ | 260758/318050 [00:01<00:00, 152902.96it/s]"
     ]
    },
    {
     "name": "stdout",
     "output_type": "stream",
     "text": [
      "check PMF of data: \t 1.0000000000000022\n",
      "mean of data: \t 0.4630894155563435\n",
      "std of data: \t 0.631177436996667\n",
      "check PMF of normal: \t 1.0000000000000016\n",
      "check normal PMF mean: \t 1.0000970000000018\n",
      "check normal PMF std: \t 0.10411815687477373\n",
      "bin size of PMF: 30\n",
      "Filtering raw data in 1 contiguous segment\n",
      "Setting up band-pass filter from 6.5 - 8 Hz\n",
      "\n",
      "FIR filter parameters\n",
      "---------------------\n",
      "Designing a one-pass, zero-phase, non-causal bandpass filter:\n",
      "- Windowed time-domain design (firwin) method\n",
      "- Hamming window with 0.0194 passband ripple and 53 dB stopband attenuation\n",
      "- Lower passband edge: 6.50\n",
      "- Lower transition bandwidth: 2.00 Hz (-6 dB cutoff frequency: 5.50 Hz)\n",
      "- Upper passband edge: 8.00 Hz\n",
      "- Upper transition bandwidth: 2.00 Hz (-6 dB cutoff frequency: 9.00 Hz)\n",
      "- Filter length: 825 samples (1.650 s)\n",
      "\n"
     ]
    },
    {
     "name": "stderr",
     "output_type": "stream",
     "text": [
      "[Parallel(n_jobs=1)]: Done   1 out of   1 | elapsed:    0.0s remaining:    0.0s\n",
      " 23%|██▎       | 100400/427290 [00:00<00:02, 151589.05it/s][Parallel(n_jobs=1)]: Done   2 out of   2 | elapsed:    0.0s remaining:    0.0s\n",
      " 37%|███▋      | 7/19 [00:01<00:02,  5.48it/s][Parallel(n_jobs=1)]: Done   3 out of   3 | elapsed:    0.1s remaining:    0.0s\n",
      "[Parallel(n_jobs=1)]: Done   4 out of   4 | elapsed:    0.1s remaining:    0.0s\n",
      " 27%|██▋       | 115582/427290 [00:00<00:02, 147854.79it/s][Parallel(n_jobs=1)]: Done  19 out of  19 | elapsed:    0.4s finished\n",
      "100%|██████████| 318050/318050 [00:02<00:00, 155944.39it/s]\n",
      " 42%|████▏     | 8/19 [00:01<00:01,  5.54it/s][Parallel(n_jobs=1)]: Done  19 out of  19 | elapsed:    0.4s finished\n",
      "100%|██████████| 19/19 [00:04<00:00,  4.72it/s]6240.33it/s]\n",
      "100%|██████████| 427290/427290 [00:02<00:00, 148592.50it/s]\n",
      "100%|██████████| 19/19 [00:03<00:00,  5.24it/s]615.48it/s]\n",
      "100%|██████████| 19/19 [00:03<00:00,  5.47it/s]1295.06it/s]\n",
      " 37%|███▋      | 130986/349570 [00:00<00:01, 174902.54it/s][Parallel(n_jobs=1)]: Using backend SequentialBackend with 1 concurrent workers.\n",
      " 69%|██████▉   | 282270/409400 [00:01<00:00, 205986.08it/s][Parallel(n_jobs=1)]: Done   1 out of   1 | elapsed:    0.0s remaining:    0.0s\n",
      "[Parallel(n_jobs=1)]: Done   2 out of   2 | elapsed:    0.1s remaining:    0.0s\n"
     ]
    },
    {
     "name": "stdout",
     "output_type": "stream",
     "text": [
      "check PMF of data: \t 1.0000000000000029\n",
      "mean of data: \t 0.7353455621603723\n",
      "std of data: \t 0.4421085306848404\n",
      "check PMF of normal: \t 1.0000000000000016\n",
      "check normal PMF mean: \t 1.0001570000000015\n",
      "check normal PMF std: \t 0.1040777370574514\n",
      "bin size of PMF: 30\n",
      "Filtering raw data in 1 contiguous segment\n",
      "Setting up band-pass filter from 6.5 - 8 Hz\n",
      "\n",
      "FIR filter parameters\n",
      "---------------------\n",
      "Designing a one-pass, zero-phase, non-causal bandpass filter:\n",
      "- Windowed time-domain design (firwin) method\n",
      "- Hamming window with 0.0194 passband ripple and 53 dB stopband attenuation\n",
      "- Lower passband edge: 6.50\n",
      "- Lower transition bandwidth: 2.00 Hz (-6 dB cutoff frequency: 5.50 Hz)\n",
      "- Upper passband edge: 8.00 Hz\n",
      "- Upper transition bandwidth: 2.00 Hz (-6 dB cutoff frequency: 9.00 Hz)\n",
      "- Filter length: 825 samples (1.650 s)\n",
      "\n",
      "check PMF of data: \t 1.000000000000002\n",
      "mean of data: \t 0.5201425277369057\n",
      "std of data: \t 0.5894305874899699\n",
      "check PMF of normal: \t 1.0000000000000016\n",
      "check normal PMF mean: \t 0.9997310000000015\n",
      "check normal PMF std: \t 0.10404099018656057\n",
      "bin size of PMF: 30\n",
      "Filtering raw data in 1 contiguous segment\n",
      "Setting up band-pass filter from 6.5 - 8 Hz\n",
      "\n",
      "FIR filter parameters\n",
      "---------------------\n",
      "Designing a one-pass, zero-phase, non-causal bandpass filter:\n",
      "- Windowed time-domain design (firwin) method\n",
      "- Hamming window with 0.0194 passband ripple and 53 dB stopband attenuation\n",
      "- Lower passband edge: 6.50\n",
      "- Lower transition bandwidth: 2.00 Hz (-6 dB cutoff frequency: 5.50 Hz)\n",
      "- Upper passband edge: 8.00 Hz\n",
      "- Upper transition bandwidth: 2.00 Hz (-6 dB cutoff frequency: 9.00 Hz)\n",
      "- Filter length: 825 samples (1.650 s)\n",
      "\n"
     ]
    },
    {
     "name": "stderr",
     "output_type": "stream",
     "text": [
      "[Parallel(n_jobs=1)]: Done   3 out of   3 | elapsed:    0.1s remaining:    0.0s\n",
      " 74%|███████▍  | 303190/409400 [00:01<00:00, 206912.43it/s][Parallel(n_jobs=1)]: Done   4 out of   4 | elapsed:    0.1s remaining:    0.0s\n",
      "[Parallel(n_jobs=1)]: Using backend SequentialBackend with 1 concurrent workers.\n",
      " 21%|██        | 4/19 [00:00<00:03,  4.64it/s][Parallel(n_jobs=1)]: Done   1 out of   1 | elapsed:    0.0s remaining:    0.0s\n",
      " 84%|████████▍ | 16/19 [00:04<00:00,  3.74it/s][Parallel(n_jobs=1)]: Done   2 out of   2 | elapsed:    0.0s remaining:    0.0s\n",
      "[Parallel(n_jobs=1)]: Done   3 out of   3 | elapsed:    0.1s remaining:    0.0s\n",
      " 37%|███▋      | 7/19 [00:01<00:02,  5.05it/s][Parallel(n_jobs=1)]: Done   4 out of   4 | elapsed:    0.1s remaining:    0.0s\n",
      " 58%|█████▊    | 202279/349570 [00:01<00:00, 174759.72it/s][Parallel(n_jobs=1)]: Done  19 out of  19 | elapsed:    0.3s finished\n",
      "[Parallel(n_jobs=1)]: Done  19 out of  19 | elapsed:    0.5s finished\n",
      "100%|██████████| 409400/409400 [00:01<00:00, 215109.35it/s]\n",
      " 73%|███████▎  | 255030/349570 [00:01<00:00, 170584.22it/s]/tmp/ipykernel_2820675/308317976.py:13: RuntimeWarning: The data contains 'boundary' events, indicating data discontinuities. Be cautious of filtering and epoching around these events.\n",
      " 37%|███▋      | 7/19 [00:01<00:02,  4.68it/s][Parallel(n_jobs=1)]: Using backend SequentialBackend with 1 concurrent workers.\n",
      " 53%|█████▎    | 10/19 [00:01<00:01,  4.98it/s][Parallel(n_jobs=1)]: Done   1 out of   1 | elapsed:    0.0s remaining:    0.0s\n",
      "[Parallel(n_jobs=1)]: Done   2 out of   2 | elapsed:    0.0s remaining:    0.0s\n",
      " 78%|███████▊  | 272117/349570 [00:01<00:00, 170623.73it/s][Parallel(n_jobs=1)]: Done   3 out of   3 | elapsed:    0.0s remaining:    0.0s\n",
      "[Parallel(n_jobs=1)]: Done   4 out of   4 | elapsed:    0.1s remaining:    0.0s\n",
      " 83%|████████▎ | 290080/349570 [00:01<00:00, 173283.22it/s]"
     ]
    },
    {
     "name": "stdout",
     "output_type": "stream",
     "text": [
      "check PMF of data: \t 1.0000000000000016\n",
      "mean of data: \t 0.22056987435312708\n",
      "std of data: \t 0.7026544731658231\n",
      "check PMF of normal: \t 1.0000000000000018\n",
      "check normal PMF mean: \t 1.0000110000000018\n",
      "check normal PMF std: \t 0.10405383164016592\n",
      "bin size of PMF: 30\n",
      "Filtering raw data in 1 contiguous segment\n",
      "Setting up band-pass filter from 6.5 - 8 Hz\n",
      "\n",
      "FIR filter parameters\n",
      "---------------------\n",
      "Designing a one-pass, zero-phase, non-causal bandpass filter:\n",
      "- Windowed time-domain design (firwin) method\n",
      "- Hamming window with 0.0194 passband ripple and 53 dB stopband attenuation\n",
      "- Lower passband edge: 6.50\n",
      "- Lower transition bandwidth: 2.00 Hz (-6 dB cutoff frequency: 5.50 Hz)\n",
      "- Upper passband edge: 8.00 Hz\n",
      "- Upper transition bandwidth: 2.00 Hz (-6 dB cutoff frequency: 9.00 Hz)\n",
      "- Filter length: 825 samples (1.650 s)\n",
      "\n"
     ]
    },
    {
     "name": "stderr",
     "output_type": "stream",
     "text": [
      "100%|██████████| 19/19 [00:05<00:00,  3.74it/s]\n",
      " 88%|████████▊ | 308778/349570 [00:01<00:00, 177347.48it/s][Parallel(n_jobs=1)]: Done  19 out of  19 | elapsed:    0.3s finished\n",
      "100%|██████████| 349570/349570 [00:02<00:00, 168559.11it/s]\n",
      "100%|██████████| 374090/374090 [00:02<00:00, 164637.34it/s]\n",
      "100%|██████████| 19/19 [00:03<00:00,  4.88it/s]9282.93it/s]\n",
      " 26%|██▋       | 5/19 [00:01<00:03,  4.35it/s]/tmp/ipykernel_2820675/308317976.py:13: RuntimeWarning: The data contains 'boundary' events, indicating data discontinuities. Be cautious of filtering and epoching around these events.\n",
      " 59%|█████▉    | 301198/507250 [00:02<00:01, 149932.94it/s][Parallel(n_jobs=1)]: Using backend SequentialBackend with 1 concurrent workers.\n",
      " 74%|███████▎  | 14/19 [00:02<00:01,  4.82it/s][Parallel(n_jobs=1)]: Done   1 out of   1 | elapsed:    0.0s remaining:    0.0s\n",
      "[Parallel(n_jobs=1)]: Done   2 out of   2 | elapsed:    0.0s remaining:    0.0s\n",
      "[Parallel(n_jobs=1)]: Done   3 out of   3 | elapsed:    0.0s remaining:    0.0s\n",
      "[Parallel(n_jobs=1)]: Done   4 out of   4 | elapsed:    0.1s remaining:    0.0s\n",
      " 32%|███▏      | 6/19 [00:01<00:02,  4.34it/s]52524.72it/s]"
     ]
    },
    {
     "name": "stdout",
     "output_type": "stream",
     "text": [
      "check PMF of data: \t 1.000000000000003\n",
      "mean of data: \t 0.7719917269986216\n",
      "std of data: \t 0.39819463731830035\n",
      "check PMF of normal: \t 1.0000000000000018\n",
      "check normal PMF mean: \t 1.0001770000000019\n",
      "check normal PMF std: \t 0.10422268788992153\n",
      "bin size of PMF: 30\n",
      "Filtering raw data in 1 contiguous segment\n",
      "Setting up band-pass filter from 6.5 - 8 Hz\n",
      "\n",
      "FIR filter parameters\n",
      "---------------------\n",
      "Designing a one-pass, zero-phase, non-causal bandpass filter:\n",
      "- Windowed time-domain design (firwin) method\n",
      "- Hamming window with 0.0194 passband ripple and 53 dB stopband attenuation\n",
      "- Lower passband edge: 6.50\n",
      "- Lower transition bandwidth: 2.00 Hz (-6 dB cutoff frequency: 5.50 Hz)\n",
      "- Upper passband edge: 8.00 Hz\n",
      "- Upper transition bandwidth: 2.00 Hz (-6 dB cutoff frequency: 9.00 Hz)\n",
      "- Filter length: 825 samples (1.650 s)\n",
      "\n"
     ]
    },
    {
     "name": "stderr",
     "output_type": "stream",
     "text": [
      "100%|██████████| 19/19 [00:04<00:00,  4.63it/s]4214.20it/s]\n",
      " 69%|██████▉   | 350021/507250 [00:02<00:00, 159289.28it/s][Parallel(n_jobs=1)]: Done  19 out of  19 | elapsed:    0.3s finished\n",
      "100%|██████████| 19/19 [00:03<00:00,  4.88it/s]8191.99it/s]\n",
      "100%|██████████| 507250/507250 [00:03<00:00, 151806.32it/s]\n",
      " 83%|████████▎ | 324377/388800 [00:01<00:00, 195224.62it/s]/tmp/ipykernel_2820675/308317976.py:13: RuntimeWarning: The data contains 'boundary' events, indicating data discontinuities. Be cautious of filtering and epoching around these events.\n",
      " 20%|██        | 82664/408340 [00:00<00:01, 202228.92it/s][Parallel(n_jobs=1)]: Using backend SequentialBackend with 1 concurrent workers.\n",
      "[Parallel(n_jobs=1)]: Done   1 out of   1 | elapsed:    0.0s remaining:    0.0s\n",
      " 89%|████████▉ | 345115/388800 [00:01<00:00, 198865.49it/s][Parallel(n_jobs=1)]: Done   2 out of   2 | elapsed:    0.0s remaining:    0.0s\n",
      " 16%|█▌        | 3/19 [00:00<00:02,  7.29it/s][Parallel(n_jobs=1)]: Done   3 out of   3 | elapsed:    0.0s remaining:    0.0s\n",
      "[Parallel(n_jobs=1)]: Done   4 out of   4 | elapsed:    0.1s remaining:    0.0s\n",
      " 31%|███       | 127367/408340 [00:00<00:01, 214450.55it/s]"
     ]
    },
    {
     "name": "stdout",
     "output_type": "stream",
     "text": [
      "check PMF of data: \t 1.0000000000000038\n",
      "mean of data: \t 0.8770835899142292\n",
      "std of data: \t 0.2537410512495801\n",
      "check PMF of normal: \t 1.0000000000000016\n",
      "check normal PMF mean: \t 1.0003530000000016\n",
      "check normal PMF std: \t 0.10464451916369051\n",
      "bin size of PMF: 30\n",
      "Filtering raw data in 1 contiguous segment\n",
      "Setting up band-pass filter from 6.5 - 8 Hz\n",
      "\n",
      "FIR filter parameters\n",
      "---------------------\n",
      "Designing a one-pass, zero-phase, non-causal bandpass filter:\n",
      "- Windowed time-domain design (firwin) method\n",
      "- Hamming window with 0.0194 passband ripple and 53 dB stopband attenuation\n",
      "- Lower passband edge: 6.50\n",
      "- Lower transition bandwidth: 2.00 Hz (-6 dB cutoff frequency: 5.50 Hz)\n",
      "- Upper passband edge: 8.00 Hz\n",
      "- Upper transition bandwidth: 2.00 Hz (-6 dB cutoff frequency: 9.00 Hz)\n",
      "- Filter length: 825 samples (1.650 s)\n",
      "\n"
     ]
    },
    {
     "name": "stderr",
     "output_type": "stream",
     "text": [
      "100%|██████████| 388800/388800 [00:02<00:00, 183091.49it/s]\n",
      " 26%|██▋       | 5/19 [00:00<00:01,  7.44it/s][Parallel(n_jobs=1)]: Done  19 out of  19 | elapsed:    0.3s finished\n",
      " 89%|████████▉ | 17/19 [00:03<00:00,  4.62it/s]/tmp/ipykernel_2820675/308317976.py:13: RuntimeWarning: The data contains 'boundary' events, indicating data discontinuities. Be cautious of filtering and epoching around these events.\n",
      "[Parallel(n_jobs=1)]: Using backend SequentialBackend with 1 concurrent workers.\n",
      " 66%|██████▌   | 287703/435450 [00:01<00:00, 187316.85it/s][Parallel(n_jobs=1)]: Done   1 out of   1 | elapsed:    0.0s remaining:    0.0s\n",
      " 16%|█▌        | 3/19 [00:00<00:02,  6.00it/s]05520.94it/s]"
     ]
    },
    {
     "name": "stdout",
     "output_type": "stream",
     "text": [
      "check PMF of data: \t 1.0000000000000027\n",
      "mean of data: \t 0.7254093924356594\n",
      "std of data: \t 0.4491578739298027\n",
      "check PMF of normal: \t 1.0000000000000016\n",
      "check normal PMF mean: \t 1.0001650000000015\n",
      "check normal PMF std: \t 0.10388538287458922\n",
      "bin size of PMF: 30\n",
      "Filtering raw data in 1 contiguous segment\n",
      "Setting up band-pass filter from 6.5 - 8 Hz\n",
      "\n",
      "FIR filter parameters\n",
      "---------------------\n",
      "Designing a one-pass, zero-phase, non-causal bandpass filter:\n",
      "- Windowed time-domain design (firwin) method\n",
      "- Hamming window with 0.0194 passband ripple and 53 dB stopband attenuation\n",
      "- Lower passband edge: 6.50\n",
      "- Lower transition bandwidth: 2.00 Hz (-6 dB cutoff frequency: 5.50 Hz)\n",
      "- Upper passband edge: 8.00 Hz\n",
      "- Upper transition bandwidth: 2.00 Hz (-6 dB cutoff frequency: 9.00 Hz)\n",
      "- Filter length: 825 samples (1.650 s)\n",
      "\n"
     ]
    },
    {
     "name": "stderr",
     "output_type": "stream",
     "text": [
      "[Parallel(n_jobs=1)]: Done   2 out of   2 | elapsed:    0.0s remaining:    0.0s\n",
      " 32%|███▏      | 6/19 [00:00<00:01,  7.30it/s][Parallel(n_jobs=1)]: Done   3 out of   3 | elapsed:    0.1s remaining:    0.0s\n",
      "[Parallel(n_jobs=1)]: Done   4 out of   4 | elapsed:    0.1s remaining:    0.0s\n",
      "100%|██████████| 19/19 [00:04<00:00,  4.52it/s]9231.62it/s]\n",
      "  0%|          | 0/412240 [00:00<?, ?it/s][Parallel(n_jobs=1)]: Done  19 out of  19 | elapsed:    0.4s finished\n",
      "100%|██████████| 435450/435450 [00:02<00:00, 171481.74it/s]\n",
      "100%|██████████| 19/19 [00:04<00:00,  4.40it/s]3338.58it/s]\n",
      "100%|██████████| 408340/408340 [00:02<00:00, 194296.79it/s]\n",
      "100%|██████████| 19/19 [00:02<00:00,  7.21it/s]5434.93it/s]\n",
      "100%|██████████| 412240/412240 [00:01<00:00, 218113.75it/s]\n",
      "100%|██████████| 19/19 [00:03<00:00,  6.18it/s]2925.92it/s]\n",
      "100%|██████████| 280030/280030 [00:01<00:00, 207047.97it/s]\n",
      "100%|██████████| 457570/457570 [00:02<00:00, 182581.08it/s]\n",
      " 47%|████▋     | 9/19 [00:01<00:01,  5.52it/s]"
     ]
    },
    {
     "name": "stdout",
     "output_type": "stream",
     "text": [
      "check PMF of data: \t 1.0000000000000029\n",
      "mean of data: \t 0.7405384624696317\n",
      "std of data: \t 0.42808940672537715\n",
      "check PMF of normal: \t 1.0000000000000016\n",
      "check normal PMF mean: \t 0.9994650000000017\n",
      "check normal PMF std: \t 0.10436529008726987\n",
      "bin size of PMF: 30\n"
     ]
    },
    {
     "name": "stderr",
     "output_type": "stream",
     "text": [
      "100%|██████████| 19/19 [00:02<00:00,  7.41it/s]8264.86it/s]\n",
      "100%|██████████| 326050/326050 [00:01<00:00, 227225.09it/s]\n",
      "100%|██████████| 19/19 [00:03<00:00,  4.77it/s]8161.39it/s]\n",
      " 73%|███████▎  | 210533/289400 [00:00<00:00, 269938.15it/s]"
     ]
    },
    {
     "name": "stdout",
     "output_type": "stream",
     "text": [
      "check PMF of data: \t 1.0000000000000033\n",
      "mean of data: \t 0.8303119606725347\n",
      "std of data: \t 0.3261661874577139\n",
      "check PMF of normal: \t 1.0000000000000016\n",
      "check normal PMF mean: \t 1.0002070000000014\n",
      "check normal PMF std: \t 0.10407188453660284\n",
      "bin size of PMF: 30\n"
     ]
    },
    {
     "name": "stderr",
     "output_type": "stream",
     "text": [
      "100%|██████████| 289400/289400 [00:01<00:00, 267113.56it/s]\n",
      "100%|██████████| 19/19 [00:02<00:00,  7.30it/s]1267.93it/s]\n",
      " 17%|█▋        | 51886/301380 [00:00<00:00, 261075.67it/s]]"
     ]
    },
    {
     "name": "stdout",
     "output_type": "stream",
     "text": [
      "check PMF of data: \t 1.0000000000000029\n",
      "mean of data: \t 0.7542077430622967\n",
      "std of data: \t 0.41597510391878645\n",
      "check PMF of normal: \t 1.0000000000000016\n",
      "check normal PMF mean: \t 1.0001150000000014\n",
      "check normal PMF std: \t 0.10425347368313438\n",
      "bin size of PMF: 30\n"
     ]
    },
    {
     "name": "stderr",
     "output_type": "stream",
     "text": [
      "100%|██████████| 19/19 [00:03<00:00,  5.55it/s]8767.71it/s]\n",
      "100%|██████████| 456600/456600 [00:01<00:00, 247283.69it/s]\n",
      "100%|██████████| 301380/301380 [00:01<00:00, 271289.78it/s]\n",
      " 86%|████████▋ | 338489/392350 [00:01<00:00, 262708.72it/s]"
     ]
    },
    {
     "name": "stdout",
     "output_type": "stream",
     "text": [
      "check PMF of data: \t 1.0000000000000029\n",
      "mean of data: \t 0.7233572212835004\n",
      "std of data: \t 0.44962259283615924\n",
      "check PMF of normal: \t 1.0000000000000016\n",
      "check normal PMF mean: \t 0.9999140000000016\n",
      "check normal PMF std: \t 0.10423623460198471\n",
      "bin size of PMF: 30\n"
     ]
    },
    {
     "name": "stderr",
     "output_type": "stream",
     "text": [
      "100%|██████████| 392350/392350 [00:01<00:00, 257544.86it/s]\n"
     ]
    },
    {
     "name": "stdout",
     "output_type": "stream",
     "text": [
      "check PMF of data: \t 1.0000000000000038\n",
      "mean of data: \t 0.8831132538237148\n",
      "std of data: \t 0.24340393778401961\n",
      "check PMF of normal: \t 1.0000000000000016\n",
      "check normal PMF mean: \t 1.0002100000000018\n",
      "check normal PMF std: \t 0.10400074951652989\n",
      "bin size of PMF: 30\n",
      "check PMF of data: \t 1.0000000000000024\n",
      "mean of data: \t 0.6323739112872897\n",
      "std of data: \t 0.5236334357590589\n",
      "check PMF of normal: \t 1.0000000000000016\n",
      "check normal PMF mean: \t 1.0002610000000016\n",
      "check normal PMF std: \t 0.10400351858951692\n",
      "bin size of PMF: 30\n"
     ]
    }
   ],
   "source": [
    "from joblib import Parallel, delayed\n",
    "import multiprocessing\n",
    "\n",
    "int_eeg_file = alz_eeg_file + con_eeg_file + dem_eeg_file\n",
    "fmin, fmax = 6.5, 8\n",
    "chk_mean, chk_std = 1, 0.1\n",
    "pdf_range = 1.5\n",
    "pdf_bins = 30\n",
    "int_method = 'wass'\n",
    "\n",
    "# Define a function for processing each EEG file\n",
    "def process_eeg_file(f, fmin, fmax, chk_mean, chk_std, pdf_bins, int_method):\n",
    "    temp_data = mne.io.read_raw_eeglab(f, preload=True)\n",
    "    temp_elec = temp_data.ch_names\n",
    "    temp_data = temp_data.pick(temp_elec)\n",
    "    temp_data = temp_data.filter(fmin, fmax)\n",
    "    split_parts = f.split('/')\n",
    "    temp_participant_id = split_parts[-3]\n",
    "    temp_data_all = temp_data.get_data()\n",
    "    \n",
    "    temp_phase_lock_seq = sc.phase_lock_seq(temp_data_all)\n",
    "    temp_cross_synch_sys = sc.cross_synch_sys(temp_phase_lock_seq, exp_range=pdf_range, bins=pdf_bins, check_mean=chk_mean, check_std=chk_std, check_pdf_info=True, method=int_method)\n",
    "    \n",
    "    return temp_participant_id, temp_cross_synch_sys, temp_elec\n",
    "\n",
    "# Number of CPU cores to use\n",
    "num_cores = multiprocessing.cpu_count()\n",
    "\n",
    "participant_id_data = []\n",
    "cross_data = []\n",
    "\n",
    "# Parallelize the processing of EEG files\n",
    "results = Parallel(n_jobs=int(num_cores/3))(\n",
    "    delayed(process_eeg_file)(f, fmin, fmax, chk_mean, chk_std, pdf_bins, int_method) for f in tqdm(int_eeg_file, position=0)\n",
    ")\n",
    "\n",
    "# Extract results\n",
    "for temp_participant_id, temp_cross_synch_sys, temp_elec in results:\n",
    "    participant_id_data.append(temp_participant_id)\n",
    "    cross_data.append(temp_cross_synch_sys)\n",
    "    name_elec = ''.join(temp_elec)\n",
    "\n",
    "# Rest of the code remains the same\n",
    "temp_save_data = np.vstack((participant_id_data, cross_data))\n",
    "temp_save_data = temp_save_data.T\n",
    "\n",
    "df_gfs = pd.DataFrame(temp_save_data, columns=['participant_id', 'cross_synch'])\n",
    "\n",
    "save_folder = '/media/hengjie/4TB/synchronization'\n",
    "df_gfs.to_csv(f'{save_folder}/cross_synch_freq{fmin}-{fmax}_mean{chk_mean}_std{chk_std}_range{pdf_range}_bins{pdf_bins}_{int_method}_{name_elec}.tsv', sep='\\t', index=False)\n"
   ]
  },
  {
   "cell_type": "markdown",
   "id": "014e4022-5778-419c-a67c-956a5933f7a2",
   "metadata": {},
   "source": [
    "# Plotting graph to show the results"
   ]
  },
  {
   "cell_type": "markdown",
   "id": "bc234069-5cc2-4d2d-ba1d-3c2db9cacfc2",
   "metadata": {},
   "source": [
    "## Global field synchronization plot"
   ]
  },
  {
   "cell_type": "code",
   "execution_count": 212,
   "id": "5fada7ca-88ad-4de1-80bd-863d6ba69a14",
   "metadata": {},
   "outputs": [],
   "source": [
    "folder_name = '/media/hengjie/4TB/synchronization/'\n",
    "file_name = 'gfs_freq16.0-31.5_step0.5.tsv'\n",
    "df_gfs_data = pd.read_csv(f'{folder_name}/{file_name}', sep='\\t')#, usecols=[1,2,3])"
   ]
  },
  {
   "cell_type": "code",
   "execution_count": 213,
   "id": "8a9b2baa-a428-4126-afbc-868d2d97be20",
   "metadata": {},
   "outputs": [
    {
     "data": {
      "text/html": [
       "<div>\n",
       "<style scoped>\n",
       "    .dataframe tbody tr th:only-of-type {\n",
       "        vertical-align: middle;\n",
       "    }\n",
       "\n",
       "    .dataframe tbody tr th {\n",
       "        vertical-align: top;\n",
       "    }\n",
       "\n",
       "    .dataframe thead th {\n",
       "        text-align: right;\n",
       "    }\n",
       "</style>\n",
       "<table border=\"1\" class=\"dataframe\">\n",
       "  <thead>\n",
       "    <tr style=\"text-align: right;\">\n",
       "      <th></th>\n",
       "      <th>participant_id</th>\n",
       "      <th>gfs_mean</th>\n",
       "      <th>gfs_std</th>\n",
       "    </tr>\n",
       "  </thead>\n",
       "  <tbody>\n",
       "    <tr>\n",
       "      <th>0</th>\n",
       "      <td>sub-001</td>\n",
       "      <td>0.467712</td>\n",
       "      <td>0.192109</td>\n",
       "    </tr>\n",
       "    <tr>\n",
       "      <th>1</th>\n",
       "      <td>sub-002</td>\n",
       "      <td>0.464579</td>\n",
       "      <td>0.205537</td>\n",
       "    </tr>\n",
       "    <tr>\n",
       "      <th>2</th>\n",
       "      <td>sub-003</td>\n",
       "      <td>0.487554</td>\n",
       "      <td>0.222160</td>\n",
       "    </tr>\n",
       "    <tr>\n",
       "      <th>3</th>\n",
       "      <td>sub-004</td>\n",
       "      <td>0.485321</td>\n",
       "      <td>0.157056</td>\n",
       "    </tr>\n",
       "    <tr>\n",
       "      <th>4</th>\n",
       "      <td>sub-005</td>\n",
       "      <td>0.488978</td>\n",
       "      <td>0.188851</td>\n",
       "    </tr>\n",
       "    <tr>\n",
       "      <th>...</th>\n",
       "      <td>...</td>\n",
       "      <td>...</td>\n",
       "      <td>...</td>\n",
       "    </tr>\n",
       "    <tr>\n",
       "      <th>83</th>\n",
       "      <td>sub-084</td>\n",
       "      <td>0.494895</td>\n",
       "      <td>0.181431</td>\n",
       "    </tr>\n",
       "    <tr>\n",
       "      <th>84</th>\n",
       "      <td>sub-085</td>\n",
       "      <td>0.565780</td>\n",
       "      <td>0.196508</td>\n",
       "    </tr>\n",
       "    <tr>\n",
       "      <th>85</th>\n",
       "      <td>sub-086</td>\n",
       "      <td>0.489351</td>\n",
       "      <td>0.224121</td>\n",
       "    </tr>\n",
       "    <tr>\n",
       "      <th>86</th>\n",
       "      <td>sub-087</td>\n",
       "      <td>0.461647</td>\n",
       "      <td>0.175711</td>\n",
       "    </tr>\n",
       "    <tr>\n",
       "      <th>87</th>\n",
       "      <td>sub-088</td>\n",
       "      <td>0.463204</td>\n",
       "      <td>0.148592</td>\n",
       "    </tr>\n",
       "  </tbody>\n",
       "</table>\n",
       "<p>88 rows × 3 columns</p>\n",
       "</div>"
      ],
      "text/plain": [
       "   participant_id  gfs_mean   gfs_std\n",
       "0         sub-001  0.467712  0.192109\n",
       "1         sub-002  0.464579  0.205537\n",
       "2         sub-003  0.487554  0.222160\n",
       "3         sub-004  0.485321  0.157056\n",
       "4         sub-005  0.488978  0.188851\n",
       "..            ...       ...       ...\n",
       "83        sub-084  0.494895  0.181431\n",
       "84        sub-085  0.565780  0.196508\n",
       "85        sub-086  0.489351  0.224121\n",
       "86        sub-087  0.461647  0.175711\n",
       "87        sub-088  0.463204  0.148592\n",
       "\n",
       "[88 rows x 3 columns]"
      ]
     },
     "execution_count": 213,
     "metadata": {},
     "output_type": "execute_result"
    }
   ],
   "source": [
    "df_gfs_data"
   ]
  },
  {
   "cell_type": "code",
   "execution_count": 214,
   "id": "8c9be2e4-762e-4538-b664-7562844aa7f9",
   "metadata": {},
   "outputs": [
    {
     "name": "stderr",
     "output_type": "stream",
     "text": [
      "100%|███████████████████████████████████████████████████████████████████████| 36/36 [00:00<00:00, 223696.21it/s]\n",
      "100%|███████████████████████████████████████████████████████████████████████| 29/29 [00:00<00:00, 181004.19it/s]\n",
      "100%|███████████████████████████████████████████████████████████████████████| 23/23 [00:00<00:00, 115531.73it/s]\n"
     ]
    }
   ],
   "source": [
    "alz_list = []\n",
    "for f in tqdm(alz_eeg_file, position=0):\n",
    "    split_part = f.split('/')\n",
    "    temp_participant_id = split_part[-3]\n",
    "    alz_list.append(temp_participant_id)\n",
    "    \n",
    "    \n",
    "con_list = []\n",
    "for f in tqdm(con_eeg_file, position=0): \n",
    "    split_part = f.split('/')\n",
    "    temp_participant_id = split_part[-3]\n",
    "    con_list.append(temp_participant_id)\n",
    "    \n",
    "    \n",
    "dem_list = []\n",
    "for f in tqdm((dem_eeg_file), position=0):\n",
    "    split_part = f.split('/')\n",
    "    temp_participant_id = split_part[-3]\n",
    "    dem_list.append(temp_participant_id)\n",
    "    \n",
    "\n",
    "gfs_mean_alz = df_gfs_data.loc[df_gfs_data['participant_id'].isin(alz_list), 'gfs_mean']\n",
    "gfs_mean_con = df_gfs_data.loc[df_gfs_data['participant_id'].isin(con_list), 'gfs_mean']\n",
    "gfs_mean_dem = df_gfs_data.loc[df_gfs_data['participant_id'].isin(dem_list), 'gfs_mean']"
   ]
  },
  {
   "cell_type": "code",
   "execution_count": 215,
   "id": "7f59c377-4fbf-4a73-9bf2-881f0a64e579",
   "metadata": {},
   "outputs": [
    {
     "data": {
      "application/vnd.plotly.v1+json": {
       "config": {
        "plotlyServerURL": "https://plot.ly"
       },
       "data": [
        {
         "box": {
          "visible": true
         },
         "meanline": {
          "visible": true
         },
         "name": "Alzheimer",
         "type": "violin",
         "y": [
          0.4677118664878146,
          0.4645787923790621,
          0.4875543557285557,
          0.4853209858959924,
          0.4889781503219133,
          0.4724971452131908,
          0.4114568062067566,
          0.4172207045851478,
          0.4844587270079054,
          0.4337109987679004,
          0.5036324635659417,
          0.3915320735385006,
          0.422175303330246,
          0.5893835059281147,
          0.4706505469672704,
          0.4785598257504812,
          0.4789843985379823,
          0.4928382581456101,
          0.5117409409650745,
          0.4519959459760465,
          0.4756114737244846,
          0.429788368972146,
          0.4265675601600808,
          0.4529194254152243,
          0.477252028523856,
          0.5162839081218946,
          0.5138589394724479,
          0.5350845673850145,
          0.4808421752287846,
          0.5079187687291064,
          0.3489346573217982,
          0.4098598682498348,
          0.4759585008362875,
          0.5322409652111899,
          0.476644198321626,
          0.5346103321049962
         ]
        },
        {
         "box": {
          "visible": true
         },
         "meanline": {
          "visible": true
         },
         "name": "control",
         "type": "violin",
         "y": [
          0.440141003767544,
          0.4890724901081469,
          0.4533447469990861,
          0.4508002943798931,
          0.5903587284245024,
          0.505786284615106,
          0.5359961688988422,
          0.4567727461845601,
          0.3903694530012481,
          0.4040033345446872,
          0.491337552918745,
          0.476681491436004,
          0.6138373659858183,
          0.3791037286398303,
          0.5575525166515204,
          0.4992474547658695,
          0.4500232770467329,
          0.4905555925929564,
          0.4874325864043463,
          0.4922502550713465,
          0.5113053500120299,
          0.4786711599832047,
          0.5115394276942826,
          0.5295639751357883,
          0.4744709007265667,
          0.4870858239399838,
          0.5477622643081743,
          0.4059082250058441,
          0.5114036838165136
         ]
        },
        {
         "box": {
          "visible": true
         },
         "meanline": {
          "visible": true
         },
         "name": "dementia",
         "type": "violin",
         "y": [
          0.5571059161895283,
          0.4407261262889925,
          0.4470990680494702,
          0.4921215007047598,
          0.4809541902969981,
          0.4754134489830159,
          0.4520817440670502,
          0.4374217181244307,
          0.5238989256608788,
          0.4950100514105042,
          0.4851909320747937,
          0.4610750945185099,
          0.4167713946402215,
          0.5218772110940515,
          0.4203923332326303,
          0.4671201883409487,
          0.4357879819750108,
          0.4376398626943901,
          0.4948946960015871,
          0.5657796552069707,
          0.4893513903872766,
          0.4616465416472243,
          0.4632036904529383
         ]
        }
       ],
       "layout": {
        "autosize": true,
        "template": {
         "data": {
          "bar": [
           {
            "error_x": {
             "color": "#2a3f5f"
            },
            "error_y": {
             "color": "#2a3f5f"
            },
            "marker": {
             "line": {
              "color": "#E5ECF6",
              "width": 0.5
             },
             "pattern": {
              "fillmode": "overlay",
              "size": 10,
              "solidity": 0.2
             }
            },
            "type": "bar"
           }
          ],
          "barpolar": [
           {
            "marker": {
             "line": {
              "color": "#E5ECF6",
              "width": 0.5
             },
             "pattern": {
              "fillmode": "overlay",
              "size": 10,
              "solidity": 0.2
             }
            },
            "type": "barpolar"
           }
          ],
          "carpet": [
           {
            "aaxis": {
             "endlinecolor": "#2a3f5f",
             "gridcolor": "white",
             "linecolor": "white",
             "minorgridcolor": "white",
             "startlinecolor": "#2a3f5f"
            },
            "baxis": {
             "endlinecolor": "#2a3f5f",
             "gridcolor": "white",
             "linecolor": "white",
             "minorgridcolor": "white",
             "startlinecolor": "#2a3f5f"
            },
            "type": "carpet"
           }
          ],
          "choropleth": [
           {
            "colorbar": {
             "outlinewidth": 0,
             "ticks": ""
            },
            "type": "choropleth"
           }
          ],
          "contour": [
           {
            "colorbar": {
             "outlinewidth": 0,
             "ticks": ""
            },
            "colorscale": [
             [
              0,
              "#0d0887"
             ],
             [
              0.1111111111111111,
              "#46039f"
             ],
             [
              0.2222222222222222,
              "#7201a8"
             ],
             [
              0.3333333333333333,
              "#9c179e"
             ],
             [
              0.4444444444444444,
              "#bd3786"
             ],
             [
              0.5555555555555556,
              "#d8576b"
             ],
             [
              0.6666666666666666,
              "#ed7953"
             ],
             [
              0.7777777777777778,
              "#fb9f3a"
             ],
             [
              0.8888888888888888,
              "#fdca26"
             ],
             [
              1,
              "#f0f921"
             ]
            ],
            "type": "contour"
           }
          ],
          "contourcarpet": [
           {
            "colorbar": {
             "outlinewidth": 0,
             "ticks": ""
            },
            "type": "contourcarpet"
           }
          ],
          "heatmap": [
           {
            "colorbar": {
             "outlinewidth": 0,
             "ticks": ""
            },
            "colorscale": [
             [
              0,
              "#0d0887"
             ],
             [
              0.1111111111111111,
              "#46039f"
             ],
             [
              0.2222222222222222,
              "#7201a8"
             ],
             [
              0.3333333333333333,
              "#9c179e"
             ],
             [
              0.4444444444444444,
              "#bd3786"
             ],
             [
              0.5555555555555556,
              "#d8576b"
             ],
             [
              0.6666666666666666,
              "#ed7953"
             ],
             [
              0.7777777777777778,
              "#fb9f3a"
             ],
             [
              0.8888888888888888,
              "#fdca26"
             ],
             [
              1,
              "#f0f921"
             ]
            ],
            "type": "heatmap"
           }
          ],
          "heatmapgl": [
           {
            "colorbar": {
             "outlinewidth": 0,
             "ticks": ""
            },
            "colorscale": [
             [
              0,
              "#0d0887"
             ],
             [
              0.1111111111111111,
              "#46039f"
             ],
             [
              0.2222222222222222,
              "#7201a8"
             ],
             [
              0.3333333333333333,
              "#9c179e"
             ],
             [
              0.4444444444444444,
              "#bd3786"
             ],
             [
              0.5555555555555556,
              "#d8576b"
             ],
             [
              0.6666666666666666,
              "#ed7953"
             ],
             [
              0.7777777777777778,
              "#fb9f3a"
             ],
             [
              0.8888888888888888,
              "#fdca26"
             ],
             [
              1,
              "#f0f921"
             ]
            ],
            "type": "heatmapgl"
           }
          ],
          "histogram": [
           {
            "marker": {
             "pattern": {
              "fillmode": "overlay",
              "size": 10,
              "solidity": 0.2
             }
            },
            "type": "histogram"
           }
          ],
          "histogram2d": [
           {
            "colorbar": {
             "outlinewidth": 0,
             "ticks": ""
            },
            "colorscale": [
             [
              0,
              "#0d0887"
             ],
             [
              0.1111111111111111,
              "#46039f"
             ],
             [
              0.2222222222222222,
              "#7201a8"
             ],
             [
              0.3333333333333333,
              "#9c179e"
             ],
             [
              0.4444444444444444,
              "#bd3786"
             ],
             [
              0.5555555555555556,
              "#d8576b"
             ],
             [
              0.6666666666666666,
              "#ed7953"
             ],
             [
              0.7777777777777778,
              "#fb9f3a"
             ],
             [
              0.8888888888888888,
              "#fdca26"
             ],
             [
              1,
              "#f0f921"
             ]
            ],
            "type": "histogram2d"
           }
          ],
          "histogram2dcontour": [
           {
            "colorbar": {
             "outlinewidth": 0,
             "ticks": ""
            },
            "colorscale": [
             [
              0,
              "#0d0887"
             ],
             [
              0.1111111111111111,
              "#46039f"
             ],
             [
              0.2222222222222222,
              "#7201a8"
             ],
             [
              0.3333333333333333,
              "#9c179e"
             ],
             [
              0.4444444444444444,
              "#bd3786"
             ],
             [
              0.5555555555555556,
              "#d8576b"
             ],
             [
              0.6666666666666666,
              "#ed7953"
             ],
             [
              0.7777777777777778,
              "#fb9f3a"
             ],
             [
              0.8888888888888888,
              "#fdca26"
             ],
             [
              1,
              "#f0f921"
             ]
            ],
            "type": "histogram2dcontour"
           }
          ],
          "mesh3d": [
           {
            "colorbar": {
             "outlinewidth": 0,
             "ticks": ""
            },
            "type": "mesh3d"
           }
          ],
          "parcoords": [
           {
            "line": {
             "colorbar": {
              "outlinewidth": 0,
              "ticks": ""
             }
            },
            "type": "parcoords"
           }
          ],
          "pie": [
           {
            "automargin": true,
            "type": "pie"
           }
          ],
          "scatter": [
           {
            "fillpattern": {
             "fillmode": "overlay",
             "size": 10,
             "solidity": 0.2
            },
            "type": "scatter"
           }
          ],
          "scatter3d": [
           {
            "line": {
             "colorbar": {
              "outlinewidth": 0,
              "ticks": ""
             }
            },
            "marker": {
             "colorbar": {
              "outlinewidth": 0,
              "ticks": ""
             }
            },
            "type": "scatter3d"
           }
          ],
          "scattercarpet": [
           {
            "marker": {
             "colorbar": {
              "outlinewidth": 0,
              "ticks": ""
             }
            },
            "type": "scattercarpet"
           }
          ],
          "scattergeo": [
           {
            "marker": {
             "colorbar": {
              "outlinewidth": 0,
              "ticks": ""
             }
            },
            "type": "scattergeo"
           }
          ],
          "scattergl": [
           {
            "marker": {
             "colorbar": {
              "outlinewidth": 0,
              "ticks": ""
             }
            },
            "type": "scattergl"
           }
          ],
          "scattermapbox": [
           {
            "marker": {
             "colorbar": {
              "outlinewidth": 0,
              "ticks": ""
             }
            },
            "type": "scattermapbox"
           }
          ],
          "scatterpolar": [
           {
            "marker": {
             "colorbar": {
              "outlinewidth": 0,
              "ticks": ""
             }
            },
            "type": "scatterpolar"
           }
          ],
          "scatterpolargl": [
           {
            "marker": {
             "colorbar": {
              "outlinewidth": 0,
              "ticks": ""
             }
            },
            "type": "scatterpolargl"
           }
          ],
          "scatterternary": [
           {
            "marker": {
             "colorbar": {
              "outlinewidth": 0,
              "ticks": ""
             }
            },
            "type": "scatterternary"
           }
          ],
          "surface": [
           {
            "colorbar": {
             "outlinewidth": 0,
             "ticks": ""
            },
            "colorscale": [
             [
              0,
              "#0d0887"
             ],
             [
              0.1111111111111111,
              "#46039f"
             ],
             [
              0.2222222222222222,
              "#7201a8"
             ],
             [
              0.3333333333333333,
              "#9c179e"
             ],
             [
              0.4444444444444444,
              "#bd3786"
             ],
             [
              0.5555555555555556,
              "#d8576b"
             ],
             [
              0.6666666666666666,
              "#ed7953"
             ],
             [
              0.7777777777777778,
              "#fb9f3a"
             ],
             [
              0.8888888888888888,
              "#fdca26"
             ],
             [
              1,
              "#f0f921"
             ]
            ],
            "type": "surface"
           }
          ],
          "table": [
           {
            "cells": {
             "fill": {
              "color": "#EBF0F8"
             },
             "line": {
              "color": "white"
             }
            },
            "header": {
             "fill": {
              "color": "#C8D4E3"
             },
             "line": {
              "color": "white"
             }
            },
            "type": "table"
           }
          ]
         },
         "layout": {
          "annotationdefaults": {
           "arrowcolor": "#2a3f5f",
           "arrowhead": 0,
           "arrowwidth": 1
          },
          "autotypenumbers": "strict",
          "coloraxis": {
           "colorbar": {
            "outlinewidth": 0,
            "ticks": ""
           }
          },
          "colorscale": {
           "diverging": [
            [
             0,
             "#8e0152"
            ],
            [
             0.1,
             "#c51b7d"
            ],
            [
             0.2,
             "#de77ae"
            ],
            [
             0.3,
             "#f1b6da"
            ],
            [
             0.4,
             "#fde0ef"
            ],
            [
             0.5,
             "#f7f7f7"
            ],
            [
             0.6,
             "#e6f5d0"
            ],
            [
             0.7,
             "#b8e186"
            ],
            [
             0.8,
             "#7fbc41"
            ],
            [
             0.9,
             "#4d9221"
            ],
            [
             1,
             "#276419"
            ]
           ],
           "sequential": [
            [
             0,
             "#0d0887"
            ],
            [
             0.1111111111111111,
             "#46039f"
            ],
            [
             0.2222222222222222,
             "#7201a8"
            ],
            [
             0.3333333333333333,
             "#9c179e"
            ],
            [
             0.4444444444444444,
             "#bd3786"
            ],
            [
             0.5555555555555556,
             "#d8576b"
            ],
            [
             0.6666666666666666,
             "#ed7953"
            ],
            [
             0.7777777777777778,
             "#fb9f3a"
            ],
            [
             0.8888888888888888,
             "#fdca26"
            ],
            [
             1,
             "#f0f921"
            ]
           ],
           "sequentialminus": [
            [
             0,
             "#0d0887"
            ],
            [
             0.1111111111111111,
             "#46039f"
            ],
            [
             0.2222222222222222,
             "#7201a8"
            ],
            [
             0.3333333333333333,
             "#9c179e"
            ],
            [
             0.4444444444444444,
             "#bd3786"
            ],
            [
             0.5555555555555556,
             "#d8576b"
            ],
            [
             0.6666666666666666,
             "#ed7953"
            ],
            [
             0.7777777777777778,
             "#fb9f3a"
            ],
            [
             0.8888888888888888,
             "#fdca26"
            ],
            [
             1,
             "#f0f921"
            ]
           ]
          },
          "colorway": [
           "#636efa",
           "#EF553B",
           "#00cc96",
           "#ab63fa",
           "#FFA15A",
           "#19d3f3",
           "#FF6692",
           "#B6E880",
           "#FF97FF",
           "#FECB52"
          ],
          "font": {
           "color": "#2a3f5f"
          },
          "geo": {
           "bgcolor": "white",
           "lakecolor": "white",
           "landcolor": "#E5ECF6",
           "showlakes": true,
           "showland": true,
           "subunitcolor": "white"
          },
          "hoverlabel": {
           "align": "left"
          },
          "hovermode": "closest",
          "mapbox": {
           "style": "light"
          },
          "paper_bgcolor": "white",
          "plot_bgcolor": "#E5ECF6",
          "polar": {
           "angularaxis": {
            "gridcolor": "white",
            "linecolor": "white",
            "ticks": ""
           },
           "bgcolor": "#E5ECF6",
           "radialaxis": {
            "gridcolor": "white",
            "linecolor": "white",
            "ticks": ""
           }
          },
          "scene": {
           "xaxis": {
            "backgroundcolor": "#E5ECF6",
            "gridcolor": "white",
            "gridwidth": 2,
            "linecolor": "white",
            "showbackground": true,
            "ticks": "",
            "zerolinecolor": "white"
           },
           "yaxis": {
            "backgroundcolor": "#E5ECF6",
            "gridcolor": "white",
            "gridwidth": 2,
            "linecolor": "white",
            "showbackground": true,
            "ticks": "",
            "zerolinecolor": "white"
           },
           "zaxis": {
            "backgroundcolor": "#E5ECF6",
            "gridcolor": "white",
            "gridwidth": 2,
            "linecolor": "white",
            "showbackground": true,
            "ticks": "",
            "zerolinecolor": "white"
           }
          },
          "shapedefaults": {
           "line": {
            "color": "#2a3f5f"
           }
          },
          "ternary": {
           "aaxis": {
            "gridcolor": "white",
            "linecolor": "white",
            "ticks": ""
           },
           "baxis": {
            "gridcolor": "white",
            "linecolor": "white",
            "ticks": ""
           },
           "bgcolor": "#E5ECF6",
           "caxis": {
            "gridcolor": "white",
            "linecolor": "white",
            "ticks": ""
           }
          },
          "title": {
           "x": 0.05
          },
          "xaxis": {
           "automargin": true,
           "gridcolor": "white",
           "linecolor": "white",
           "ticks": "",
           "title": {
            "standoff": 15
           },
           "zerolinecolor": "white",
           "zerolinewidth": 2
          },
          "yaxis": {
           "automargin": true,
           "gridcolor": "white",
           "linecolor": "white",
           "ticks": "",
           "title": {
            "standoff": 15
           },
           "zerolinecolor": "white",
           "zerolinewidth": 2
          }
         }
        },
        "xaxis": {
         "autorange": true,
         "range": [
          -0.5,
          2.5
         ],
         "type": "category"
        },
        "yaxis": {
         "autorange": true,
         "range": [
          0.28678244334452274,
          0.6805460080168676
         ],
         "type": "linear"
        }
       }
      },
      "image/png": "[encoded data removed]",
      "text/html": [
       "<div>                            <div id=\"4b5178b5-528f-4cf6-b19e-0a66efbc15e1\" class=\"plotly-graph-div\" style=\"height:525px; width:100%;\"></div>            <script type=\"text/javascript\">                require([\"plotly\"], function(Plotly) {                    window.PLOTLYENV=window.PLOTLYENV || {};                                    if (document.getElementById(\"4b5178b5-528f-4cf6-b19e-0a66efbc15e1\")) {                    Plotly.newPlot(                        \"4b5178b5-528f-4cf6-b19e-0a66efbc15e1\",                        [{\"box\":{\"visible\":true},\"meanline\":{\"visible\":true},\"name\":\"Alzheimer\",\"y\":[0.4677118664878146,0.4645787923790621,0.4875543557285557,0.4853209858959924,0.4889781503219133,0.4724971452131908,0.4114568062067566,0.4172207045851478,0.4844587270079054,0.4337109987679004,0.5036324635659417,0.3915320735385006,0.422175303330246,0.5893835059281147,0.4706505469672704,0.4785598257504812,0.4789843985379823,0.4928382581456101,0.5117409409650745,0.4519959459760465,0.4756114737244846,0.429788368972146,0.4265675601600808,0.4529194254152243,0.477252028523856,0.5162839081218946,0.5138589394724479,0.5350845673850145,0.4808421752287846,0.5079187687291064,0.3489346573217982,0.4098598682498348,0.4759585008362875,0.5322409652111899,0.476644198321626,0.5346103321049962],\"type\":\"violin\"},{\"box\":{\"visible\":true},\"meanline\":{\"visible\":true},\"name\":\"control\",\"y\":[0.440141003767544,0.4890724901081469,0.4533447469990861,0.4508002943798931,0.5903587284245024,0.505786284615106,0.5359961688988422,0.4567727461845601,0.3903694530012481,0.4040033345446872,0.491337552918745,0.476681491436004,0.6138373659858183,0.3791037286398303,0.5575525166515204,0.4992474547658695,0.4500232770467329,0.4905555925929564,0.4874325864043463,0.4922502550713465,0.5113053500120299,0.4786711599832047,0.5115394276942826,0.5295639751357883,0.4744709007265667,0.4870858239399838,0.5477622643081743,0.4059082250058441,0.5114036838165136],\"type\":\"violin\"},{\"box\":{\"visible\":true},\"meanline\":{\"visible\":true},\"name\":\"dementia\",\"y\":[0.5571059161895283,0.4407261262889925,0.4470990680494702,0.4921215007047598,0.4809541902969981,0.4754134489830159,0.4520817440670502,0.4374217181244307,0.5238989256608788,0.4950100514105042,0.4851909320747937,0.4610750945185099,0.4167713946402215,0.5218772110940515,0.4203923332326303,0.4671201883409487,0.4357879819750108,0.4376398626943901,0.4948946960015871,0.5657796552069707,0.4893513903872766,0.4616465416472243,0.4632036904529383],\"type\":\"violin\"}],                        {\"template\":{\"data\":{\"histogram2dcontour\":[{\"type\":\"histogram2dcontour\",\"colorbar\":{\"outlinewidth\":0,\"ticks\":\"\"},\"colorscale\":[[0.0,\"#0d0887\"],[0.1111111111111111,\"#46039f\"],[0.2222222222222222,\"#7201a8\"],[0.3333333333333333,\"#9c179e\"],[0.4444444444444444,\"#bd3786\"],[0.5555555555555556,\"#d8576b\"],[0.6666666666666666,\"#ed7953\"],[0.7777777777777778,\"#fb9f3a\"],[0.8888888888888888,\"#fdca26\"],[1.0,\"#f0f921\"]]}],\"choropleth\":[{\"type\":\"choropleth\",\"colorbar\":{\"outlinewidth\":0,\"ticks\":\"\"}}],\"histogram2d\":[{\"type\":\"histogram2d\",\"colorbar\":{\"outlinewidth\":0,\"ticks\":\"\"},\"colorscale\":[[0.0,\"#0d0887\"],[0.1111111111111111,\"#46039f\"],[0.2222222222222222,\"#7201a8\"],[0.3333333333333333,\"#9c179e\"],[0.4444444444444444,\"#bd3786\"],[0.5555555555555556,\"#d8576b\"],[0.6666666666666666,\"#ed7953\"],[0.7777777777777778,\"#fb9f3a\"],[0.8888888888888888,\"#fdca26\"],[1.0,\"#f0f921\"]]}],\"heatmap\":[{\"type\":\"heatmap\",\"colorbar\":{\"outlinewidth\":0,\"ticks\":\"\"},\"colorscale\":[[0.0,\"#0d0887\"],[0.1111111111111111,\"#46039f\"],[0.2222222222222222,\"#7201a8\"],[0.3333333333333333,\"#9c179e\"],[0.4444444444444444,\"#bd3786\"],[0.5555555555555556,\"#d8576b\"],[0.6666666666666666,\"#ed7953\"],[0.7777777777777778,\"#fb9f3a\"],[0.8888888888888888,\"#fdca26\"],[1.0,\"#f0f921\"]]}],\"heatmapgl\":[{\"type\":\"heatmapgl\",\"colorbar\":{\"outlinewidth\":0,\"ticks\":\"\"},\"colorscale\":[[0.0,\"#0d0887\"],[0.1111111111111111,\"#46039f\"],[0.2222222222222222,\"#7201a8\"],[0.3333333333333333,\"#9c179e\"],[0.4444444444444444,\"#bd3786\"],[0.5555555555555556,\"#d8576b\"],[0.6666666666666666,\"#ed7953\"],[0.7777777777777778,\"#fb9f3a\"],[0.8888888888888888,\"#fdca26\"],[1.0,\"#f0f921\"]]}],\"contourcarpet\":[{\"type\":\"contourcarpet\",\"colorbar\":{\"outlinewidth\":0,\"ticks\":\"\"}}],\"contour\":[{\"type\":\"contour\",\"colorbar\":{\"outlinewidth\":0,\"ticks\":\"\"},\"colorscale\":[[0.0,\"#0d0887\"],[0.1111111111111111,\"#46039f\"],[0.2222222222222222,\"#7201a8\"],[0.3333333333333333,\"#9c179e\"],[0.4444444444444444,\"#bd3786\"],[0.5555555555555556,\"#d8576b\"],[0.6666666666666666,\"#ed7953\"],[0.7777777777777778,\"#fb9f3a\"],[0.8888888888888888,\"#fdca26\"],[1.0,\"#f0f921\"]]}],\"surface\":[{\"type\":\"surface\",\"colorbar\":{\"outlinewidth\":0,\"ticks\":\"\"},\"colorscale\":[[0.0,\"#0d0887\"],[0.1111111111111111,\"#46039f\"],[0.2222222222222222,\"#7201a8\"],[0.3333333333333333,\"#9c179e\"],[0.4444444444444444,\"#bd3786\"],[0.5555555555555556,\"#d8576b\"],[0.6666666666666666,\"#ed7953\"],[0.7777777777777778,\"#fb9f3a\"],[0.8888888888888888,\"#fdca26\"],[1.0,\"#f0f921\"]]}],\"mesh3d\":[{\"type\":\"mesh3d\",\"colorbar\":{\"outlinewidth\":0,\"ticks\":\"\"}}],\"scatter\":[{\"fillpattern\":{\"fillmode\":\"overlay\",\"size\":10,\"solidity\":0.2},\"type\":\"scatter\"}],\"parcoords\":[{\"type\":\"parcoords\",\"line\":{\"colorbar\":{\"outlinewidth\":0,\"ticks\":\"\"}}}],\"scatterpolargl\":[{\"type\":\"scatterpolargl\",\"marker\":{\"colorbar\":{\"outlinewidth\":0,\"ticks\":\"\"}}}],\"bar\":[{\"error_x\":{\"color\":\"#2a3f5f\"},\"error_y\":{\"color\":\"#2a3f5f\"},\"marker\":{\"line\":{\"color\":\"#E5ECF6\",\"width\":0.5},\"pattern\":{\"fillmode\":\"overlay\",\"size\":10,\"solidity\":0.2}},\"type\":\"bar\"}],\"scattergeo\":[{\"type\":\"scattergeo\",\"marker\":{\"colorbar\":{\"outlinewidth\":0,\"ticks\":\"\"}}}],\"scatterpolar\":[{\"type\":\"scatterpolar\",\"marker\":{\"colorbar\":{\"outlinewidth\":0,\"ticks\":\"\"}}}],\"histogram\":[{\"marker\":{\"pattern\":{\"fillmode\":\"overlay\",\"size\":10,\"solidity\":0.2}},\"type\":\"histogram\"}],\"scattergl\":[{\"type\":\"scattergl\",\"marker\":{\"colorbar\":{\"outlinewidth\":0,\"ticks\":\"\"}}}],\"scatter3d\":[{\"type\":\"scatter3d\",\"line\":{\"colorbar\":{\"outlinewidth\":0,\"ticks\":\"\"}},\"marker\":{\"colorbar\":{\"outlinewidth\":0,\"ticks\":\"\"}}}],\"scattermapbox\":[{\"type\":\"scattermapbox\",\"marker\":{\"colorbar\":{\"outlinewidth\":0,\"ticks\":\"\"}}}],\"scatterternary\":[{\"type\":\"scatterternary\",\"marker\":{\"colorbar\":{\"outlinewidth\":0,\"ticks\":\"\"}}}],\"scattercarpet\":[{\"type\":\"scattercarpet\",\"marker\":{\"colorbar\":{\"outlinewidth\":0,\"ticks\":\"\"}}}],\"carpet\":[{\"aaxis\":{\"endlinecolor\":\"#2a3f5f\",\"gridcolor\":\"white\",\"linecolor\":\"white\",\"minorgridcolor\":\"white\",\"startlinecolor\":\"#2a3f5f\"},\"baxis\":{\"endlinecolor\":\"#2a3f5f\",\"gridcolor\":\"white\",\"linecolor\":\"white\",\"minorgridcolor\":\"white\",\"startlinecolor\":\"#2a3f5f\"},\"type\":\"carpet\"}],\"table\":[{\"cells\":{\"fill\":{\"color\":\"#EBF0F8\"},\"line\":{\"color\":\"white\"}},\"header\":{\"fill\":{\"color\":\"#C8D4E3\"},\"line\":{\"color\":\"white\"}},\"type\":\"table\"}],\"barpolar\":[{\"marker\":{\"line\":{\"color\":\"#E5ECF6\",\"width\":0.5},\"pattern\":{\"fillmode\":\"overlay\",\"size\":10,\"solidity\":0.2}},\"type\":\"barpolar\"}],\"pie\":[{\"automargin\":true,\"type\":\"pie\"}]},\"layout\":{\"autotypenumbers\":\"strict\",\"colorway\":[\"#636efa\",\"#EF553B\",\"#00cc96\",\"#ab63fa\",\"#FFA15A\",\"#19d3f3\",\"#FF6692\",\"#B6E880\",\"#FF97FF\",\"#FECB52\"],\"font\":{\"color\":\"#2a3f5f\"},\"hovermode\":\"closest\",\"hoverlabel\":{\"align\":\"left\"},\"paper_bgcolor\":\"white\",\"plot_bgcolor\":\"#E5ECF6\",\"polar\":{\"bgcolor\":\"#E5ECF6\",\"angularaxis\":{\"gridcolor\":\"white\",\"linecolor\":\"white\",\"ticks\":\"\"},\"radialaxis\":{\"gridcolor\":\"white\",\"linecolor\":\"white\",\"ticks\":\"\"}},\"ternary\":{\"bgcolor\":\"#E5ECF6\",\"aaxis\":{\"gridcolor\":\"white\",\"linecolor\":\"white\",\"ticks\":\"\"},\"baxis\":{\"gridcolor\":\"white\",\"linecolor\":\"white\",\"ticks\":\"\"},\"caxis\":{\"gridcolor\":\"white\",\"linecolor\":\"white\",\"ticks\":\"\"}},\"coloraxis\":{\"colorbar\":{\"outlinewidth\":0,\"ticks\":\"\"}},\"colorscale\":{\"sequential\":[[0.0,\"#0d0887\"],[0.1111111111111111,\"#46039f\"],[0.2222222222222222,\"#7201a8\"],[0.3333333333333333,\"#9c179e\"],[0.4444444444444444,\"#bd3786\"],[0.5555555555555556,\"#d8576b\"],[0.6666666666666666,\"#ed7953\"],[0.7777777777777778,\"#fb9f3a\"],[0.8888888888888888,\"#fdca26\"],[1.0,\"#f0f921\"]],\"sequentialminus\":[[0.0,\"#0d0887\"],[0.1111111111111111,\"#46039f\"],[0.2222222222222222,\"#7201a8\"],[0.3333333333333333,\"#9c179e\"],[0.4444444444444444,\"#bd3786\"],[0.5555555555555556,\"#d8576b\"],[0.6666666666666666,\"#ed7953\"],[0.7777777777777778,\"#fb9f3a\"],[0.8888888888888888,\"#fdca26\"],[1.0,\"#f0f921\"]],\"diverging\":[[0,\"#8e0152\"],[0.1,\"#c51b7d\"],[0.2,\"#de77ae\"],[0.3,\"#f1b6da\"],[0.4,\"#fde0ef\"],[0.5,\"#f7f7f7\"],[0.6,\"#e6f5d0\"],[0.7,\"#b8e186\"],[0.8,\"#7fbc41\"],[0.9,\"#4d9221\"],[1,\"#276419\"]]},\"xaxis\":{\"gridcolor\":\"white\",\"linecolor\":\"white\",\"ticks\":\"\",\"title\":{\"standoff\":15},\"zerolinecolor\":\"white\",\"automargin\":true,\"zerolinewidth\":2},\"yaxis\":{\"gridcolor\":\"white\",\"linecolor\":\"white\",\"ticks\":\"\",\"title\":{\"standoff\":15},\"zerolinecolor\":\"white\",\"automargin\":true,\"zerolinewidth\":2},\"scene\":{\"xaxis\":{\"backgroundcolor\":\"#E5ECF6\",\"gridcolor\":\"white\",\"linecolor\":\"white\",\"showbackground\":true,\"ticks\":\"\",\"zerolinecolor\":\"white\",\"gridwidth\":2},\"yaxis\":{\"backgroundcolor\":\"#E5ECF6\",\"gridcolor\":\"white\",\"linecolor\":\"white\",\"showbackground\":true,\"ticks\":\"\",\"zerolinecolor\":\"white\",\"gridwidth\":2},\"zaxis\":{\"backgroundcolor\":\"#E5ECF6\",\"gridcolor\":\"white\",\"linecolor\":\"white\",\"showbackground\":true,\"ticks\":\"\",\"zerolinecolor\":\"white\",\"gridwidth\":2}},\"shapedefaults\":{\"line\":{\"color\":\"#2a3f5f\"}},\"annotationdefaults\":{\"arrowcolor\":\"#2a3f5f\",\"arrowhead\":0,\"arrowwidth\":1},\"geo\":{\"bgcolor\":\"white\",\"landcolor\":\"#E5ECF6\",\"subunitcolor\":\"white\",\"showland\":true,\"showlakes\":true,\"lakecolor\":\"white\"},\"title\":{\"x\":0.05},\"mapbox\":{\"style\":\"light\"}}}},                        {\"responsive\": true}                    ).then(function(){\n",
       "                            \n",
       "var gd = document.getElementById('4b5178b5-528f-4cf6-b19e-0a66efbc15e1');\n",
       "var x = new MutationObserver(function (mutations, observer) {{\n",
       "        var display = window.getComputedStyle(gd).display;\n",
       "        if (!display || display === 'none') {{\n",
       "            console.log([gd, 'removed!']);\n",
       "            Plotly.purge(gd);\n",
       "            observer.disconnect();\n",
       "        }}\n",
       "}});\n",
       "\n",
       "// Listen for the removal of the full notebook cells\n",
       "var notebookContainer = gd.closest('#notebook-container');\n",
       "if (notebookContainer) {{\n",
       "    x.observe(notebookContainer, {childList: true});\n",
       "}}\n",
       "\n",
       "// Listen for the clearing of the current output cell\n",
       "var outputEl = gd.closest('.output');\n",
       "if (outputEl) {{\n",
       "    x.observe(outputEl, {childList: true});\n",
       "}}\n",
       "\n",
       "                        })                };                });            </script>        </div>"
      ]
     },
     "metadata": {},
     "output_type": "display_data"
    }
   ],
   "source": [
    "fig = go.Figure()\n",
    "fig.add_trace(go.Violin(\n",
    "    y=gfs_mean_alz, \n",
    "    name='Alzheimer',\n",
    "    box_visible=True, \n",
    "    meanline_visible=True,\n",
    "))\n",
    "fig.add_trace(go.Violin(\n",
    "    y=gfs_mean_con,\n",
    "    name='control',\n",
    "    box_visible=True, \n",
    "    meanline_visible=True,\n",
    "))\n",
    "fig.add_trace(go.Violin(\n",
    "    y=gfs_mean_dem, \n",
    "    name='dementia',\n",
    "    box_visible=True, \n",
    "    meanline_visible=True,\n",
    "))\n",
    "fig.show()"
   ]
  },
  {
   "cell_type": "code",
   "execution_count": 217,
   "id": "24f6b04f-3f5d-4aab-8a75-4bbb0a55bed2",
   "metadata": {},
   "outputs": [
    {
     "name": "stdout",
     "output_type": "stream",
     "text": [
      "##############################\n",
      "F_onewayResult(statistic=0.7861321044519405, pvalue=0.45888763406693645)\n",
      "     alz  con  dem\n",
      "alz    1    0    0\n",
      "con    0    1    0\n",
      "dem    0    0    1\n",
      "##############################\n",
      "##############################\n",
      "KruskalResult(statistic=1.7425477761629509, pvalue=0.4184181916534053)\n",
      "Dunn test for Kruskal-Wallis\n",
      "          1         2         3\n",
      "1  1.000000  0.242269  0.944935\n",
      "2  0.242269  1.000000  0.266565\n",
      "3  0.944935  0.266565  1.000000\n",
      "##############################\n",
      "MannwhitneyuResult(statistic=433.0, pvalue=0.24284057527113379)\n",
      "MannwhitneyuResult(statistic=393.0, pvalue=0.27702327185596975)\n"
     ]
    }
   ],
   "source": [
    "import scikit_posthocs as sp\n",
    "\n",
    "from scipy.stats import kruskal, f_oneway, mannwhitneyu\n",
    "\n",
    "print('#'*30)\n",
    "print(f_oneway(gfs_mean_alz.to_numpy(), gfs_mean_con.to_numpy(), gfs_mean_dem.to_numpy()))\n",
    "posthoc_x = [gfs_mean_alz.to_numpy(), gfs_mean_con.to_numpy(), gfs_mean_dem.to_numpy()]\n",
    "posthoc_g = [['alz']*gfs_mean_alz.to_numpy().shape[0], ['con']*gfs_mean_con.to_numpy().shape[0], ['dem']*gfs_mean_dem.to_numpy().shape[0]]\n",
    "print(sp.posthoc_tukey_hsd(np.concatenate(posthoc_x), np.concatenate(posthoc_g)))\n",
    "print('#'*30)\n",
    "\n",
    "print('#'*30)\n",
    "print(kruskal(gfs_mean_alz.to_numpy(), gfs_mean_con.to_numpy(), gfs_mean_dem.to_numpy()))\n",
    "print('Dunn test for Kruskal-Wallis')\n",
    "print(sp.posthoc_dunn([gfs_mean_alz.to_numpy(), gfs_mean_con.to_numpy(), gfs_mean_dem.to_numpy()], )) #p_adjust='holm'\n",
    "print('#'*30)\n",
    "\n",
    "print(mannwhitneyu(gfs_mean_alz.to_numpy(), gfs_mean_con.to_numpy()))\n",
    "print(mannwhitneyu(gfs_mean_con.to_numpy(), gfs_mean_dem.to_numpy()))"
   ]
  },
  {
   "cell_type": "markdown",
   "id": "9e33b583-2ab5-43c7-9cb4-75ca787573db",
   "metadata": {},
   "source": [
    "## cross synchronization divergence plot"
   ]
  },
  {
   "cell_type": "code",
   "execution_count": 241,
   "id": "ffd6956a-439a-49db-bf70-3b5d983d1ca6",
   "metadata": {},
   "outputs": [],
   "source": [
    "folder_name = '/media/hengjie/4TB/synchronization/'\n",
    "file_name = 'cross_synch_freq6.5-8_mean1_std0.1_range1.5_bins30_wass_Fp1Fp2F3F4C3C4P3P4O1O2F7F8T3T4T5T6FzCzPz.tsv'\n",
    "df_xsynch_data = pd.read_csv(f'{folder_name}/{file_name}', sep='\\t')#, usecols=[1,2,3])"
   ]
  },
  {
   "cell_type": "code",
   "execution_count": 242,
   "id": "1479f0fc-4a07-4a06-9237-891f5b3e5c4a",
   "metadata": {},
   "outputs": [
    {
     "data": {
      "text/html": [
       "<div>\n",
       "<style scoped>\n",
       "    .dataframe tbody tr th:only-of-type {\n",
       "        vertical-align: middle;\n",
       "    }\n",
       "\n",
       "    .dataframe tbody tr th {\n",
       "        vertical-align: top;\n",
       "    }\n",
       "\n",
       "    .dataframe thead th {\n",
       "        text-align: right;\n",
       "    }\n",
       "</style>\n",
       "<table border=\"1\" class=\"dataframe\">\n",
       "  <thead>\n",
       "    <tr style=\"text-align: right;\">\n",
       "      <th></th>\n",
       "      <th>participant_id</th>\n",
       "      <th>cross_synch</th>\n",
       "    </tr>\n",
       "  </thead>\n",
       "  <tbody>\n",
       "    <tr>\n",
       "      <th>0</th>\n",
       "      <td>sub-001</td>\n",
       "      <td>0.026860</td>\n",
       "    </tr>\n",
       "    <tr>\n",
       "      <th>1</th>\n",
       "      <td>sub-002</td>\n",
       "      <td>0.026616</td>\n",
       "    </tr>\n",
       "    <tr>\n",
       "      <th>2</th>\n",
       "      <td>sub-003</td>\n",
       "      <td>0.025579</td>\n",
       "    </tr>\n",
       "    <tr>\n",
       "      <th>3</th>\n",
       "      <td>sub-004</td>\n",
       "      <td>0.025710</td>\n",
       "    </tr>\n",
       "    <tr>\n",
       "      <th>4</th>\n",
       "      <td>sub-005</td>\n",
       "      <td>0.027536</td>\n",
       "    </tr>\n",
       "    <tr>\n",
       "      <th>...</th>\n",
       "      <td>...</td>\n",
       "      <td>...</td>\n",
       "    </tr>\n",
       "    <tr>\n",
       "      <th>83</th>\n",
       "      <td>sub-084</td>\n",
       "      <td>0.024889</td>\n",
       "    </tr>\n",
       "    <tr>\n",
       "      <th>84</th>\n",
       "      <td>sub-085</td>\n",
       "      <td>0.025076</td>\n",
       "    </tr>\n",
       "    <tr>\n",
       "      <th>85</th>\n",
       "      <td>sub-086</td>\n",
       "      <td>0.025029</td>\n",
       "    </tr>\n",
       "    <tr>\n",
       "      <th>86</th>\n",
       "      <td>sub-087</td>\n",
       "      <td>0.026253</td>\n",
       "    </tr>\n",
       "    <tr>\n",
       "      <th>87</th>\n",
       "      <td>sub-088</td>\n",
       "      <td>0.025782</td>\n",
       "    </tr>\n",
       "  </tbody>\n",
       "</table>\n",
       "<p>88 rows × 2 columns</p>\n",
       "</div>"
      ],
      "text/plain": [
       "   participant_id  cross_synch\n",
       "0         sub-001     0.026860\n",
       "1         sub-002     0.026616\n",
       "2         sub-003     0.025579\n",
       "3         sub-004     0.025710\n",
       "4         sub-005     0.027536\n",
       "..            ...          ...\n",
       "83        sub-084     0.024889\n",
       "84        sub-085     0.025076\n",
       "85        sub-086     0.025029\n",
       "86        sub-087     0.026253\n",
       "87        sub-088     0.025782\n",
       "\n",
       "[88 rows x 2 columns]"
      ]
     },
     "execution_count": 242,
     "metadata": {},
     "output_type": "execute_result"
    }
   ],
   "source": [
    "df_xsynch_data"
   ]
  },
  {
   "cell_type": "code",
   "execution_count": 243,
   "id": "38bfe065-ca55-4f63-8fca-4e7c56275cc3",
   "metadata": {},
   "outputs": [
    {
     "name": "stderr",
     "output_type": "stream",
     "text": [
      "100%|███████████████████████████████████████████████████████████████████████| 36/36 [00:00<00:00, 127961.82it/s]\n",
      "100%|███████████████████████████████████████████████████████████████████████| 29/29 [00:00<00:00, 169881.03it/s]\n",
      "100%|███████████████████████████████████████████████████████████████████████| 23/23 [00:00<00:00, 145066.15it/s]\n"
     ]
    }
   ],
   "source": [
    "alz_list = []\n",
    "for f in tqdm(alz_eeg_file, position=0):\n",
    "    split_part = f.split('/')\n",
    "    temp_participant_id = split_part[-3]\n",
    "    alz_list.append(temp_participant_id)\n",
    "    \n",
    "    \n",
    "con_list = []\n",
    "for f in tqdm(con_eeg_file, position=0): \n",
    "    split_part = f.split('/')\n",
    "    temp_participant_id = split_part[-3]\n",
    "    con_list.append(temp_participant_id)\n",
    "    \n",
    "    \n",
    "dem_list = []\n",
    "for f in tqdm((dem_eeg_file), position=0):\n",
    "    split_part = f.split('/')\n",
    "    temp_participant_id = split_part[-3]\n",
    "    dem_list.append(temp_participant_id)\n",
    "    \n",
    "\n",
    "xsynch_alz = df_xsynch_data.loc[df_xsynch_data['participant_id'].isin(alz_list), 'cross_synch']\n",
    "xsynch_con = df_xsynch_data.loc[df_xsynch_data['participant_id'].isin(con_list), 'cross_synch']\n",
    "xsynch_dem = df_xsynch_data.loc[df_xsynch_data['participant_id'].isin(dem_list), 'cross_synch']"
   ]
  },
  {
   "cell_type": "code",
   "execution_count": 244,
   "id": "0c971802-3c93-458f-aa4f-30988fb31520",
   "metadata": {},
   "outputs": [
    {
     "data": {
      "application/vnd.plotly.v1+json": {
       "config": {
        "plotlyServerURL": "https://plot.ly"
       },
       "data": [
        {
         "box": {
          "visible": true
         },
         "meanline": {
          "visible": true
         },
         "name": "Alzheimer",
         "type": "violin",
         "y": [
          0.0268604395721251,
          0.0266164318317615,
          0.0255790441287073,
          0.0257104114068078,
          0.0275360921534446,
          0.0269481653504765,
          0.0257319411245103,
          0.0258572877354864,
          0.0258911855504834,
          0.0331945661731717,
          0.0252640564029052,
          0.0281734520885094,
          0.0256035081690624,
          0.0267223102822192,
          0.0274457315080705,
          0.0296485237813316,
          0.0249636855076061,
          0.0257037795335707,
          0.0348019189699033,
          0.0288620640554824,
          0.0288470933921205,
          0.0251769576648563,
          0.0274112384838487,
          0.0255810260995123,
          0.0273880882464766,
          0.025406813936381,
          0.0251347289721656,
          0.0252775601684055,
          0.025144590091725,
          0.0276521333923251,
          0.0265467385783255,
          0.0261508168760692,
          0.0262653472461045,
          0.0266522700618039,
          0.0256984807468309,
          0.0258450551627079
         ]
        },
        {
         "box": {
          "visible": true
         },
         "meanline": {
          "visible": true
         },
         "name": "control",
         "type": "violin",
         "y": [
          0.0257222944104424,
          0.0297424407872322,
          0.025913284677805,
          0.0261863040007177,
          0.0330543360715297,
          0.0273976561684626,
          0.0311857240437563,
          0.026372049649229,
          0.0275789248820965,
          0.0259819349740074,
          0.0278762076228711,
          0.0272178819057044,
          0.0284062639019435,
          0.0256856402935163,
          0.0276444701306012,
          0.0262056433889766,
          0.0254663089730053,
          0.0256396715174569,
          0.0286853630416441,
          0.0280148383022066,
          0.0266909538490154,
          0.0262995888387689,
          0.0328920214498257,
          0.0337427907496165,
          0.0314369809379983,
          0.0265115631966556,
          0.0319678263423167,
          0.0263101179386649,
          0.0326870329805335
         ]
        },
        {
         "box": {
          "visible": true
         },
         "meanline": {
          "visible": true
         },
         "name": "dementia",
         "type": "violin",
         "y": [
          0.0259356605305139,
          0.0283398674336631,
          0.0277214446849204,
          0.0304228940255755,
          0.0295958088041134,
          0.0278727323022013,
          0.0252733483742313,
          0.0282098596752177,
          0.0269120062946919,
          0.0249955056967091,
          0.0269353282995797,
          0.0347401559825576,
          0.0310935751064807,
          0.027774555047532,
          0.0271539702466726,
          0.0273368043922257,
          0.0269128802412983,
          0.0354308025400046,
          0.024888817645675,
          0.0250763956024206,
          0.0250294004130345,
          0.0262534114364372,
          0.0257818296688296
         ]
        }
       ],
       "layout": {
        "autosize": true,
        "template": {
         "data": {
          "bar": [
           {
            "error_x": {
             "color": "#2a3f5f"
            },
            "error_y": {
             "color": "#2a3f5f"
            },
            "marker": {
             "line": {
              "color": "#E5ECF6",
              "width": 0.5
             },
             "pattern": {
              "fillmode": "overlay",
              "size": 10,
              "solidity": 0.2
             }
            },
            "type": "bar"
           }
          ],
          "barpolar": [
           {
            "marker": {
             "line": {
              "color": "#E5ECF6",
              "width": 0.5
             },
             "pattern": {
              "fillmode": "overlay",
              "size": 10,
              "solidity": 0.2
             }
            },
            "type": "barpolar"
           }
          ],
          "carpet": [
           {
            "aaxis": {
             "endlinecolor": "#2a3f5f",
             "gridcolor": "white",
             "linecolor": "white",
             "minorgridcolor": "white",
             "startlinecolor": "#2a3f5f"
            },
            "baxis": {
             "endlinecolor": "#2a3f5f",
             "gridcolor": "white",
             "linecolor": "white",
             "minorgridcolor": "white",
             "startlinecolor": "#2a3f5f"
            },
            "type": "carpet"
           }
          ],
          "choropleth": [
           {
            "colorbar": {
             "outlinewidth": 0,
             "ticks": ""
            },
            "type": "choropleth"
           }
          ],
          "contour": [
           {
            "colorbar": {
             "outlinewidth": 0,
             "ticks": ""
            },
            "colorscale": [
             [
              0,
              "#0d0887"
             ],
             [
              0.1111111111111111,
              "#46039f"
             ],
             [
              0.2222222222222222,
              "#7201a8"
             ],
             [
              0.3333333333333333,
              "#9c179e"
             ],
             [
              0.4444444444444444,
              "#bd3786"
             ],
             [
              0.5555555555555556,
              "#d8576b"
             ],
             [
              0.6666666666666666,
              "#ed7953"
             ],
             [
              0.7777777777777778,
              "#fb9f3a"
             ],
             [
              0.8888888888888888,
              "#fdca26"
             ],
             [
              1,
              "#f0f921"
             ]
            ],
            "type": "contour"
           }
          ],
          "contourcarpet": [
           {
            "colorbar": {
             "outlinewidth": 0,
             "ticks": ""
            },
            "type": "contourcarpet"
           }
          ],
          "heatmap": [
           {
            "colorbar": {
             "outlinewidth": 0,
             "ticks": ""
            },
            "colorscale": [
             [
              0,
              "#0d0887"
             ],
             [
              0.1111111111111111,
              "#46039f"
             ],
             [
              0.2222222222222222,
              "#7201a8"
             ],
             [
              0.3333333333333333,
              "#9c179e"
             ],
             [
              0.4444444444444444,
              "#bd3786"
             ],
             [
              0.5555555555555556,
              "#d8576b"
             ],
             [
              0.6666666666666666,
              "#ed7953"
             ],
             [
              0.7777777777777778,
              "#fb9f3a"
             ],
             [
              0.8888888888888888,
              "#fdca26"
             ],
             [
              1,
              "#f0f921"
             ]
            ],
            "type": "heatmap"
           }
          ],
          "heatmapgl": [
           {
            "colorbar": {
             "outlinewidth": 0,
             "ticks": ""
            },
            "colorscale": [
             [
              0,
              "#0d0887"
             ],
             [
              0.1111111111111111,
              "#46039f"
             ],
             [
              0.2222222222222222,
              "#7201a8"
             ],
             [
              0.3333333333333333,
              "#9c179e"
             ],
             [
              0.4444444444444444,
              "#bd3786"
             ],
             [
              0.5555555555555556,
              "#d8576b"
             ],
             [
              0.6666666666666666,
              "#ed7953"
             ],
             [
              0.7777777777777778,
              "#fb9f3a"
             ],
             [
              0.8888888888888888,
              "#fdca26"
             ],
             [
              1,
              "#f0f921"
             ]
            ],
            "type": "heatmapgl"
           }
          ],
          "histogram": [
           {
            "marker": {
             "pattern": {
              "fillmode": "overlay",
              "size": 10,
              "solidity": 0.2
             }
            },
            "type": "histogram"
           }
          ],
          "histogram2d": [
           {
            "colorbar": {
             "outlinewidth": 0,
             "ticks": ""
            },
            "colorscale": [
             [
              0,
              "#0d0887"
             ],
             [
              0.1111111111111111,
              "#46039f"
             ],
             [
              0.2222222222222222,
              "#7201a8"
             ],
             [
              0.3333333333333333,
              "#9c179e"
             ],
             [
              0.4444444444444444,
              "#bd3786"
             ],
             [
              0.5555555555555556,
              "#d8576b"
             ],
             [
              0.6666666666666666,
              "#ed7953"
             ],
             [
              0.7777777777777778,
              "#fb9f3a"
             ],
             [
              0.8888888888888888,
              "#fdca26"
             ],
             [
              1,
              "#f0f921"
             ]
            ],
            "type": "histogram2d"
           }
          ],
          "histogram2dcontour": [
           {
            "colorbar": {
             "outlinewidth": 0,
             "ticks": ""
            },
            "colorscale": [
             [
              0,
              "#0d0887"
             ],
             [
              0.1111111111111111,
              "#46039f"
             ],
             [
              0.2222222222222222,
              "#7201a8"
             ],
             [
              0.3333333333333333,
              "#9c179e"
             ],
             [
              0.4444444444444444,
              "#bd3786"
             ],
             [
              0.5555555555555556,
              "#d8576b"
             ],
             [
              0.6666666666666666,
              "#ed7953"
             ],
             [
              0.7777777777777778,
              "#fb9f3a"
             ],
             [
              0.8888888888888888,
              "#fdca26"
             ],
             [
              1,
              "#f0f921"
             ]
            ],
            "type": "histogram2dcontour"
           }
          ],
          "mesh3d": [
           {
            "colorbar": {
             "outlinewidth": 0,
             "ticks": ""
            },
            "type": "mesh3d"
           }
          ],
          "parcoords": [
           {
            "line": {
             "colorbar": {
              "outlinewidth": 0,
              "ticks": ""
             }
            },
            "type": "parcoords"
           }
          ],
          "pie": [
           {
            "automargin": true,
            "type": "pie"
           }
          ],
          "scatter": [
           {
            "fillpattern": {
             "fillmode": "overlay",
             "size": 10,
             "solidity": 0.2
            },
            "type": "scatter"
           }
          ],
          "scatter3d": [
           {
            "line": {
             "colorbar": {
              "outlinewidth": 0,
              "ticks": ""
             }
            },
            "marker": {
             "colorbar": {
              "outlinewidth": 0,
              "ticks": ""
             }
            },
            "type": "scatter3d"
           }
          ],
          "scattercarpet": [
           {
            "marker": {
             "colorbar": {
              "outlinewidth": 0,
              "ticks": ""
             }
            },
            "type": "scattercarpet"
           }
          ],
          "scattergeo": [
           {
            "marker": {
             "colorbar": {
              "outlinewidth": 0,
              "ticks": ""
             }
            },
            "type": "scattergeo"
           }
          ],
          "scattergl": [
           {
            "marker": {
             "colorbar": {
              "outlinewidth": 0,
              "ticks": ""
             }
            },
            "type": "scattergl"
           }
          ],
          "scattermapbox": [
           {
            "marker": {
             "colorbar": {
              "outlinewidth": 0,
              "ticks": ""
             }
            },
            "type": "scattermapbox"
           }
          ],
          "scatterpolar": [
           {
            "marker": {
             "colorbar": {
              "outlinewidth": 0,
              "ticks": ""
             }
            },
            "type": "scatterpolar"
           }
          ],
          "scatterpolargl": [
           {
            "marker": {
             "colorbar": {
              "outlinewidth": 0,
              "ticks": ""
             }
            },
            "type": "scatterpolargl"
           }
          ],
          "scatterternary": [
           {
            "marker": {
             "colorbar": {
              "outlinewidth": 0,
              "ticks": ""
             }
            },
            "type": "scatterternary"
           }
          ],
          "surface": [
           {
            "colorbar": {
             "outlinewidth": 0,
             "ticks": ""
            },
            "colorscale": [
             [
              0,
              "#0d0887"
             ],
             [
              0.1111111111111111,
              "#46039f"
             ],
             [
              0.2222222222222222,
              "#7201a8"
             ],
             [
              0.3333333333333333,
              "#9c179e"
             ],
             [
              0.4444444444444444,
              "#bd3786"
             ],
             [
              0.5555555555555556,
              "#d8576b"
             ],
             [
              0.6666666666666666,
              "#ed7953"
             ],
             [
              0.7777777777777778,
              "#fb9f3a"
             ],
             [
              0.8888888888888888,
              "#fdca26"
             ],
             [
              1,
              "#f0f921"
             ]
            ],
            "type": "surface"
           }
          ],
          "table": [
           {
            "cells": {
             "fill": {
              "color": "#EBF0F8"
             },
             "line": {
              "color": "white"
             }
            },
            "header": {
             "fill": {
              "color": "#C8D4E3"
             },
             "line": {
              "color": "white"
             }
            },
            "type": "table"
           }
          ]
         },
         "layout": {
          "annotationdefaults": {
           "arrowcolor": "#2a3f5f",
           "arrowhead": 0,
           "arrowwidth": 1
          },
          "autotypenumbers": "strict",
          "coloraxis": {
           "colorbar": {
            "outlinewidth": 0,
            "ticks": ""
           }
          },
          "colorscale": {
           "diverging": [
            [
             0,
             "#8e0152"
            ],
            [
             0.1,
             "#c51b7d"
            ],
            [
             0.2,
             "#de77ae"
            ],
            [
             0.3,
             "#f1b6da"
            ],
            [
             0.4,
             "#fde0ef"
            ],
            [
             0.5,
             "#f7f7f7"
            ],
            [
             0.6,
             "#e6f5d0"
            ],
            [
             0.7,
             "#b8e186"
            ],
            [
             0.8,
             "#7fbc41"
            ],
            [
             0.9,
             "#4d9221"
            ],
            [
             1,
             "#276419"
            ]
           ],
           "sequential": [
            [
             0,
             "#0d0887"
            ],
            [
             0.1111111111111111,
             "#46039f"
            ],
            [
             0.2222222222222222,
             "#7201a8"
            ],
            [
             0.3333333333333333,
             "#9c179e"
            ],
            [
             0.4444444444444444,
             "#bd3786"
            ],
            [
             0.5555555555555556,
             "#d8576b"
            ],
            [
             0.6666666666666666,
             "#ed7953"
            ],
            [
             0.7777777777777778,
             "#fb9f3a"
            ],
            [
             0.8888888888888888,
             "#fdca26"
            ],
            [
             1,
             "#f0f921"
            ]
           ],
           "sequentialminus": [
            [
             0,
             "#0d0887"
            ],
            [
             0.1111111111111111,
             "#46039f"
            ],
            [
             0.2222222222222222,
             "#7201a8"
            ],
            [
             0.3333333333333333,
             "#9c179e"
            ],
            [
             0.4444444444444444,
             "#bd3786"
            ],
            [
             0.5555555555555556,
             "#d8576b"
            ],
            [
             0.6666666666666666,
             "#ed7953"
            ],
            [
             0.7777777777777778,
             "#fb9f3a"
            ],
            [
             0.8888888888888888,
             "#fdca26"
            ],
            [
             1,
             "#f0f921"
            ]
           ]
          },
          "colorway": [
           "#636efa",
           "#EF553B",
           "#00cc96",
           "#ab63fa",
           "#FFA15A",
           "#19d3f3",
           "#FF6692",
           "#B6E880",
           "#FF97FF",
           "#FECB52"
          ],
          "font": {
           "color": "#2a3f5f"
          },
          "geo": {
           "bgcolor": "white",
           "lakecolor": "white",
           "landcolor": "#E5ECF6",
           "showlakes": true,
           "showland": true,
           "subunitcolor": "white"
          },
          "hoverlabel": {
           "align": "left"
          },
          "hovermode": "closest",
          "mapbox": {
           "style": "light"
          },
          "paper_bgcolor": "white",
          "plot_bgcolor": "#E5ECF6",
          "polar": {
           "angularaxis": {
            "gridcolor": "white",
            "linecolor": "white",
            "ticks": ""
           },
           "bgcolor": "#E5ECF6",
           "radialaxis": {
            "gridcolor": "white",
            "linecolor": "white",
            "ticks": ""
           }
          },
          "scene": {
           "xaxis": {
            "backgroundcolor": "#E5ECF6",
            "gridcolor": "white",
            "gridwidth": 2,
            "linecolor": "white",
            "showbackground": true,
            "ticks": "",
            "zerolinecolor": "white"
           },
           "yaxis": {
            "backgroundcolor": "#E5ECF6",
            "gridcolor": "white",
            "gridwidth": 2,
            "linecolor": "white",
            "showbackground": true,
            "ticks": "",
            "zerolinecolor": "white"
           },
           "zaxis": {
            "backgroundcolor": "#E5ECF6",
            "gridcolor": "white",
            "gridwidth": 2,
            "linecolor": "white",
            "showbackground": true,
            "ticks": "",
            "zerolinecolor": "white"
           }
          },
          "shapedefaults": {
           "line": {
            "color": "#2a3f5f"
           }
          },
          "ternary": {
           "aaxis": {
            "gridcolor": "white",
            "linecolor": "white",
            "ticks": ""
           },
           "baxis": {
            "gridcolor": "white",
            "linecolor": "white",
            "ticks": ""
           },
           "bgcolor": "#E5ECF6",
           "caxis": {
            "gridcolor": "white",
            "linecolor": "white",
            "ticks": ""
           }
          },
          "title": {
           "x": 0.05
          },
          "xaxis": {
           "automargin": true,
           "gridcolor": "white",
           "linecolor": "white",
           "ticks": "",
           "title": {
            "standoff": 15
           },
           "zerolinecolor": "white",
           "zerolinewidth": 2
          },
          "yaxis": {
           "automargin": true,
           "gridcolor": "white",
           "linecolor": "white",
           "ticks": "",
           "title": {
            "standoff": 15
           },
           "zerolinecolor": "white",
           "zerolinewidth": 2
          }
         }
        },
        "xaxis": {
         "autorange": true,
         "range": [
          -0.5,
          2.5
         ],
         "type": "category"
        },
        "yaxis": {
         "autorange": true,
         "range": [
          0.0217849321746206,
          0.038344510374726096
         ],
         "type": "linear"
        }
       }
      },
      "image/png": "[encoded data removed]",
      "text/html": [
       "<div>                            <div id=\"93c66514-a57f-491f-9eb3-a36e4c6b721f\" class=\"plotly-graph-div\" style=\"height:525px; width:100%;\"></div>            <script type=\"text/javascript\">                require([\"plotly\"], function(Plotly) {                    window.PLOTLYENV=window.PLOTLYENV || {};                                    if (document.getElementById(\"93c66514-a57f-491f-9eb3-a36e4c6b721f\")) {                    Plotly.newPlot(                        \"93c66514-a57f-491f-9eb3-a36e4c6b721f\",                        [{\"box\":{\"visible\":true},\"meanline\":{\"visible\":true},\"name\":\"Alzheimer\",\"y\":[0.0268604395721251,0.0266164318317615,0.0255790441287073,0.0257104114068078,0.0275360921534446,0.0269481653504765,0.0257319411245103,0.0258572877354864,0.0258911855504834,0.0331945661731717,0.0252640564029052,0.0281734520885094,0.0256035081690624,0.0267223102822192,0.0274457315080705,0.0296485237813316,0.0249636855076061,0.0257037795335707,0.0348019189699033,0.0288620640554824,0.0288470933921205,0.0251769576648563,0.0274112384838487,0.0255810260995123,0.0273880882464766,0.025406813936381,0.0251347289721656,0.0252775601684055,0.025144590091725,0.0276521333923251,0.0265467385783255,0.0261508168760692,0.0262653472461045,0.0266522700618039,0.0256984807468309,0.0258450551627079],\"type\":\"violin\"},{\"box\":{\"visible\":true},\"meanline\":{\"visible\":true},\"name\":\"control\",\"y\":[0.0257222944104424,0.0297424407872322,0.025913284677805,0.0261863040007177,0.0330543360715297,0.0273976561684626,0.0311857240437563,0.026372049649229,0.0275789248820965,0.0259819349740074,0.0278762076228711,0.0272178819057044,0.0284062639019435,0.0256856402935163,0.0276444701306012,0.0262056433889766,0.0254663089730053,0.0256396715174569,0.0286853630416441,0.0280148383022066,0.0266909538490154,0.0262995888387689,0.0328920214498257,0.0337427907496165,0.0314369809379983,0.0265115631966556,0.0319678263423167,0.0263101179386649,0.0326870329805335],\"type\":\"violin\"},{\"box\":{\"visible\":true},\"meanline\":{\"visible\":true},\"name\":\"dementia\",\"y\":[0.0259356605305139,0.0283398674336631,0.0277214446849204,0.0304228940255755,0.0295958088041134,0.0278727323022013,0.0252733483742313,0.0282098596752177,0.0269120062946919,0.0249955056967091,0.0269353282995797,0.0347401559825576,0.0310935751064807,0.027774555047532,0.0271539702466726,0.0273368043922257,0.0269128802412983,0.0354308025400046,0.024888817645675,0.0250763956024206,0.0250294004130345,0.0262534114364372,0.0257818296688296],\"type\":\"violin\"}],                        {\"template\":{\"data\":{\"histogram2dcontour\":[{\"type\":\"histogram2dcontour\",\"colorbar\":{\"outlinewidth\":0,\"ticks\":\"\"},\"colorscale\":[[0.0,\"#0d0887\"],[0.1111111111111111,\"#46039f\"],[0.2222222222222222,\"#7201a8\"],[0.3333333333333333,\"#9c179e\"],[0.4444444444444444,\"#bd3786\"],[0.5555555555555556,\"#d8576b\"],[0.6666666666666666,\"#ed7953\"],[0.7777777777777778,\"#fb9f3a\"],[0.8888888888888888,\"#fdca26\"],[1.0,\"#f0f921\"]]}],\"choropleth\":[{\"type\":\"choropleth\",\"colorbar\":{\"outlinewidth\":0,\"ticks\":\"\"}}],\"histogram2d\":[{\"type\":\"histogram2d\",\"colorbar\":{\"outlinewidth\":0,\"ticks\":\"\"},\"colorscale\":[[0.0,\"#0d0887\"],[0.1111111111111111,\"#46039f\"],[0.2222222222222222,\"#7201a8\"],[0.3333333333333333,\"#9c179e\"],[0.4444444444444444,\"#bd3786\"],[0.5555555555555556,\"#d8576b\"],[0.6666666666666666,\"#ed7953\"],[0.7777777777777778,\"#fb9f3a\"],[0.8888888888888888,\"#fdca26\"],[1.0,\"#f0f921\"]]}],\"heatmap\":[{\"type\":\"heatmap\",\"colorbar\":{\"outlinewidth\":0,\"ticks\":\"\"},\"colorscale\":[[0.0,\"#0d0887\"],[0.1111111111111111,\"#46039f\"],[0.2222222222222222,\"#7201a8\"],[0.3333333333333333,\"#9c179e\"],[0.4444444444444444,\"#bd3786\"],[0.5555555555555556,\"#d8576b\"],[0.6666666666666666,\"#ed7953\"],[0.7777777777777778,\"#fb9f3a\"],[0.8888888888888888,\"#fdca26\"],[1.0,\"#f0f921\"]]}],\"heatmapgl\":[{\"type\":\"heatmapgl\",\"colorbar\":{\"outlinewidth\":0,\"ticks\":\"\"},\"colorscale\":[[0.0,\"#0d0887\"],[0.1111111111111111,\"#46039f\"],[0.2222222222222222,\"#7201a8\"],[0.3333333333333333,\"#9c179e\"],[0.4444444444444444,\"#bd3786\"],[0.5555555555555556,\"#d8576b\"],[0.6666666666666666,\"#ed7953\"],[0.7777777777777778,\"#fb9f3a\"],[0.8888888888888888,\"#fdca26\"],[1.0,\"#f0f921\"]]}],\"contourcarpet\":[{\"type\":\"contourcarpet\",\"colorbar\":{\"outlinewidth\":0,\"ticks\":\"\"}}],\"contour\":[{\"type\":\"contour\",\"colorbar\":{\"outlinewidth\":0,\"ticks\":\"\"},\"colorscale\":[[0.0,\"#0d0887\"],[0.1111111111111111,\"#46039f\"],[0.2222222222222222,\"#7201a8\"],[0.3333333333333333,\"#9c179e\"],[0.4444444444444444,\"#bd3786\"],[0.5555555555555556,\"#d8576b\"],[0.6666666666666666,\"#ed7953\"],[0.7777777777777778,\"#fb9f3a\"],[0.8888888888888888,\"#fdca26\"],[1.0,\"#f0f921\"]]}],\"surface\":[{\"type\":\"surface\",\"colorbar\":{\"outlinewidth\":0,\"ticks\":\"\"},\"colorscale\":[[0.0,\"#0d0887\"],[0.1111111111111111,\"#46039f\"],[0.2222222222222222,\"#7201a8\"],[0.3333333333333333,\"#9c179e\"],[0.4444444444444444,\"#bd3786\"],[0.5555555555555556,\"#d8576b\"],[0.6666666666666666,\"#ed7953\"],[0.7777777777777778,\"#fb9f3a\"],[0.8888888888888888,\"#fdca26\"],[1.0,\"#f0f921\"]]}],\"mesh3d\":[{\"type\":\"mesh3d\",\"colorbar\":{\"outlinewidth\":0,\"ticks\":\"\"}}],\"scatter\":[{\"fillpattern\":{\"fillmode\":\"overlay\",\"size\":10,\"solidity\":0.2},\"type\":\"scatter\"}],\"parcoords\":[{\"type\":\"parcoords\",\"line\":{\"colorbar\":{\"outlinewidth\":0,\"ticks\":\"\"}}}],\"scatterpolargl\":[{\"type\":\"scatterpolargl\",\"marker\":{\"colorbar\":{\"outlinewidth\":0,\"ticks\":\"\"}}}],\"bar\":[{\"error_x\":{\"color\":\"#2a3f5f\"},\"error_y\":{\"color\":\"#2a3f5f\"},\"marker\":{\"line\":{\"color\":\"#E5ECF6\",\"width\":0.5},\"pattern\":{\"fillmode\":\"overlay\",\"size\":10,\"solidity\":0.2}},\"type\":\"bar\"}],\"scattergeo\":[{\"type\":\"scattergeo\",\"marker\":{\"colorbar\":{\"outlinewidth\":0,\"ticks\":\"\"}}}],\"scatterpolar\":[{\"type\":\"scatterpolar\",\"marker\":{\"colorbar\":{\"outlinewidth\":0,\"ticks\":\"\"}}}],\"histogram\":[{\"marker\":{\"pattern\":{\"fillmode\":\"overlay\",\"size\":10,\"solidity\":0.2}},\"type\":\"histogram\"}],\"scattergl\":[{\"type\":\"scattergl\",\"marker\":{\"colorbar\":{\"outlinewidth\":0,\"ticks\":\"\"}}}],\"scatter3d\":[{\"type\":\"scatter3d\",\"line\":{\"colorbar\":{\"outlinewidth\":0,\"ticks\":\"\"}},\"marker\":{\"colorbar\":{\"outlinewidth\":0,\"ticks\":\"\"}}}],\"scattermapbox\":[{\"type\":\"scattermapbox\",\"marker\":{\"colorbar\":{\"outlinewidth\":0,\"ticks\":\"\"}}}],\"scatterternary\":[{\"type\":\"scatterternary\",\"marker\":{\"colorbar\":{\"outlinewidth\":0,\"ticks\":\"\"}}}],\"scattercarpet\":[{\"type\":\"scattercarpet\",\"marker\":{\"colorbar\":{\"outlinewidth\":0,\"ticks\":\"\"}}}],\"carpet\":[{\"aaxis\":{\"endlinecolor\":\"#2a3f5f\",\"gridcolor\":\"white\",\"linecolor\":\"white\",\"minorgridcolor\":\"white\",\"startlinecolor\":\"#2a3f5f\"},\"baxis\":{\"endlinecolor\":\"#2a3f5f\",\"gridcolor\":\"white\",\"linecolor\":\"white\",\"minorgridcolor\":\"white\",\"startlinecolor\":\"#2a3f5f\"},\"type\":\"carpet\"}],\"table\":[{\"cells\":{\"fill\":{\"color\":\"#EBF0F8\"},\"line\":{\"color\":\"white\"}},\"header\":{\"fill\":{\"color\":\"#C8D4E3\"},\"line\":{\"color\":\"white\"}},\"type\":\"table\"}],\"barpolar\":[{\"marker\":{\"line\":{\"color\":\"#E5ECF6\",\"width\":0.5},\"pattern\":{\"fillmode\":\"overlay\",\"size\":10,\"solidity\":0.2}},\"type\":\"barpolar\"}],\"pie\":[{\"automargin\":true,\"type\":\"pie\"}]},\"layout\":{\"autotypenumbers\":\"strict\",\"colorway\":[\"#636efa\",\"#EF553B\",\"#00cc96\",\"#ab63fa\",\"#FFA15A\",\"#19d3f3\",\"#FF6692\",\"#B6E880\",\"#FF97FF\",\"#FECB52\"],\"font\":{\"color\":\"#2a3f5f\"},\"hovermode\":\"closest\",\"hoverlabel\":{\"align\":\"left\"},\"paper_bgcolor\":\"white\",\"plot_bgcolor\":\"#E5ECF6\",\"polar\":{\"bgcolor\":\"#E5ECF6\",\"angularaxis\":{\"gridcolor\":\"white\",\"linecolor\":\"white\",\"ticks\":\"\"},\"radialaxis\":{\"gridcolor\":\"white\",\"linecolor\":\"white\",\"ticks\":\"\"}},\"ternary\":{\"bgcolor\":\"#E5ECF6\",\"aaxis\":{\"gridcolor\":\"white\",\"linecolor\":\"white\",\"ticks\":\"\"},\"baxis\":{\"gridcolor\":\"white\",\"linecolor\":\"white\",\"ticks\":\"\"},\"caxis\":{\"gridcolor\":\"white\",\"linecolor\":\"white\",\"ticks\":\"\"}},\"coloraxis\":{\"colorbar\":{\"outlinewidth\":0,\"ticks\":\"\"}},\"colorscale\":{\"sequential\":[[0.0,\"#0d0887\"],[0.1111111111111111,\"#46039f\"],[0.2222222222222222,\"#7201a8\"],[0.3333333333333333,\"#9c179e\"],[0.4444444444444444,\"#bd3786\"],[0.5555555555555556,\"#d8576b\"],[0.6666666666666666,\"#ed7953\"],[0.7777777777777778,\"#fb9f3a\"],[0.8888888888888888,\"#fdca26\"],[1.0,\"#f0f921\"]],\"sequentialminus\":[[0.0,\"#0d0887\"],[0.1111111111111111,\"#46039f\"],[0.2222222222222222,\"#7201a8\"],[0.3333333333333333,\"#9c179e\"],[0.4444444444444444,\"#bd3786\"],[0.5555555555555556,\"#d8576b\"],[0.6666666666666666,\"#ed7953\"],[0.7777777777777778,\"#fb9f3a\"],[0.8888888888888888,\"#fdca26\"],[1.0,\"#f0f921\"]],\"diverging\":[[0,\"#8e0152\"],[0.1,\"#c51b7d\"],[0.2,\"#de77ae\"],[0.3,\"#f1b6da\"],[0.4,\"#fde0ef\"],[0.5,\"#f7f7f7\"],[0.6,\"#e6f5d0\"],[0.7,\"#b8e186\"],[0.8,\"#7fbc41\"],[0.9,\"#4d9221\"],[1,\"#276419\"]]},\"xaxis\":{\"gridcolor\":\"white\",\"linecolor\":\"white\",\"ticks\":\"\",\"title\":{\"standoff\":15},\"zerolinecolor\":\"white\",\"automargin\":true,\"zerolinewidth\":2},\"yaxis\":{\"gridcolor\":\"white\",\"linecolor\":\"white\",\"ticks\":\"\",\"title\":{\"standoff\":15},\"zerolinecolor\":\"white\",\"automargin\":true,\"zerolinewidth\":2},\"scene\":{\"xaxis\":{\"backgroundcolor\":\"#E5ECF6\",\"gridcolor\":\"white\",\"linecolor\":\"white\",\"showbackground\":true,\"ticks\":\"\",\"zerolinecolor\":\"white\",\"gridwidth\":2},\"yaxis\":{\"backgroundcolor\":\"#E5ECF6\",\"gridcolor\":\"white\",\"linecolor\":\"white\",\"showbackground\":true,\"ticks\":\"\",\"zerolinecolor\":\"white\",\"gridwidth\":2},\"zaxis\":{\"backgroundcolor\":\"#E5ECF6\",\"gridcolor\":\"white\",\"linecolor\":\"white\",\"showbackground\":true,\"ticks\":\"\",\"zerolinecolor\":\"white\",\"gridwidth\":2}},\"shapedefaults\":{\"line\":{\"color\":\"#2a3f5f\"}},\"annotationdefaults\":{\"arrowcolor\":\"#2a3f5f\",\"arrowhead\":0,\"arrowwidth\":1},\"geo\":{\"bgcolor\":\"white\",\"landcolor\":\"#E5ECF6\",\"subunitcolor\":\"white\",\"showland\":true,\"showlakes\":true,\"lakecolor\":\"white\"},\"title\":{\"x\":0.05},\"mapbox\":{\"style\":\"light\"}}}},                        {\"responsive\": true}                    ).then(function(){\n",
       "                            \n",
       "var gd = document.getElementById('93c66514-a57f-491f-9eb3-a36e4c6b721f');\n",
       "var x = new MutationObserver(function (mutations, observer) {{\n",
       "        var display = window.getComputedStyle(gd).display;\n",
       "        if (!display || display === 'none') {{\n",
       "            console.log([gd, 'removed!']);\n",
       "            Plotly.purge(gd);\n",
       "            observer.disconnect();\n",
       "        }}\n",
       "}});\n",
       "\n",
       "// Listen for the removal of the full notebook cells\n",
       "var notebookContainer = gd.closest('#notebook-container');\n",
       "if (notebookContainer) {{\n",
       "    x.observe(notebookContainer, {childList: true});\n",
       "}}\n",
       "\n",
       "// Listen for the clearing of the current output cell\n",
       "var outputEl = gd.closest('.output');\n",
       "if (outputEl) {{\n",
       "    x.observe(outputEl, {childList: true});\n",
       "}}\n",
       "\n",
       "                        })                };                });            </script>        </div>"
      ]
     },
     "metadata": {},
     "output_type": "display_data"
    }
   ],
   "source": [
    "fig = go.Figure()\n",
    "fig.add_trace(go.Violin(\n",
    "    y=xsynch_alz, \n",
    "    name='Alzheimer',\n",
    "    box_visible=True, \n",
    "    meanline_visible=True,\n",
    "))\n",
    "fig.add_trace(go.Violin(\n",
    "    y=xsynch_con,\n",
    "    name='control',\n",
    "    box_visible=True, \n",
    "    meanline_visible=True,\n",
    "))\n",
    "fig.add_trace(go.Violin(\n",
    "    y=xsynch_dem, \n",
    "    name='dementia',\n",
    "    box_visible=True, \n",
    "    meanline_visible=True,\n",
    "))\n",
    "fig.show()"
   ]
  },
  {
   "cell_type": "code",
   "execution_count": 246,
   "id": "12946d9f-84b7-4d29-90e8-e8532c17034d",
   "metadata": {},
   "outputs": [
    {
     "name": "stdout",
     "output_type": "stream",
     "text": [
      "##############################\n",
      "F_onewayResult(statistic=2.520730143854054, pvalue=0.0863966351310986)\n",
      "     alz  con  dem\n",
      "alz    1    0    0\n",
      "con    0    1    0\n",
      "dem    0    0    1\n",
      "##############################\n",
      "##############################\n",
      "KruskalResult(statistic=6.241398644395872, pvalue=0.04412629912666795)\n",
      "Dunn test for Kruskal-Wallis\n",
      "          1         2         3\n",
      "1  1.000000  0.042641  0.289461\n",
      "2  0.042641  1.000000  0.425573\n",
      "3  0.289461  0.425573  1.000000\n",
      "##############################\n",
      "MannwhitneyuResult(statistic=332.0, pvalue=0.012391583454133026)\n",
      "MannwhitneyuResult(statistic=372.0, pvalue=0.48385147698367215)\n",
      "check PMF of data: \t 1.0000000000000022\n",
      "mean of data: \t 0.5684301741817475\n",
      "std of data: \t 0.5633783561450915\n",
      "check PMF of normal: \t 1.0000000000000016\n",
      "check normal PMF mean: \t 1.0001500000000016\n",
      "check normal PMF std: \t 0.10393256226996424\n",
      "bin size of PMF: 30\n",
      "check PMF of data: \t 1.0000000000000029\n",
      "mean of data: \t 0.7272351605178956\n",
      "std of data: \t 0.44380935570874147\n",
      "check PMF of normal: \t 1.0000000000000018\n",
      "check normal PMF mean: \t 0.9996880000000015\n",
      "check normal PMF std: \t 0.10394470961044623\n",
      "bin size of PMF: 30\n",
      "check PMF of data: \t 1.0000000000000029\n",
      "mean of data: \t 0.7365348922337708\n",
      "std of data: \t 0.4457212198654315\n",
      "check PMF of normal: \t 1.0000000000000016\n",
      "check normal PMF mean: \t 0.9998890000000017\n",
      "check normal PMF std: \t 0.10396339586123567\n",
      "bin size of PMF: 30\n",
      "check PMF of data: \t 1.0000000000000022\n",
      "mean of data: \t 0.6116063441824238\n",
      "std of data: \t 0.5343673616526492\n",
      "check PMF of normal: \t 1.0000000000000016\n",
      "check normal PMF mean: \t 0.9998470000000018\n",
      "check normal PMF std: \t 0.10457904470303786\n",
      "bin size of PMF: 30\n",
      "check PMF of data: \t 1.0000000000000022\n",
      "mean of data: \t 0.557616341625932\n",
      "std of data: \t 0.5686763503955026\n",
      "check PMF of normal: \t 1.0000000000000016\n",
      "check normal PMF mean: \t 0.9997660000000016\n",
      "check normal PMF std: \t 0.10438556051485277\n",
      "bin size of PMF: 30\n",
      "check PMF of data: \t 1.0000000000000027\n",
      "mean of data: \t 0.6688856436183779\n",
      "std of data: \t 0.49003485552067094\n",
      "check PMF of normal: \t 1.0000000000000016\n",
      "check normal PMF mean: \t 0.9999360000000016\n",
      "check normal PMF std: \t 0.10405573460410529\n",
      "bin size of PMF: 30\n",
      "check PMF of data: \t 1.0000000000000027\n",
      "mean of data: \t 0.7115189310458467\n",
      "std of data: \t 0.45652933809214014\n",
      "check PMF of normal: \t 1.0000000000000016\n",
      "check normal PMF mean: \t 1.0000920000000018\n",
      "check normal PMF std: \t 0.10354028943363058\n",
      "bin size of PMF: 30\n"
     ]
    }
   ],
   "source": [
    "import scikit_posthocs as sp\n",
    "\n",
    "from scipy.stats import kruskal, f_oneway, mannwhitneyu\n",
    "\n",
    "print('#'*30)\n",
    "print(f_oneway(xsynch_alz.to_numpy(), xsynch_con.to_numpy(), xsynch_dem.to_numpy()))\n",
    "posthoc_x = [xsynch_alz.to_numpy(), xsynch_con.to_numpy(), xsynch_dem.to_numpy()]\n",
    "posthoc_g = [['alz']*xsynch_alz.to_numpy().shape[0], ['con']*xsynch_con.to_numpy().shape[0], ['dem']*xsynch_dem.to_numpy().shape[0]]\n",
    "print(sp.posthoc_tukey_hsd(np.concatenate(posthoc_x), np.concatenate(posthoc_g)))\n",
    "print('#'*30)\n",
    "\n",
    "print('#'*30)\n",
    "print(kruskal(xsynch_alz.to_numpy(), xsynch_con.to_numpy(), xsynch_dem.to_numpy()))\n",
    "print('Dunn test for Kruskal-Wallis')\n",
    "print(sp.posthoc_dunn([xsynch_alz.to_numpy(), xsynch_con.to_numpy(), xsynch_dem.to_numpy()], p_adjust='holm'))\n",
    "print('#'*30)\n",
    "\n",
    "print(mannwhitneyu(xsynch_alz.to_numpy(), xsynch_con.to_numpy()))\n",
    "print(mannwhitneyu(xsynch_con.to_numpy(), xsynch_dem.to_numpy()))"
   ]
  },
  {
   "cell_type": "markdown",
   "id": "262349c6-432e-4a5e-831e-27fd976e36ab",
   "metadata": {},
   "source": [
    "# SVM classification\n",
    "Should also try it with Random Forest classification too."
   ]
  },
  {
   "cell_type": "code",
   "execution_count": null,
   "id": "750512bc-ea97-4569-b3b9-f7776f67148e",
   "metadata": {},
   "outputs": [],
   "source": []
  }
 ],
 "metadata": {
  "kernelspec": {
   "display_name": "Python 3 (ipykernel)",
   "language": "python",
   "name": "python3"
  },
  "language_info": {
   "codemirror_mode": {
    "name": "ipython",
    "version": 3
   },
   "file_extension": ".py",
   "mimetype": "text/x-python",
   "name": "python",
   "nbconvert_exporter": "python",
   "pygments_lexer": "ipython3",
   "version": "3.9.13"
  }
 },
 "nbformat": 4,
 "nbformat_minor": 5
}
